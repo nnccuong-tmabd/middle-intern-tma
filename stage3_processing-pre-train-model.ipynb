{
 "cells": [
  {
   "cell_type": "code",
   "execution_count": 1,
   "metadata": {},
   "outputs": [],
   "source": [
    "import json\n",
    "\n",
    "# read file json data_skill_tensor.json\n",
    "\n",
    "with open('data/train/total_skill_jds.json', 'r') as f:\n",
    "    total_skill_jds = json.load(f)\n",
    "\n",
    "f.close()"
   ]
  },
  {
   "cell_type": "markdown",
   "metadata": {},
   "source": [
    "# Filter Data"
   ]
  },
  {
   "cell_type": "code",
   "execution_count": 2,
   "metadata": {},
   "outputs": [],
   "source": [
    "import json\n",
    "\n",
    "with open('data/removed_skill.json', 'r') as f:\n",
    "    removed_skill = json.load(f)\n",
    "\n",
    "f.close()"
   ]
  },
  {
   "cell_type": "code",
   "execution_count": 3,
   "metadata": {},
   "outputs": [],
   "source": [
    "for idx, skills in enumerate(total_skill_jds):\n",
    "    total_skill_jds[idx] = [s for s in skills if s not in removed_skill]"
   ]
  },
  {
   "cell_type": "code",
   "execution_count": 27,
   "metadata": {},
   "outputs": [],
   "source": [
    "# # save to train\n",
    "# import json\n",
    "\n",
    "# json_path = 'data/train/total_skill_jds_removed_minout.json'\n",
    "# with open(json_path, 'w') as f:\n",
    "#     json.dump(total_skill_jds, f, indent=4)"
   ]
  },
  {
   "cell_type": "code",
   "execution_count": 1,
   "metadata": {},
   "outputs": [],
   "source": [
    "import json\n",
    "\n",
    "json_path = 'data/train/total_skill_jds_removed_minout.json'\n",
    "\n",
    "with open(json_path, 'r') as f:\n",
    "    total_skill_jds = json.load(f)\n",
    "\n",
    "f.close()"
   ]
  },
  {
   "cell_type": "markdown",
   "metadata": {},
   "source": [
    "# Augmentation Data"
   ]
  },
  {
   "cell_type": "markdown",
   "metadata": {},
   "source": [
    "## Pre Augmentation"
   ]
  },
  {
   "cell_type": "code",
   "execution_count": 2,
   "metadata": {},
   "outputs": [
    {
     "name": "stdout",
     "output_type": "stream",
     "text": [
      "Total valid skill: 36806\n"
     ]
    }
   ],
   "source": [
    "# valid data\n",
    "valid_data_path = 'data/valid/skills_valid.json'\n",
    "\n",
    "def load_valid_data(filename):\n",
    "\n",
    "    with open(filename, 'r') as f:\n",
    "        valid_data = json.load(f)\n",
    "\n",
    "    f.close()\n",
    "\n",
    "    # total valid skill\n",
    "    total_valid_skill = 0\n",
    "    for skill in valid_data.keys():\n",
    "        total_valid_skill += len(valid_data[skill])\n",
    "\n",
    "    print(f'Total valid skill: {total_valid_skill}')\n",
    "\n",
    "    return valid_data\n",
    "\n",
    "valid_data = load_valid_data(valid_data_path)"
   ]
  },
  {
   "cell_type": "code",
   "execution_count": 26,
   "metadata": {},
   "outputs": [],
   "source": [
    "def get_frequency_skill(skills_jds):\n",
    "\n",
    "    frequency_skills = {}\n",
    "    for skills in skills_jds:\n",
    "        for skill in skills:\n",
    "            if skill not in list(frequency_skills.keys()):\n",
    "                frequency_skills[skill] = 1\n",
    "            else:\n",
    "                frequency_skills[skill] += 1\n",
    "\n",
    "     # Sort the dictionary by frequency in descending order\n",
    "    sorted_frequency_skills = dict(sorted(frequency_skills.items(), key=lambda item: item[1], reverse=True))\n",
    "    \n",
    "    return sorted_frequency_skills"
   ]
  },
  {
   "cell_type": "code",
   "execution_count": 60,
   "metadata": {},
   "outputs": [],
   "source": [
    "def find_frequency_skill_around(skill, k=-1, size=10, total_skill_jds=total_skill_jds):\n",
    "    frequency = {}\n",
    "    for skills in total_skill_jds:\n",
    "        \n",
    "        if skill in skills:\n",
    "            # get sublist with size is from center to horizon\n",
    "            index = skills.index(skill)\n",
    "            sublist = list()\n",
    "            start=int\n",
    "            end=int\n",
    "            if len(skills) <= size * 2 + 1:\n",
    "                sublist = skills.copy()\n",
    "            else:\n",
    "                start = index - size\n",
    "                end = index + size\n",
    "                if start < 0:\n",
    "                    start = 0\n",
    "                if end > len(skills):\n",
    "                    end=len(skills)\n",
    "\n",
    "                sublist = skills[start:end].copy()\n",
    "\n",
    "            for s in sublist:\n",
    "                if s in frequency:\n",
    "                    frequency[s] += 1\n",
    "                else:\n",
    "                    frequency[s] = 1\n",
    "            \n",
    "        else:\n",
    "            continue\n",
    "\n",
    "    # sort frequency\n",
    "    frequency = {k: v for k, v in sorted(frequency.items(), key=lambda item: item[1], reverse=True)}\n",
    "\n",
    "    if k == -1:\n",
    "        return frequency\n",
    "    else:\n",
    "        # return top k skill and remove top 1 (skill a)\n",
    "        return {i: frequency[i] for i in list(frequency)[1:k+1]}"
   ]
  },
  {
   "cell_type": "code",
   "execution_count": 42,
   "metadata": {},
   "outputs": [],
   "source": [
    "frequency = get_frequency_skill(total_skill_jds)"
   ]
  },
  {
   "cell_type": "code",
   "execution_count": 64,
   "metadata": {},
   "outputs": [],
   "source": [
    "import math\n",
    "\n",
    "def group_skills_relevant(skills, size=20):\n",
    "\n",
    "    skills_copy = skills.copy()\n",
    "    # short by frequency of skill\n",
    "    skills_copy = sorted(skills_copy, key=lambda x: frequency[x], reverse=True)\n",
    "\n",
    "    num_group = math.ceil(len(skills) / size)\n",
    "    len_last_group = round(math.modf(len(skills) / size)[0] * size)\n",
    "\n",
    "    sorted_skill = [] # list of list (group)\n",
    "\n",
    "    for idx in range(num_group):\n",
    "\n",
    "        if idx != num_group - 1:\n",
    "            len_group = size\n",
    "        else:\n",
    "            sorted_skill.append(skills_copy)\n",
    "\n",
    "            return sorted_skill\n",
    "\n",
    "        start_gr = 0\n",
    "        stake = skills_copy[start_gr]\n",
    "        \n",
    "        skills_copy.pop(start_gr)\n",
    "        \n",
    "        group_skill = []\n",
    "        group_skill.append(stake)\n",
    "\n",
    "        #region block code 1: find skill in list in around skill\n",
    "        around_skill = find_frequency_skill_around(stake, len_group)\n",
    "        for i, skill in enumerate(skills_copy):\n",
    "\n",
    "            # region block code 2: end find relevant skill\n",
    "            if len(group_skill) == len_group:\n",
    "                # sorted_skill.append(group_skill)\n",
    "                break\n",
    "            # endregion\n",
    "\n",
    "            if skill in around_skill:\n",
    "                group_skill.append(skill)\n",
    "                skills_copy.pop(i)\n",
    "        #endregion\n",
    "\n",
    "        if len(group_skill) < len_group and len(group_skill) > 1:\n",
    "\n",
    "            choose_skill = group_skill[1:].copy()\n",
    "            for _ in range(len(group_skill)-1):\n",
    "                #region block code 2\n",
    "                if len(group_skill) == len_group:\n",
    "                    break\n",
    "                #endregion\n",
    "                \n",
    "                pivot_skill = max(choose_skill, key=lambda x: around_skill[x])\n",
    "                choose_skill = [s for s in choose_skill if s != pivot_skill]\n",
    "                # region block code 1\n",
    "                around_pivot = find_frequency_skill_around(pivot_skill, len_group-len(group_skill))\n",
    "                for i, skill in enumerate(skills_copy):\n",
    "                    \n",
    "                    # region block code 2\n",
    "                    if len(group_skill) == len_group:\n",
    "                        break\n",
    "                    # endregion\n",
    "\n",
    "                    if skill in around_pivot:\n",
    "                        group_skill.append(skill)\n",
    "                        skills_copy.pop(i)\n",
    "                #endregion\n",
    "\n",
    "        # when loop don't find all element in group\n",
    "        if len(group_skill) < len_group:\n",
    "            len_last_group = len_last_group + (len_group - len(group_skill))\n",
    "            \n",
    "        \n",
    "        sorted_skill.append(group_skill)\n",
    "            \n",
    "    return sorted_skill"
   ]
  },
  {
   "cell_type": "code",
   "execution_count": 65,
   "metadata": {},
   "outputs": [
    {
     "data": {
      "text/plain": [
       "[['css',\n",
       "  'sql',\n",
       "  'html',\n",
       "  'react',\n",
       "  'c#',\n",
       "  'jquery',\n",
       "  'cd',\n",
       "  'angular',\n",
       "  '.net',\n",
       "  'vue.js',\n",
       "  'sql server',\n",
       "  'git',\n",
       "  'ajax'],\n",
       " ['powershell',\n",
       "  'operations',\n",
       "  'jenkins',\n",
       "  'tdd',\n",
       "  'unit testing',\n",
       "  'databases',\n",
       "  'scalability',\n",
       "  'automated testing',\n",
       "  'selenium',\n",
       "  'quality assurance',\n",
       "  'web development',\n",
       "  'mvc',\n",
       "  'business continuity',\n",
       "  'asp.net extensions for ajax',\n",
       "  'nunit',\n",
       "  'static code analysis',\n",
       "  'mstest']]"
      ]
     },
     "execution_count": 65,
     "metadata": {},
     "output_type": "execute_result"
    }
   ],
   "source": [
    "example = [\n",
    "        \"sql server\",\n",
    "        \"scalability\",\n",
    "        \"selenium\",\n",
    "        \"css\",\n",
    "        \"nunit\",\n",
    "        \"powershell\",\n",
    "        \"asp.net extensions for ajax\",\n",
    "        \"operations\",\n",
    "        \"angular\",\n",
    "        \"jquery\",\n",
    "        \"c#\",\n",
    "        \"ajax\",\n",
    "        \"cd\",\n",
    "        \"quality assurance\",\n",
    "        \"vue.js\",\n",
    "        \"react\",\n",
    "        \"automated testing\",\n",
    "        \"business continuity\",\n",
    "        \"web development\",\n",
    "        \"mstest\",\n",
    "        \"jenkins\",\n",
    "        \"git\",\n",
    "        \"databases\",\n",
    "        \"sql\",\n",
    "        \"html\",\n",
    "        \"mvc\",\n",
    "        \"unit testing\",\n",
    "        \"tdd\",\n",
    "        \".net\",\n",
    "        \"static code analysis\"\n",
    "    ]\n",
    "\n",
    "group_skills_relevant(example)"
   ]
  },
  {
   "cell_type": "markdown",
   "metadata": {},
   "source": [
    "## Function Augmentation"
   ]
  },
  {
   "cell_type": "code",
   "execution_count": 66,
   "metadata": {},
   "outputs": [],
   "source": [
    "import random\n",
    "import numpy as np\n",
    "\n",
    "def shuffle_data(skills):\n",
    "    # Make a copy of the input list to avoid modifying the original list\n",
    "    shuffled_skills = skills.copy()\n",
    "    \n",
    "    # Shuffle the copy of the list in place\n",
    "    random.shuffle(shuffled_skills)\n",
    "    \n",
    "    return shuffled_skills\n",
    "\n",
    "def cutout_data(skills, mask_size=5):\n",
    "\n",
    "    cutout_skills = skills.copy()\n",
    "    \n",
    "    mask_size = min(mask_size, len(cutout_skills))\n",
    "    \n",
    "    cutout_index = random.sample(range(len(skills)), mask_size)\n",
    "    \n",
    "    for idx in cutout_index:\n",
    "        cutout_skills[idx] = ''\n",
    "        \n",
    "\n",
    "    cutout_skills = [x for x in cutout_skills if x != '']\n",
    "    \n",
    "    return cutout_skills\n"
   ]
  },
  {
   "cell_type": "code",
   "execution_count": 67,
   "metadata": {},
   "outputs": [],
   "source": [
    "def create_new_data(total_skills, num_samples=2100): # all samples are created = num_samples * 4\n",
    "\n",
    "    if num_samples > len(total_skills):\n",
    "        num_samples = len(total_skills) \n",
    "\n",
    "    skills_augmentation_collection = []\n",
    "    # pick random sample in skills jbs\n",
    "    random_indexs = random.sample(range(len(total_skills)), num_samples)\n",
    "    for index in random_indexs:\n",
    "\n",
    "        groups_skills = group_skills_relevant(total_skills[index])\n",
    "\n",
    "        combine_group_shuffle_1 = []\n",
    "        combine_group_shuffle_2 = []\n",
    "        combine_group_cut_1 = []\n",
    "        combine_group_cut_2 = []\n",
    "\n",
    "        if len(groups_skills) > 2:\n",
    "            index_cut = random.sample(range(len(groups_skills)), len(groups_skills)-1)\n",
    "        else:\n",
    "            index_cut = range(len(groups_skills))\n",
    "\n",
    "        for idx, group in enumerate(groups_skills):\n",
    "            # shuffle data\n",
    "            augment_skill = shuffle_data(group)\n",
    "\n",
    "            combine_group_shuffle_1 += augment_skill\n",
    "            combine_group_shuffle_2 += group\n",
    "\n",
    "            #cutout\n",
    "            if idx in index_cut:\n",
    "                combine_group_cut_1 += augment_skill\n",
    "                combine_group_cut_2 += group\n",
    "\n",
    "\n",
    "        skills_augmentation_collection.append(combine_group_shuffle_1)\n",
    "        skills_augmentation_collection.append(combine_group_shuffle_2)\n",
    "        skills_augmentation_collection.append(combine_group_cut_1)\n",
    "        skills_augmentation_collection.append(combine_group_cut_2)\n",
    "\n",
    "    return skills_augmentation_collection"
   ]
  },
  {
   "cell_type": "code",
   "execution_count": 68,
   "metadata": {},
   "outputs": [
    {
     "data": {
      "text/plain": [
       "4000"
      ]
     },
     "execution_count": 68,
     "metadata": {},
     "output_type": "execute_result"
    }
   ],
   "source": [
    "total_augmentation = create_new_data(total_skill_jds, 1000)\n",
    "len(total_augmentation)"
   ]
  },
  {
   "cell_type": "code",
   "execution_count": 72,
   "metadata": {},
   "outputs": [],
   "source": [
    "total_augmentation = create_new_data(total_skill_jds, len(total_skill_jds))\n",
    "total_skill_jds += total_augmentation"
   ]
  },
  {
   "cell_type": "code",
   "execution_count": 73,
   "metadata": {},
   "outputs": [
    {
     "data": {
      "text/plain": [
       "133405"
      ]
     },
     "execution_count": 73,
     "metadata": {},
     "output_type": "execute_result"
    }
   ],
   "source": [
    "len(total_skill_jds)"
   ]
  },
  {
   "cell_type": "code",
   "execution_count": 74,
   "metadata": {},
   "outputs": [],
   "source": [
    "# save to train\n",
    "import json\n",
    "\n",
    "json_path = 'data/train/total_skill_augmentation_jds.json'\n",
    "with open(json_path, 'w') as f:\n",
    "    json.dump(total_skill_jds, f, indent=4)"
   ]
  },
  {
   "cell_type": "markdown",
   "metadata": {},
   "source": [
    "# End"
   ]
  }
 ],
 "metadata": {
  "kernelspec": {
   "display_name": "Python 3",
   "language": "python",
   "name": "python3"
  },
  "language_info": {
   "codemirror_mode": {
    "name": "ipython",
    "version": 3
   },
   "file_extension": ".py",
   "mimetype": "text/x-python",
   "name": "python",
   "nbconvert_exporter": "python",
   "pygments_lexer": "ipython3",
   "version": "3.11.5"
  },
  "orig_nbformat": 4
 },
 "nbformat": 4,
 "nbformat_minor": 2
}
