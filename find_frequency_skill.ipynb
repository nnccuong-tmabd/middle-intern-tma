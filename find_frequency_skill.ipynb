{
 "cells": [
  {
   "cell_type": "code",
   "execution_count": 1,
   "metadata": {},
   "outputs": [],
   "source": [
    "import json\n",
    "\n",
    "# read file json data_skill_tensor.json\n",
    "\n",
    "with open('data/data_skill_tensor.json', 'r') as f:\n",
    "    data = json.load(f)\n",
    "\n",
    "f.close()\n",
    "\n",
    "\n",
    "\n",
    "# load IT skill JDs\n",
    "def load_data_skill(filename):\n",
    "    with open(filename, 'r') as f:\n",
    "        data = json.load(f)\n",
    "\n",
    "    f.close()\n",
    "    \n",
    "    return list(data.values())\n",
    "\n",
    "def nomalize_skill(skill):\n",
    "    for i in range(len(skill)):\n",
    "        skill[i] = [item.lower() for item in skill[i]]\n",
    "    return skill\n",
    "\n",
    "data_skill = nomalize_skill([job['skills'] for job in data])\n",
    "skill1 = nomalize_skill(load_data_skill('data/IT_skill_JDs_p1.json'))\n",
    "skill2 = nomalize_skill(load_data_skill('data/IT_skill_JDs_p1.json'))"
   ]
  },
  {
   "cell_type": "code",
   "execution_count": 2,
   "metadata": {},
   "outputs": [],
   "source": [
    "total_skill = data_skill + skill1 + skill2"
   ]
  },
  {
   "cell_type": "code",
   "execution_count": 44,
   "metadata": {},
   "outputs": [],
   "source": [
    "# find frequency of all skill when skill a is present\n",
    "def find_frequency_skill(skill, k=-1):\n",
    "    frequency = {}\n",
    "    for i in range(len(total_skill)):\n",
    "        if skill in total_skill[i]:\n",
    "            for s in total_skill[i]:\n",
    "                if s in frequency:\n",
    "                    frequency[s] += 1\n",
    "                else:\n",
    "                    frequency[s] = 1\n",
    "\n",
    "    # sort frequency\n",
    "    frequency = {k: v for k, v in sorted(frequency.items(), key=lambda item: item[1], reverse=True)}\n",
    "\n",
    "    if k == -1:\n",
    "        return frequency\n",
    "    else:\n",
    "        # return top k skill and remove top 1 (skill a)\n",
    "        return {i: frequency[i] for i in list(frequency)[1:k+1]}"
   ]
  },
  {
   "cell_type": "code",
   "execution_count": 45,
   "metadata": {},
   "outputs": [
    {
     "data": {
      "text/plain": [
       "dict_keys(['typescript', 'cloud', 'code reviews', 'gcp', 'react'])"
      ]
     },
     "execution_count": 45,
     "metadata": {},
     "output_type": "execute_result"
    }
   ],
   "source": [
    "frequency = find_frequency_skill('codebase', 5)\n",
    "frequency.keys()"
   ]
  },
  {
   "cell_type": "code",
   "execution_count": 46,
   "metadata": {},
   "outputs": [],
   "source": [
    "top_200_valid_path = 'data/200_skills_valid.json'\n",
    "\n",
    "with open(top_200_valid_path, 'r') as f:\n",
    "    top_200_valid = json.load(f)\n",
    "\n",
    "f.close()"
   ]
  },
  {
   "cell_type": "code",
   "execution_count": 47,
   "metadata": {},
   "outputs": [],
   "source": [
    "# loop through top 200 valid skill is dictionary\n",
    "for skill in top_200_valid:\n",
    "    if top_200_valid[skill] == []:\n",
    "        top_200_valid[skill] = list(find_frequency_skill(skill, 5).keys())"
   ]
  },
  {
   "cell_type": "code",
   "execution_count": 48,
   "metadata": {},
   "outputs": [],
   "source": [
    "# save top 200 valid skill to file\n",
    "automation_label = 'data/top_200_valid_automation.json'\n",
    "with open(automation_label, 'w') as f:\n",
    "    json.dump(top_200_valid, f, indent=4)"
   ]
  }
 ],
 "metadata": {
  "kernelspec": {
   "display_name": "udemy",
   "language": "python",
   "name": "python3"
  },
  "language_info": {
   "codemirror_mode": {
    "name": "ipython",
    "version": 3
   },
   "file_extension": ".py",
   "mimetype": "text/x-python",
   "name": "python",
   "nbconvert_exporter": "python",
   "pygments_lexer": "ipython3",
   "version": "3.11.0"
  },
  "orig_nbformat": 4
 },
 "nbformat": 4,
 "nbformat_minor": 2
}
