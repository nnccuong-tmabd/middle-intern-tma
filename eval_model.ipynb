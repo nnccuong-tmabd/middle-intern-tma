{
 "cells": [
  {
   "cell_type": "code",
   "execution_count": 3,
   "metadata": {},
   "outputs": [],
   "source": [
    "from gensim.models.phrases import Phrases, Phraser\n",
    "from gensim.models import FastText\n",
    "from gensim.models import Word2Vec"
   ]
  },
  {
   "cell_type": "markdown",
   "metadata": {},
   "source": [
    "# Valid Helpers"
   ]
  },
  {
   "cell_type": "code",
   "execution_count": 2,
   "metadata": {},
   "outputs": [
    {
     "name": "stdout",
     "output_type": "stream",
     "text": [
      "Total valid skill: 66547\n"
     ]
    }
   ],
   "source": [
    "# valid data\n",
    "valid_data_path = 'https://raw.githubusercontent.com/nnccuong-tmabd/middle-intern-tma/main/data/valid/skills_valid.json'\n",
    "\n",
    "# with open(valid_data_path, 'r') as f:\n",
    "#     valid_data = json.load(f)\n",
    "\n",
    "# f.close()\n",
    "\n",
    "import requests\n",
    "import json\n",
    "\n",
    "resp = requests.get(valid_data_path)\n",
    "valid_data = json.loads(resp.text)\n",
    "valid_data\n",
    "\n",
    "# total valid skill\n",
    "total_valid_skill = 0\n",
    "for skill in valid_data.keys():\n",
    "    total_valid_skill += len(valid_data[skill])\n",
    "\n",
    "print(f'Total valid skill: {total_valid_skill}')"
   ]
  },
  {
   "cell_type": "code",
   "execution_count": 10,
   "metadata": {},
   "outputs": [],
   "source": [
    "def model_prediction(model, skills, topn=20):\n",
    "    result = {}\n",
    "    for skill in skills:\n",
    "        topn_skills = [skill[0] for skill in model.wv.most_similar(skill, topn=topn)]\n",
    "\n",
    "        result[skill] = topn_skills\n",
    "\n",
    "    return result\n",
    "\n",
    "def valid_skill(prediction, valid_data): # prediction: dict, valid_data: dict\n",
    "    count = 0\n",
    "    for skill in prediction.keys():\n",
    "        for rlv_skill in prediction[skill]:\n",
    "            if rlv_skill in valid_data[skill]:\n",
    "                count += 1\n",
    "\n",
    "    # find the number of skill in valid data\n",
    "    total_skills = len(valid_data) * 20\n",
    "\n",
    "    return count/total_skills"
   ]
  },
  {
   "cell_type": "code",
   "execution_count": 11,
   "metadata": {},
   "outputs": [],
   "source": [
    "import random\n",
    "\n",
    "def calculate_acc(model):\n",
    "\n",
    "  prediction = model_prediction(model, valid_data.keys())\n",
    "\n",
    "  accuracy = valid_skill(prediction, valid_data)\n",
    "\n",
    "\n",
    "  return accuracy"
   ]
  },
  {
   "cell_type": "markdown",
   "metadata": {},
   "source": [
    "# Eval model"
   ]
  },
  {
   "cell_type": "code",
   "execution_count": 6,
   "metadata": {},
   "outputs": [],
   "source": [
    "def load_model_fastText(folder, index):\n",
    "    path_model = f'{folder}/{index}/fasttext_model.model'\n",
    "\n",
    "    model = FastText.load(path_model)\n",
    "    return model"
   ]
  },
  {
   "cell_type": "code",
   "execution_count": 12,
   "metadata": {},
   "outputs": [
    {
     "data": {
      "text/plain": [
       "0.04214934151643012"
      ]
     },
     "execution_count": 12,
     "metadata": {},
     "output_type": "execute_result"
    }
   ],
   "source": [
    "calculate_acc(load_model_fastText('fastTextmodel', 1))"
   ]
  },
  {
   "cell_type": "code",
   "execution_count": null,
   "metadata": {},
   "outputs": [],
   "source": []
  }
 ],
 "metadata": {
  "kernelspec": {
   "display_name": "Python 3",
   "language": "python",
   "name": "python3"
  },
  "language_info": {
   "codemirror_mode": {
    "name": "ipython",
    "version": 3
   },
   "file_extension": ".py",
   "mimetype": "text/x-python",
   "name": "python",
   "nbconvert_exporter": "python",
   "pygments_lexer": "ipython3",
   "version": "3.11.5"
  },
  "orig_nbformat": 4
 },
 "nbformat": 4,
 "nbformat_minor": 2
}
