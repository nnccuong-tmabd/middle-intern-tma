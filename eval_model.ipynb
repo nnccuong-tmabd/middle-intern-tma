{
 "cells": [
  {
   "cell_type": "code",
   "execution_count": 2,
   "metadata": {},
   "outputs": [],
   "source": [
    "from gensim.models.phrases import Phrases, Phraser\n",
    "from gensim.models import FastText\n",
    "from gensim.models import Word2Vec"
   ]
  },
  {
   "cell_type": "markdown",
   "metadata": {},
   "source": [
    "# Valid Helpers"
   ]
  },
  {
   "cell_type": "code",
   "execution_count": 26,
   "metadata": {},
   "outputs": [
    {
     "name": "stdout",
     "output_type": "stream",
     "text": [
      "Total valid skill: 151578\n"
     ]
    }
   ],
   "source": [
    "import json\n",
    "\n",
    "# valid data\n",
    "valid_data_path = 'data/valid/skills_valid.json'\n",
    "\n",
    "with open(valid_data_path, 'r') as f:\n",
    "    valid_data = json.load(f)\n",
    "\n",
    "f.close()\n",
    "\n",
    "# total valid skill\n",
    "total_valid_skill = 0\n",
    "for skill in valid_data.keys():\n",
    "    total_valid_skill += len(valid_data[skill])\n",
    "\n",
    "print(f'Total valid skill: {total_valid_skill}')"
   ]
  },
  {
   "cell_type": "code",
   "execution_count": 19,
   "metadata": {},
   "outputs": [],
   "source": [
    "def model_prediction(model, valid_data, topn=10):\n",
    "    result = {}\n",
    "    skills = valid_data.keys()\n",
    "    for skill in skills:\n",
    "        try:\n",
    "            # topn = len(valid_data[skill])\n",
    "            topn_skills = [skill[0] for skill in model.wv.most_similar(skill, topn=topn)]\n",
    "        except:\n",
    "            continue\n",
    "\n",
    "        result[skill] = topn_skills\n",
    "\n",
    "    return result\n",
    "\n",
    "def valid_skill(prediction, valid_data): # prediction: dict, valid_data: dict\n",
    "    count = 0\n",
    "    for skill in prediction.keys():\n",
    "        for rlv_skill in prediction[skill]:\n",
    "            if rlv_skill in valid_data[skill]:\n",
    "                count += 1\n",
    "\n",
    "    flattened_valid = []\n",
    "    for skills in prediction.keys():\n",
    "        flattened_valid += prediction[skills]\n",
    "        \n",
    "    # find the number of skill in valid data\n",
    "    total_skills = len(flattened_valid)\n",
    "\n",
    "    return count/total_skills\n"
   ]
  },
  {
   "cell_type": "code",
   "execution_count": 20,
   "metadata": {},
   "outputs": [],
   "source": [
    "import random\n",
    "\n",
    "def calculate_acc(model):\n",
    "  #pick random 200 skills in valid data\n",
    "\n",
    "  prediction = model_prediction(model, valid_data)\n",
    "\n",
    "  accuracy = valid_skill(prediction, valid_data)\n",
    "\n",
    "\n",
    "  return accuracy\n",
    "\n",
    "# calculate_acc(model=model)\n",
    "# print(f'Accuracy: {sum(accuracies)/100}')"
   ]
  },
  {
   "cell_type": "markdown",
   "metadata": {},
   "source": [
    "# Eval model"
   ]
  },
  {
   "cell_type": "code",
   "execution_count": 22,
   "metadata": {},
   "outputs": [],
   "source": [
    "def load_model_fastText(folder, index):\n",
    "    path_model = f'{folder}/{index}/fasttext_model.model'\n",
    "\n",
    "    model = FastText.load(path_model)\n",
    "    return model"
   ]
  },
  {
   "cell_type": "code",
   "execution_count": 21,
   "metadata": {},
   "outputs": [],
   "source": [
    "def load_model_word2vec(folder, index):\n",
    "    path_model = f'{folder}/{index}/word2vec.model'\n",
    "\n",
    "    model = FastText.load(path_model)\n",
    "    return model"
   ]
  },
  {
   "cell_type": "code",
   "execution_count": 18,
   "metadata": {},
   "outputs": [
    {
     "data": {
      "text/plain": [
       "0.3159489609482925"
      ]
     },
     "execution_count": 18,
     "metadata": {},
     "output_type": "execute_result"
    }
   ],
   "source": [
    "fasttext_model = load_model_fastText('fastTextmodel_hs1_group_1', 8)\n",
    "calculate_acc(fasttext_model)"
   ]
  },
  {
   "cell_type": "code",
   "execution_count": 27,
   "metadata": {},
   "outputs": [
    {
     "data": {
      "text/plain": [
       "0.323590333716916"
      ]
     },
     "execution_count": 27,
     "metadata": {},
     "output_type": "execute_result"
    }
   ],
   "source": [
    "calculate_acc(word2vec)"
   ]
  },
  {
   "cell_type": "code",
   "execution_count": 3,
   "metadata": {},
   "outputs": [],
   "source": [
    "def load_model_word2vec(folder, index):\n",
    "    path_model = f'{folder}/{index}/word2vec.model'\n",
    "\n",
    "    model = FastText.load(path_model)\n",
    "    return model"
   ]
  },
  {
   "cell_type": "code",
   "execution_count": 4,
   "metadata": {},
   "outputs": [],
   "source": [
    "word2vec = Word2Vec.load('word2vec_bestmodel/word2vec.model')"
   ]
  },
  {
   "cell_type": "code",
   "execution_count": 11,
   "metadata": {},
   "outputs": [],
   "source": [
    "def e2e_demo(skill, model=word2vec, topn=30):\n",
    "    most_skill = model.wv.most_similar(skill, topn=topn)\n",
    "    result = []\n",
    "    for ele in most_skill:\n",
    "        result.append(ele)\n",
    "    return result"
   ]
  },
  {
   "cell_type": "code",
   "execution_count": 12,
   "metadata": {},
   "outputs": [],
   "source": [
    "top10 = e2e_demo('postgresql', model=word2vec, topn=10)"
   ]
  },
  {
   "cell_type": "code",
   "execution_count": 13,
   "metadata": {},
   "outputs": [
    {
     "data": {
      "text/plain": [
       "[('kubernetes', 0.6031035780906677),\n",
       " ('redux', 0.4307089149951935),\n",
       " ('redis', 0.37004950642585754),\n",
       " ('aws serverless technologies', 0.3657798171043396),\n",
       " ('end to end testing', 0.3613744080066681),\n",
       " ('api mesh', 0.34944766759872437),\n",
       " ('vmware', 0.34147125482559204),\n",
       " ('infrastructure optimization', 0.3345958888530731),\n",
       " ('service mesh', 0.33408981561660767),\n",
       " ('honeycomb', 0.332943856716156)]"
      ]
     },
     "execution_count": 13,
     "metadata": {},
     "output_type": "execute_result"
    }
   ],
   "source": [
    "top10"
   ]
  },
  {
   "cell_type": "code",
   "execution_count": 15,
   "metadata": {},
   "outputs": [
    {
     "data": {
      "text/plain": [
       "6"
      ]
     },
     "execution_count": 15,
     "metadata": {},
     "output_type": "execute_result"
    }
   ],
   "source": [
    "count = 0\n",
    "for skill, score in top10:\n",
    "    if skill in test:\n",
    "        count += 1\n",
    "    \n",
    "count"
   ]
  },
  {
   "cell_type": "code",
   "execution_count": null,
   "metadata": {},
   "outputs": [],
   "source": []
  }
 ],
 "metadata": {
  "kernelspec": {
   "display_name": "Python 3",
   "language": "python",
   "name": "python3"
  },
  "language_info": {
   "codemirror_mode": {
    "name": "ipython",
    "version": 3
   },
   "file_extension": ".py",
   "mimetype": "text/x-python",
   "name": "python",
   "nbconvert_exporter": "python",
   "pygments_lexer": "ipython3",
   "version": "3.12.0"
  },
  "orig_nbformat": 4
 },
 "nbformat": 4,
 "nbformat_minor": 2
}
