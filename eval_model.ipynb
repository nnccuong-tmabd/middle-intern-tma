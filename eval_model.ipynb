{
 "cells": [
  {
   "cell_type": "code",
   "execution_count": 1,
   "metadata": {},
   "outputs": [],
   "source": [
    "from gensim.models.phrases import Phrases, Phraser\n",
    "from gensim.models import FastText\n",
    "from gensim.models import Word2Vec"
   ]
  },
  {
   "cell_type": "markdown",
   "metadata": {},
   "source": [
    "# Valid Helpers"
   ]
  },
  {
   "cell_type": "code",
   "execution_count": 2,
   "metadata": {},
   "outputs": [
    {
     "name": "stdout",
     "output_type": "stream",
     "text": [
      "Total valid skill: 67321\n"
     ]
    }
   ],
   "source": [
    "import json\n",
    "\n",
    "# valid data\n",
    "valid_data_path = 'data/valid/skills_valid_around.json'\n",
    "\n",
    "with open(valid_data_path, 'r') as f:\n",
    "    valid_data = json.load(f)\n",
    "\n",
    "f.close()\n",
    "\n",
    "# total valid skill\n",
    "total_valid_skill = 0\n",
    "for skill in valid_data.keys():\n",
    "    total_valid_skill += len(valid_data[skill])\n",
    "\n",
    "print(f'Total valid skill: {total_valid_skill}')"
   ]
  },
  {
   "cell_type": "code",
   "execution_count": 3,
   "metadata": {},
   "outputs": [],
   "source": [
    "def model_prediction(model, valid_data):\n",
    "    result = {}\n",
    "    skills = valid_data.keys()\n",
    "    for skill in skills:\n",
    "        try:\n",
    "            topn = len(valid_data[skill])\n",
    "            topn_skills = [skill[0] for skill in model.wv.most_similar(skill, topn=20)]\n",
    "        except:\n",
    "            continue\n",
    "\n",
    "        result[skill] = topn_skills\n",
    "\n",
    "    return result\n",
    "\n",
    "def valid_skill(prediction, valid_data): # prediction: dict, valid_data: dict\n",
    "    count = 0\n",
    "    for skill in prediction.keys():\n",
    "        for rlv_skill in prediction[skill]:\n",
    "            if rlv_skill in valid_data[skill]:\n",
    "                count += 1\n",
    "\n",
    "    flattened_valid = []\n",
    "    for skills in prediction.keys():\n",
    "        flattened_valid += valid_data[skills]\n",
    "        \n",
    "    # find the number of skill in valid data\n",
    "    total_skills = len(flattened_valid)\n",
    "\n",
    "    return count/total_skills\n"
   ]
  },
  {
   "cell_type": "code",
   "execution_count": 4,
   "metadata": {},
   "outputs": [],
   "source": [
    "import random\n",
    "\n",
    "def calculate_acc(model):\n",
    "  #pick random 200 skills in valid data\n",
    "\n",
    "  prediction = model_prediction(model, valid_data)\n",
    "\n",
    "  accuracy = valid_skill(prediction, valid_data)\n",
    "\n",
    "\n",
    "  return accuracy\n",
    "\n",
    "# calculate_acc(model=model)\n",
    "# print(f'Accuracy: {sum(accuracies)/100}')"
   ]
  },
  {
   "cell_type": "markdown",
   "metadata": {},
   "source": [
    "# Eval model"
   ]
  },
  {
   "cell_type": "code",
   "execution_count": 5,
   "metadata": {},
   "outputs": [],
   "source": [
    "def load_model_fastText(folder, index):\n",
    "    path_model = f'{folder}/{index}/fasttext_model.model'\n",
    "\n",
    "    model = FastText.load(path_model)\n",
    "    return model"
   ]
  },
  {
   "cell_type": "code",
   "execution_count": 6,
   "metadata": {},
   "outputs": [],
   "source": [
    "def load_model_word2vec(folder, index):\n",
    "    path_model = f'{folder}/{index}/word2vec.model'\n",
    "\n",
    "    model = FastText.load(path_model)\n",
    "    return model"
   ]
  },
  {
   "cell_type": "code",
   "execution_count": 18,
   "metadata": {},
   "outputs": [
    {
     "data": {
      "text/plain": [
       "0.3159489609482925"
      ]
     },
     "execution_count": 18,
     "metadata": {},
     "output_type": "execute_result"
    }
   ],
   "source": [
    "fasttext_model = load_model_fastText('fastTextmodel_hs1_group_1', 8)\n",
    "calculate_acc(fasttext_model)"
   ]
  },
  {
   "cell_type": "code",
   "execution_count": 11,
   "metadata": {},
   "outputs": [
    {
     "data": {
      "text/plain": [
       "0.31021523744448243"
      ]
     },
     "execution_count": 11,
     "metadata": {},
     "output_type": "execute_result"
    }
   ],
   "source": [
    "# calculate_acc(fasttext_0_4)"
   ]
  },
  {
   "cell_type": "code",
   "execution_count": null,
   "metadata": {},
   "outputs": [],
   "source": []
  }
 ],
 "metadata": {
  "kernelspec": {
   "display_name": "Python 3",
   "language": "python",
   "name": "python3"
  },
  "language_info": {
   "codemirror_mode": {
    "name": "ipython",
    "version": 3
   },
   "file_extension": ".py",
   "mimetype": "text/x-python",
   "name": "python",
   "nbconvert_exporter": "python",
   "pygments_lexer": "ipython3",
   "version": "3.11.5"
  },
  "orig_nbformat": 4
 },
 "nbformat": 4,
 "nbformat_minor": 2
}
