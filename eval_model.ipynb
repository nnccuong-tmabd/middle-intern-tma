{
 "cells": [
  {
   "cell_type": "code",
   "execution_count": 1,
   "metadata": {},
   "outputs": [],
   "source": [
    "from gensim.models.phrases import Phrases, Phraser\n",
    "from gensim.models import FastText\n",
    "from gensim.models import Word2Vec"
   ]
  },
  {
   "cell_type": "markdown",
   "metadata": {},
   "source": [
    "# Valid Helpers"
   ]
  },
  {
   "cell_type": "code",
   "execution_count": 2,
   "metadata": {},
   "outputs": [
    {
     "name": "stdout",
     "output_type": "stream",
     "text": [
      "Total valid skill: 47400\n"
     ]
    }
   ],
   "source": [
    "# valid data\n",
    "valid_data_path = 'https://raw.githubusercontent.com/nnccuong-tmabd/middle-intern-tma/main/data/valid/skills_valid.json'\n",
    "\n",
    "# with open(valid_data_path, 'r') as f:\n",
    "#     valid_data = json.load(f)\n",
    "\n",
    "# f.close()\n",
    "\n",
    "import requests\n",
    "import json\n",
    "\n",
    "resp = requests.get(valid_data_path)\n",
    "valid_data = json.loads(resp.text)\n",
    "valid_data\n",
    "\n",
    "# total valid skill\n",
    "total_valid_skill = 0\n",
    "for skill in valid_data.keys():\n",
    "    total_valid_skill += len(valid_data[skill])\n",
    "\n",
    "print(f'Total valid skill: {total_valid_skill}')"
   ]
  },
  {
   "cell_type": "code",
   "execution_count": 3,
   "metadata": {},
   "outputs": [],
   "source": [
    "def model_prediction(model, skills, topn=20):\n",
    "    result = {}\n",
    "    for skill in skills:\n",
    "        try:\n",
    "            topn_skills = [skill[0] for skill in model.wv.most_similar(skill, topn=topn)]\n",
    "        except:\n",
    "            continue\n",
    "\n",
    "        result[skill] = topn_skills\n",
    "\n",
    "    return result\n",
    "\n",
    "def valid_skill(prediction, valid_data): # prediction: dict, valid_data: dict\n",
    "    count = 0\n",
    "    for skill in prediction.keys():\n",
    "        for rlv_skill in prediction[skill]:\n",
    "            if rlv_skill in valid_data[skill]:\n",
    "                count += 1\n",
    "\n",
    "    flattened_valid = []\n",
    "    for skills in prediction.keys():\n",
    "        flattened_valid += valid_data[skills]\n",
    "        \n",
    "    # find the number of skill in valid data\n",
    "    total_skills = len(flattened_valid)\n",
    "\n",
    "    return count/total_skills\n"
   ]
  },
  {
   "cell_type": "code",
   "execution_count": 4,
   "metadata": {},
   "outputs": [],
   "source": [
    "import random\n",
    "\n",
    "def calculate_acc(model):\n",
    "  #pick random 200 skills in valid data\n",
    "\n",
    "  prediction = model_prediction(model, valid_data.keys())\n",
    "\n",
    "  accuracy = valid_skill(prediction, valid_data)\n",
    "\n",
    "\n",
    "  return accuracy\n",
    "\n",
    "# calculate_acc(model=model)\n",
    "# print(f'Accuracy: {sum(accuracies)/100}')"
   ]
  },
  {
   "cell_type": "markdown",
   "metadata": {},
   "source": [
    "# Eval model"
   ]
  },
  {
   "cell_type": "code",
   "execution_count": 5,
   "metadata": {},
   "outputs": [],
   "source": [
    "def load_model_fastText(folder, index):\n",
    "    path_model = f'{folder}/{index}/fasttext_model.model'\n",
    "\n",
    "    model = FastText.load(path_model)\n",
    "    return model"
   ]
  },
  {
   "cell_type": "code",
   "execution_count": 6,
   "metadata": {},
   "outputs": [],
   "source": [
    "def load_model_word2vec(folder, index):\n",
    "    path_model = f'{folder}/{index}/word2vec.model'\n",
    "\n",
    "    model = FastText.load(path_model)\n",
    "    return model"
   ]
  },
  {
   "cell_type": "code",
   "execution_count": 7,
   "metadata": {},
   "outputs": [],
   "source": [
    "word2vec_3_3 = load_model_word2vec('word2vecmodel_3', 3)"
   ]
  },
  {
   "cell_type": "code",
   "execution_count": 9,
   "metadata": {},
   "outputs": [
    {
     "data": {
      "text/plain": [
       "[('css', 0.6238542795181274),\n",
       " ('javascript', 0.53657066822052),\n",
       " ('censhare', 0.4265523850917816),\n",
       " ('photoshop', 0.3687426447868347),\n",
       " ('mysql', 0.3520297706127167),\n",
       " ('illustrator', 0.3419848084449768),\n",
       " ('apache apex', 0.32965531945228577),\n",
       " ('git', 0.32913148403167725),\n",
       " ('message bus', 0.3283403813838959),\n",
       " ('jquery', 0.3206641376018524),\n",
       " ('uxpin', 0.3136753439903259),\n",
       " ('sketch', 0.3126288056373596),\n",
       " ('indesign', 0.31198832392692566),\n",
       " ('object oriented programming', 0.3109308183193207),\n",
       " ('typography', 0.308826744556427),\n",
       " ('structured programming', 0.30583715438842773),\n",
       " ('ado.net', 0.30436211824417114),\n",
       " ('typo3', 0.29978665709495544),\n",
       " ('xslt', 0.298227459192276),\n",
       " ('xml', 0.2977844476699829)]"
      ]
     },
     "execution_count": 9,
     "metadata": {},
     "output_type": "execute_result"
    }
   ],
   "source": [
    "word2vec_3_3.wv.most_similar('html', topn=20)"
   ]
  },
  {
   "cell_type": "code",
   "execution_count": 10,
   "metadata": {},
   "outputs": [
    {
     "data": {
      "text/plain": [
       "0.2792827004219409"
      ]
     },
     "execution_count": 10,
     "metadata": {},
     "output_type": "execute_result"
    }
   ],
   "source": [
    "calculate_acc(word2vec_3_3)"
   ]
  },
  {
   "cell_type": "code",
   "execution_count": null,
   "metadata": {},
   "outputs": [],
   "source": []
  }
 ],
 "metadata": {
  "kernelspec": {
   "display_name": "Python 3",
   "language": "python",
   "name": "python3"
  },
  "language_info": {
   "codemirror_mode": {
    "name": "ipython",
    "version": 3
   },
   "file_extension": ".py",
   "mimetype": "text/x-python",
   "name": "python",
   "nbconvert_exporter": "python",
   "pygments_lexer": "ipython3",
   "version": "3.11.5"
  },
  "orig_nbformat": 4
 },
 "nbformat": 4,
 "nbformat_minor": 2
}
