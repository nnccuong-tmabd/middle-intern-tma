{
 "cells": [
  {
   "cell_type": "code",
   "execution_count": 2,
   "metadata": {},
   "outputs": [],
   "source": [
    "from gensim.models.phrases import Phrases, Phraser\n",
    "from gensim.models import FastText\n",
    "from gensim.models import Word2Vec"
   ]
  },
  {
   "cell_type": "markdown",
   "metadata": {},
   "source": [
    "# Valid Helpers"
   ]
  },
  {
   "cell_type": "code",
   "execution_count": 3,
   "metadata": {},
   "outputs": [
    {
     "name": "stdout",
     "output_type": "stream",
     "text": [
      "Total valid skill: 66547\n"
     ]
    }
   ],
   "source": [
    "# valid data\n",
    "valid_data_path = 'https://raw.githubusercontent.com/nnccuong-tmabd/middle-intern-tma/main/data/valid/skills_valid.json'\n",
    "\n",
    "# with open(valid_data_path, 'r') as f:\n",
    "#     valid_data = json.load(f)\n",
    "\n",
    "# f.close()\n",
    "\n",
    "import requests\n",
    "import json\n",
    "\n",
    "resp = requests.get(valid_data_path)\n",
    "valid_data = json.loads(resp.text)\n",
    "valid_data\n",
    "\n",
    "# total valid skill\n",
    "total_valid_skill = 0\n",
    "for skill in valid_data.keys():\n",
    "    total_valid_skill += len(valid_data[skill])\n",
    "\n",
    "print(f'Total valid skill: {total_valid_skill}')"
   ]
  },
  {
   "cell_type": "code",
   "execution_count": 4,
   "metadata": {},
   "outputs": [],
   "source": [
    "def model_prediction(model, skills, topn=20):\n",
    "    result = {}\n",
    "    for skill in skills:\n",
    "        topn_skills = [skill[0] for skill in model.wv.most_similar(skill, topn=topn)]\n",
    "\n",
    "        result[skill] = topn_skills\n",
    "\n",
    "    return result\n",
    "\n",
    "def valid_skill(prediction, valid_data): # prediction: dict, valid_data: dict\n",
    "    count = 0\n",
    "    for skill in prediction.keys():\n",
    "        for rlv_skill in prediction[skill]:\n",
    "            if rlv_skill in valid_data[skill]:\n",
    "                count += 1\n",
    "\n",
    "    # find the number of skill in valid data\n",
    "    total_skills = len(valid_data) * 20\n",
    "\n",
    "    return count/total_skills"
   ]
  },
  {
   "cell_type": "code",
   "execution_count": 5,
   "metadata": {},
   "outputs": [],
   "source": [
    "import random\n",
    "\n",
    "def calculate_acc(model):\n",
    "\n",
    "  prediction = model_prediction(model, valid_data.keys())\n",
    "\n",
    "  accuracy = valid_skill(prediction, valid_data)\n",
    "\n",
    "\n",
    "  return accuracy"
   ]
  },
  {
   "cell_type": "markdown",
   "metadata": {},
   "source": [
    "# Eval model"
   ]
  },
  {
   "cell_type": "code",
   "execution_count": 6,
   "metadata": {},
   "outputs": [],
   "source": [
    "def load_model_fastText(folder, index):\n",
    "    path_model = f'{folder}/{index}/fasttext_model.model'\n",
    "\n",
    "    model = FastText.load(path_model)\n",
    "    return model"
   ]
  },
  {
   "cell_type": "code",
   "execution_count": 7,
   "metadata": {},
   "outputs": [],
   "source": [
    "def load_model_word2vec(folder, index):\n",
    "    path_model = f'{folder}/{index}/word2vec.model'\n",
    "\n",
    "    model = FastText.load(path_model)\n",
    "    return model"
   ]
  },
  {
   "cell_type": "code",
   "execution_count": 8,
   "metadata": {},
   "outputs": [],
   "source": [
    "word2vec_5 = load_model_word2vec('word2vecmodel', 5)"
   ]
  },
  {
   "cell_type": "code",
   "execution_count": 9,
   "metadata": {},
   "outputs": [
    {
     "data": {
      "text/plain": [
       "[('scalability', 0.5977234840393066),\n",
       " ('bamboo', 0.5530239343643188),\n",
       " ('agile', 0.5279031991958618),\n",
       " ('powershell', 0.5260084271430969),\n",
       " ('terraform', 0.5234232544898987),\n",
       " ('splunk', 0.5203055143356323),\n",
       " ('java', 0.503260612487793),\n",
       " ('node.js', 0.4918139576911926),\n",
       " ('automated dynamic analysis of mechanical systems', 0.49145233631134033),\n",
       " ('linux', 0.49120086431503296),\n",
       " ('scripting language', 0.48322775959968567),\n",
       " ('hardening', 0.4828830063343048),\n",
       " ('operations', 0.47888195514678955),\n",
       " ('linux system administration', 0.4771992266178131),\n",
       " ('service monitoring', 0.47466805577278137),\n",
       " ('search algorithms', 0.4742383360862732),\n",
       " ('troubleshooting', 0.4732532203197479),\n",
       " ('data structures', 0.4725484848022461),\n",
       " ('problem solving', 0.47199851274490356),\n",
       " ('routing', 0.46345096826553345)]"
      ]
     },
     "execution_count": 9,
     "metadata": {},
     "output_type": "execute_result"
    }
   ],
   "source": [
    "word2vec_5.wv.most_similar('python', topn=20)"
   ]
  }
 ],
 "metadata": {
  "kernelspec": {
   "display_name": "Python 3",
   "language": "python",
   "name": "python3"
  },
  "language_info": {
   "codemirror_mode": {
    "name": "ipython",
    "version": 3
   },
   "file_extension": ".py",
   "mimetype": "text/x-python",
   "name": "python",
   "nbconvert_exporter": "python",
   "pygments_lexer": "ipython3",
   "version": "3.11.5"
  },
  "orig_nbformat": 4
 },
 "nbformat": 4,
 "nbformat_minor": 2
}
