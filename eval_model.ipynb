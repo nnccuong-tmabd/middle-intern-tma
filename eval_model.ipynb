{
 "cells": [
  {
   "cell_type": "code",
   "execution_count": 9,
   "metadata": {},
   "outputs": [],
   "source": [
    "from gensim.models.phrases import Phrases, Phraser\n",
    "from gensim.models import FastText\n",
    "from gensim.models import Word2Vec"
   ]
  },
  {
   "cell_type": "markdown",
   "metadata": {},
   "source": [
    "# Valid Helpers"
   ]
  },
  {
   "cell_type": "code",
   "execution_count": 10,
   "metadata": {},
   "outputs": [
    {
     "name": "stdout",
     "output_type": "stream",
     "text": [
      "Total valid skill: 67321\n"
     ]
    }
   ],
   "source": [
    "import json\n",
    "\n",
    "# valid data\n",
    "valid_data_path = 'data/valid/skills_valid_around.json'\n",
    "\n",
    "with open(valid_data_path, 'r') as f:\n",
    "    valid_data = json.load(f)\n",
    "\n",
    "f.close()\n",
    "\n",
    "# total valid skill\n",
    "total_valid_skill = 0\n",
    "for skill in valid_data.keys():\n",
    "    total_valid_skill += len(valid_data[skill])\n",
    "\n",
    "print(f'Total valid skill: {total_valid_skill}')"
   ]
  },
  {
   "cell_type": "code",
   "execution_count": 20,
   "metadata": {},
   "outputs": [],
   "source": [
    "def model_prediction(model, valid_data):\n",
    "    result = {}\n",
    "    skills = valid_data.keys()\n",
    "    for skill in skills:\n",
    "        try:\n",
    "            topn = len(valid_data[skill])\n",
    "            topn_skills = [skill[0] for skill in model.wv.most_similar(skill, topn=topn)]\n",
    "        except:\n",
    "            continue\n",
    "\n",
    "        result[skill] = topn_skills\n",
    "\n",
    "    return result\n",
    "\n",
    "def valid_skill(prediction, valid_data): # prediction: dict, valid_data: dict\n",
    "    count = 0\n",
    "    for skill in prediction.keys():\n",
    "        for rlv_skill in prediction[skill]:\n",
    "            if rlv_skill in valid_data[skill]:\n",
    "                count += 1\n",
    "\n",
    "    flattened_valid = []\n",
    "    for skills in prediction.keys():\n",
    "        flattened_valid += valid_data[skills]\n",
    "        \n",
    "    # find the number of skill in valid data\n",
    "    total_skills = len(flattened_valid)\n",
    "\n",
    "    return count/total_skills\n"
   ]
  },
  {
   "cell_type": "code",
   "execution_count": 21,
   "metadata": {},
   "outputs": [],
   "source": [
    "import random\n",
    "\n",
    "def calculate_acc(model):\n",
    "  #pick random 200 skills in valid data\n",
    "\n",
    "  prediction = model_prediction(model, valid_data)\n",
    "\n",
    "  accuracy = valid_skill(prediction, valid_data)\n",
    "\n",
    "\n",
    "  return accuracy\n",
    "\n",
    "# calculate_acc(model=model)\n",
    "# print(f'Accuracy: {sum(accuracies)/100}')"
   ]
  },
  {
   "cell_type": "markdown",
   "metadata": {},
   "source": [
    "# Eval model"
   ]
  },
  {
   "cell_type": "code",
   "execution_count": 5,
   "metadata": {},
   "outputs": [],
   "source": [
    "def load_model_fastText(folder, index):\n",
    "    path_model = f'{folder}/{index}/fasttext_model.model'\n",
    "\n",
    "    model = FastText.load(path_model)\n",
    "    return model"
   ]
  },
  {
   "cell_type": "code",
   "execution_count": 6,
   "metadata": {},
   "outputs": [],
   "source": [
    "def load_model_word2vec(folder, index):\n",
    "    path_model = f'{folder}/{index}/word2vec.model'\n",
    "\n",
    "    model = FastText.load(path_model)\n",
    "    return model"
   ]
  },
  {
   "cell_type": "code",
   "execution_count": 6,
   "metadata": {},
   "outputs": [],
   "source": [
    "fasttext_0_4 = load_model_fastText('fastTextmodel_hs_1_group_model_0', 4)"
   ]
  },
  {
   "cell_type": "code",
   "execution_count": 18,
   "metadata": {},
   "outputs": [
    {
     "data": {
      "text/plain": [
       "[('css', 0.6510689854621887),\n",
       " ('javascript', 0.5759159922599792),\n",
       " ('jquery', 0.4865245521068573),\n",
       " ('ux', 0.4564034938812256),\n",
       " ('git', 0.41771984100341797),\n",
       " ('extensible stylesheet language transformations', 0.4051978290081024),\n",
       " ('apache apex', 0.40138551592826843),\n",
       " ('confluence', 0.3970790505409241),\n",
       " ('oracle apex', 0.3924098014831543),\n",
       " ('squiz', 0.38743749260902405),\n",
       " ('pl/sql', 0.3830486834049225),\n",
       " ('mysql', 0.38230419158935547),\n",
       " ('company structure', 0.37889450788497925),\n",
       " ('webpack', 0.3781215250492096),\n",
       " ('kanban', 0.36789488792419434),\n",
       " ('mvc', 0.36688753962516785),\n",
       " ('illustrator', 0.36516135931015015),\n",
       " ('gradle', 0.3637676537036896),\n",
       " ('jax rs', 0.36079907417297363),\n",
       " ('objective c', 0.36000490188598633)]"
      ]
     },
     "execution_count": 18,
     "metadata": {},
     "output_type": "execute_result"
    }
   ],
   "source": [
    "fasttext_0_4.wv.most_similar('html', topn=20)"
   ]
  },
  {
   "cell_type": "code",
   "execution_count": 22,
   "metadata": {},
   "outputs": [
    {
     "data": {
      "text/plain": [
       "0.24622331813252923"
      ]
     },
     "execution_count": 22,
     "metadata": {},
     "output_type": "execute_result"
    }
   ],
   "source": [
    "calculate_acc(fasttext_0_4)"
   ]
  },
  {
   "cell_type": "code",
   "execution_count": null,
   "metadata": {},
   "outputs": [],
   "source": []
  }
 ],
 "metadata": {
  "kernelspec": {
   "display_name": "Python 3",
   "language": "python",
   "name": "python3"
  },
  "language_info": {
   "codemirror_mode": {
    "name": "ipython",
    "version": 3
   },
   "file_extension": ".py",
   "mimetype": "text/x-python",
   "name": "python",
   "nbconvert_exporter": "python",
   "pygments_lexer": "ipython3",
   "version": "3.11.5"
  },
  "orig_nbformat": 4
 },
 "nbformat": 4,
 "nbformat_minor": 2
}
