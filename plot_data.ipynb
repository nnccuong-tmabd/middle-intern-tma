{
 "cells": [
  {
   "cell_type": "code",
   "execution_count": 1,
   "metadata": {},
   "outputs": [],
   "source": [
    "import json\n",
    "\n",
    "# load IT skill JDs\n",
    "def load_data_skill(filename):\n",
    "    with open(filename, 'r') as f:\n",
    "        data = json.load(f)\n",
    "\n",
    "    f.close()\n",
    "    \n",
    "    return list(data)\n",
    "\n",
    "total_skill_jds = load_data_skill('data/train/total_skill_jds.json')"
   ]
  },
  {
   "cell_type": "code",
   "execution_count": 2,
   "metadata": {},
   "outputs": [],
   "source": [
    "def get_frequency_skill(skills_jds):\n",
    "\n",
    "    frequency_skills = {}\n",
    "    for skills in skills_jds:\n",
    "        for skill in skills:\n",
    "            if skill not in list(frequency_skills.keys()):\n",
    "                frequency_skills[skill] = 1\n",
    "            else:\n",
    "                frequency_skills[skill] += 1\n",
    "\n",
    "     # Sort the dictionary by frequency in descending order\n",
    "    sorted_frequency_skills = dict(sorted(frequency_skills.items(), key=lambda item: item[1], reverse=True))\n",
    "    \n",
    "    return sorted_frequency_skills"
   ]
  },
  {
   "cell_type": "code",
   "execution_count": 22,
   "metadata": {},
   "outputs": [],
   "source": [
    "from collections import defaultdict\n",
    "\n",
    "def count_skills_with_frequency(skill_frequency, k):\n",
    "    skills_with_k_frequency = [skill for skill, freq in skill_frequency.items() if freq == k]\n",
    "    count = len(skills_with_k_frequency)\n",
    "    return count\n",
    "\n",
    "def statistical_num_frequency(skill_frequency):\n",
    "    set_freq = set(list(skill_frequency.values()))\n",
    "    result = defaultdict(int)\n",
    "    for freq in set_freq:\n",
    "        result[freq] = count_skills_with_frequency(skill_frequency, freq)\n",
    "\n",
    "    return dict(sorted(result.items()))"
   ]
  },
  {
   "cell_type": "code",
   "execution_count": 14,
   "metadata": {},
   "outputs": [],
   "source": [
    "frequency = get_frequency_skill(total_skill_jds)\n"
   ]
  },
  {
   "cell_type": "code",
   "execution_count": 23,
   "metadata": {},
   "outputs": [],
   "source": [
    "statist_freq = statistical_num_frequency(frequency)"
   ]
  },
  {
   "cell_type": "code",
   "execution_count": 35,
   "metadata": {},
   "outputs": [
    {
     "data": {
      "text/plain": [
       "334"
      ]
     },
     "execution_count": 35,
     "metadata": {},
     "output_type": "execute_result"
    }
   ],
   "source": [
    "len(statist_freq)"
   ]
  },
  {
   "cell_type": "code",
   "execution_count": 32,
   "metadata": {},
   "outputs": [
    {
     "data": {
      "text/plain": [
       "19"
      ]
     },
     "execution_count": 32,
     "metadata": {},
     "output_type": "execute_result"
    }
   ],
   "source": [
    "import math\n",
    "\n",
    "num_bin = math.ceil(math.sqrt(len(statist_freq)))\n",
    "num_bin"
   ]
  },
  {
   "cell_type": "code",
   "execution_count": null,
   "metadata": {},
   "outputs": [],
   "source": [
    "import matplotlib.pyplot as plt\n",
    "\n",
    "# Create a bar chart to visualize the number of skills for each JD\n",
    "plt.figure(figsize=(10, 6))  # Set the figure size (adjust as needed)\n",
    "plt.bar(list(statist_freq.keys()), list(statist_freq.values()), bins=num_bin)\n",
    "plt.xlabel('Number of Frequency')\n",
    "plt.ylabel('Number of Skills')\n",
    "plt.title('Number of Skills in Each Job Description')\n",
    "plt.show()"
   ]
  },
  {
   "cell_type": "markdown",
   "metadata": {},
   "source": [
    "# Plot len skills and num skill have same len"
   ]
  },
  {
   "cell_type": "code",
   "execution_count": null,
   "metadata": {},
   "outputs": [],
   "source": [
    "total_skill_jds"
   ]
  },
  {
   "cell_type": "code",
   "execution_count": null,
   "metadata": {},
   "outputs": [],
   "source": []
  }
 ],
 "metadata": {
  "kernelspec": {
   "display_name": "Python 3",
   "language": "python",
   "name": "python3"
  },
  "language_info": {
   "codemirror_mode": {
    "name": "ipython",
    "version": 3
   },
   "file_extension": ".py",
   "mimetype": "text/x-python",
   "name": "python",
   "nbconvert_exporter": "python",
   "pygments_lexer": "ipython3",
   "version": "3.11.5"
  },
  "orig_nbformat": 4
 },
 "nbformat": 4,
 "nbformat_minor": 2
}
