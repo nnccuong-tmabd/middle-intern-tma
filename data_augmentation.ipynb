{
 "cells": [
  {
   "cell_type": "code",
   "execution_count": 1,
   "metadata": {},
   "outputs": [],
   "source": [
    "import json\n",
    "\n",
    "# read file json data_skill_tensor.json\n",
    "\n",
    "with open('data//train/data_skill_tensor.json', 'r') as f:\n",
    "    data = json.load(f)\n",
    "\n",
    "f.close()\n",
    "\n",
    "data_skill = [job['skills'] for job in data]"
   ]
  },
  {
   "cell_type": "code",
   "execution_count": 2,
   "metadata": {},
   "outputs": [],
   "source": [
    "# load IT skill JDs\n",
    "def load_data_skill(filename):\n",
    "    with open(filename, 'r') as f:\n",
    "        data = json.load(f)\n",
    "\n",
    "    f.close()\n",
    "    \n",
    "    return list(data.values())\n",
    "\n",
    "skill1 = load_data_skill('data//train/IT_skill_JDs_p1.json')\n",
    "skill2 = load_data_skill('data/train/IT_skill_JDs_p1.json')"
   ]
  },
  {
   "cell_type": "code",
   "execution_count": 3,
   "metadata": {},
   "outputs": [],
   "source": [
    "def nomalize_skill(skill):\n",
    "    for i in range(len(skill)):\n",
    "        skill[i] = [item.lower() for item in skill[i]]\n",
    "    \n",
    "    return skill\n",
    "\n",
    "data_skill = nomalize_skill(data_skill)\n",
    "skill1 = nomalize_skill(skill1)\n",
    "skill2 = nomalize_skill(skill2)"
   ]
  },
  {
   "cell_type": "code",
   "execution_count": 4,
   "metadata": {},
   "outputs": [],
   "source": [
    "# concate three list\n",
    "total_skill_jbs = data_skill + skill1 + skill2"
   ]
  },
  {
   "cell_type": "code",
   "execution_count": 5,
   "metadata": {},
   "outputs": [],
   "source": [
    "# valid data\n",
    "valid_data_path = 'data/valid/skills_valid.json'\n",
    "\n",
    "def load_valid_data(filename):\n",
    "\n",
    "    with open(filename, 'r') as f:\n",
    "        valid_data = json.load(f)\n",
    "\n",
    "    f.close()\n",
    "\n",
    "    # total valid skill\n",
    "    total_valid_skill = 0\n",
    "    for skill in valid_data.keys():\n",
    "        total_valid_skill += len(valid_data[skill])\n",
    "\n",
    "    print(f'Total valid skill: {total_valid_skill}')\n",
    "\n",
    "    return valid_data"
   ]
  },
  {
   "cell_type": "code",
   "execution_count": 6,
   "metadata": {},
   "outputs": [],
   "source": [
    "import random\n",
    "import numpy as np\n",
    "\n",
    "def shuffle_data(skills, discard=0):\n",
    "    # Make a copy of the input list to avoid modifying the original list\n",
    "    shuffled_skills = skills.copy()\n",
    "    \n",
    "    # Shuffle the copy of the list in place\n",
    "    random.shuffle(shuffled_skills)\n",
    "    \n",
    "    return shuffled_skills\n",
    "\n",
    "def cutout_data(skills, mask_size=5):\n",
    "\n",
    "    cutout_skills = skills.copy()\n",
    "    \n",
    "    mask_size = min(mask_size, len(cutout_skills))\n",
    "    \n",
    "    cutout_index = random.sample(range(len(skills)), mask_size)\n",
    "    \n",
    "    for idx in cutout_index:\n",
    "        cutout_skills[idx] = ''\n",
    "        \n",
    "\n",
    "    cutout_skills = [x for x in cutout_skills if x != '']\n",
    "    \n",
    "    return cutout_skills\n"
   ]
  },
  {
   "cell_type": "code",
   "execution_count": null,
   "metadata": {},
   "outputs": [],
   "source": [
    "def cluster_similarity(skills, valid_data):\n",
    "    \n",
    "    cluster_data = {}\n",
    "\n",
    "    for skill in skills:\n",
    "        "
   ]
  },
  {
   "cell_type": "code",
   "execution_count": null,
   "metadata": {},
   "outputs": [],
   "source": [
    "def create_new_data(total_skills, func, num_samples=2100):\n",
    "\n",
    "    if num_samples > len(total_skills):\n",
    "        num_samples = len(total_skills) \n",
    "\n",
    "    skills_augmentation_collection = []\n",
    "    # pick random sample in skills jbs\n",
    "    random_indexs = random.sample(range(len(total_skills)), num_samples)\n",
    "    for index in random_indexs:\n",
    "        mask_size = 0\n",
    "        if func.__name__ == 'cutout_data':\n",
    "            mask_size = random.randint(0, int(len(total_skills[index])/2))\n",
    "\n",
    "        skills_augmentation_collection.append(func(total_skills[index], mask_size))\n",
    "\n",
    "    return skills_augmentation_collection"
   ]
  },
  {
   "cell_type": "code",
   "execution_count": null,
   "metadata": {},
   "outputs": [],
   "source": [
    "skill1_augmentation = create_new_data(skill1, cutout_data) + create_new_data(skill1, shuffle_data)\n",
    "skill2_augmentation = create_new_data(skill2, cutout_data) + create_new_data(skill2, shuffle_data)\n",
    "total_skill_jbs += skill1_augmentation + skill2_augmentation\n",
    "\n",
    "total_augmentation = create_new_data(total_skill_jbs, cutout_data, len(total_skill_jbs)) + create_new_data(total_skill_jbs, shuffle_data, len(total_skill_jbs))\n",
    "total_skill_jbs += total_augmentation"
   ]
  }
 ],
 "metadata": {
  "kernelspec": {
   "display_name": "Python 3",
   "language": "python",
   "name": "python3"
  },
  "language_info": {
   "codemirror_mode": {
    "name": "ipython",
    "version": 3
   },
   "file_extension": ".py",
   "mimetype": "text/x-python",
   "name": "python",
   "nbconvert_exporter": "python",
   "pygments_lexer": "ipython3",
   "version": "3.11.5"
  },
  "orig_nbformat": 4
 },
 "nbformat": 4,
 "nbformat_minor": 2
}
