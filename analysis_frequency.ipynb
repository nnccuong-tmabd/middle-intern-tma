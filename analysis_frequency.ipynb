{
 "cells": [
  {
   "cell_type": "code",
   "execution_count": 1,
   "metadata": {},
   "outputs": [],
   "source": [
    "import json\n",
    "\n",
    "# read file json data_skill_tensor.json\n",
    "\n",
    "with open('data//train/data_skill_tensor.json', 'r') as f:\n",
    "    data = json.load(f)\n",
    "\n",
    "f.close()\n",
    "\n",
    "data_skill = [job['skills'] for job in data]"
   ]
  },
  {
   "cell_type": "code",
   "execution_count": 2,
   "metadata": {},
   "outputs": [],
   "source": [
    "# load IT skill JDs\n",
    "def load_data_skill(filename):\n",
    "    with open(filename, 'r') as f:\n",
    "        data = json.load(f)\n",
    "\n",
    "    f.close()\n",
    "    \n",
    "    return list(data.values())\n",
    "\n",
    "skill1 = load_data_skill('data//train/IT_skill_JDs_p1.json')\n",
    "skill2 = load_data_skill('data/train/IT_skill_JDs_p1.json')"
   ]
  },
  {
   "cell_type": "code",
   "execution_count": 3,
   "metadata": {},
   "outputs": [],
   "source": [
    "def nomalize_skill(skill):\n",
    "    for i in range(len(skill)):\n",
    "        skill[i] = [item.lower() for item in skill[i]]\n",
    "    \n",
    "    return skill\n",
    "\n",
    "data_skill = nomalize_skill(data_skill)\n",
    "skill1 = nomalize_skill(skill1)\n",
    "skill2 = nomalize_skill(skill2)"
   ]
  },
  {
   "cell_type": "code",
   "execution_count": 4,
   "metadata": {},
   "outputs": [],
   "source": [
    "# concate three list\n",
    "total_skill_jbs = data_skill + skill1 + skill2"
   ]
  },
  {
   "cell_type": "code",
   "execution_count": 5,
   "metadata": {},
   "outputs": [],
   "source": [
    "# save to train\n",
    "import json\n",
    "\n",
    "json_path = 'data/train/total_skill_jds.json'\n",
    "with open(json_path, 'w') as f:\n",
    "    json.dump(total_skill_jbs, f, indent=4)"
   ]
  },
  {
   "cell_type": "markdown",
   "metadata": {},
   "source": [
    "# Process data"
   ]
  },
  {
   "cell_type": "code",
   "execution_count": null,
   "metadata": {},
   "outputs": [],
   "source": [
    "contractions = {\n",
    "    \"word-processing\": \"word processing\",\n",
    "    \"ci\": \"continuous integration\",\n",
    "    \"ci/cd\": [\"continuous integration\", \"cd\"],\n",
    "    \n",
    "}"
   ]
  },
  {
   "cell_type": "markdown",
   "metadata": {},
   "source": [
    "# Find Frequency of each skill"
   ]
  },
  {
   "cell_type": "code",
   "execution_count": 22,
   "metadata": {},
   "outputs": [],
   "source": [
    "def get_frequency_skill(skills_jbs):\n",
    "\n",
    "    frequency_skills = {}\n",
    "    for skills in skills_jbs:\n",
    "        for skill in skills:\n",
    "            if skill not in list(frequency_skills.keys()):\n",
    "                frequency_skills[skill] = 1\n",
    "            else:\n",
    "                frequency_skills[skill] += 1\n",
    "\n",
    "     # Sort the dictionary by frequency in descending order\n",
    "    sorted_frequency_skills = dict(sorted(frequency_skills.items(), key=lambda item: item[1], reverse=True))\n",
    "    \n",
    "    return sorted_frequency_skills"
   ]
  },
  {
   "cell_type": "code",
   "execution_count": 23,
   "metadata": {},
   "outputs": [],
   "source": [
    "frequency_skills = get_frequency_skill(total_skill_jbs)"
   ]
  },
  {
   "cell_type": "code",
   "execution_count": 26,
   "metadata": {},
   "outputs": [],
   "source": [
    "import matplotlib.pyplot as plt"
   ]
  },
  {
   "cell_type": "code",
   "execution_count": null,
   "metadata": {},
   "outputs": [],
   "source": [
    "# Extract skill names and frequencies for plotting\n",
    "skill_names = list(frequency_skills.keys())\n",
    "skill_frequencies = list(frequency_skills.values())\n",
    "\n",
    "# Create a bar plot\n",
    "plt.figure(figsize=(10, 20))\n",
    "plt.barh(range(len(skill_names[800:8000])), skill_frequencies[800:8000])  # Display the top 10 skills\n",
    "plt.xlabel('Frequency')\n",
    "plt.ylabel('Skill')\n",
    "plt.title('Top 10 Skills by Frequency')\n",
    "plt.gca().invert_yaxis()  # Invert the y-axis to display the most frequent skill at the top\n",
    "plt.show()"
   ]
  },
  {
   "cell_type": "code",
   "execution_count": 124,
   "metadata": {},
   "outputs": [],
   "source": [
    "def filter_vocab_min_count(frequency_skills, min_count=6):\n",
    "    result = {}\n",
    "    for skills in frequency_skills.keys():\n",
    "\n",
    "        if frequency_skills[skills] >= min_count:\n",
    "            result[skills] = frequency_skills[skills]\n",
    "\n",
    "    return result\n",
    "\n",
    "filter_skills = filter_vocab_min_count(frequency_skills)"
   ]
  },
  {
   "cell_type": "code",
   "execution_count": 125,
   "metadata": {},
   "outputs": [
    {
     "data": {
      "text/plain": [
       "2357"
      ]
     },
     "execution_count": 125,
     "metadata": {},
     "output_type": "execute_result"
    }
   ],
   "source": [
    "len(filter_skills)"
   ]
  },
  {
   "cell_type": "code",
   "execution_count": 105,
   "metadata": {},
   "outputs": [],
   "source": [
    "# find frequency of all skill when skill a is present\n",
    "def find_frequency_skill(skill, k=-1):\n",
    "    frequency = {}\n",
    "    for i in range(len(total_skill_jbs)):\n",
    "        if skill in total_skill_jbs[i]:\n",
    "            for s in total_skill_jbs[i]:\n",
    "                if s in frequency:\n",
    "                    frequency[s] += 1\n",
    "                else:\n",
    "                    frequency[s] = 1\n",
    "\n",
    "    # sort frequency\n",
    "    frequency = {k: v for k, v in sorted(frequency.items(), key=lambda item: item[1], reverse=True)}\n",
    "\n",
    "    if k == -1:\n",
    "        return frequency\n",
    "    else:\n",
    "        # return top k skill and remove top 1 (skill a)\n",
    "        return {i: frequency[i] for i in list(frequency)[1:k+1]}"
   ]
  },
  {
   "cell_type": "code",
   "execution_count": 126,
   "metadata": {},
   "outputs": [],
   "source": [
    "empty_skill = [ \"\" , \"\", \"\", \"\", \"\", \"\" , \"\", \"\", \"\", \"\" ]\n",
    "\n",
    "valid_skills = {}\n",
    "\n",
    "for skill in filter_skills.keys():\n",
    "\n",
    "    valid_skills[skill] = list(find_frequency_skill(skill, 20).keys())\n",
    "\n",
    "import json\n",
    "\n",
    "json_path = 'data/valid/skills_valid.json'\n",
    "with open(json_path, 'w') as f:\n",
    "    json.dump(valid_skills, f, indent=4)"
   ]
  },
  {
   "cell_type": "code",
   "execution_count": 109,
   "metadata": {},
   "outputs": [
    {
     "data": {
      "text/plain": [
       "{'machine learning': 3068,\n",
       " 'mathematics': 3043,\n",
       " 'physics': 3003,\n",
       " 'sql': 2781,\n",
       " 'aws': 2779,\n",
       " 'bash': 2556,\n",
       " 'statistics': 2520,\n",
       " 'electrical engineering': 2489,\n",
       " 'azure': 2173,\n",
       " 'javascript': 2108,\n",
       " 'cloud': 2102,\n",
       " 'gcp': 2095,\n",
       " 'data science': 2074,\n",
       " 'ai': 2054,\n",
       " 'business intelligence': 2016,\n",
       " 'agriculture': 1967,\n",
       " 'devops': 1762,\n",
       " 'java': 1689,\n",
       " 'linux': 1672,\n",
       " 'c++': 1635}"
      ]
     },
     "execution_count": 109,
     "metadata": {},
     "output_type": "execute_result"
    }
   ],
   "source": [
    "frequency = find_frequency_skill('python', 20)\n",
    "frequency"
   ]
  },
  {
   "cell_type": "code",
   "execution_count": 131,
   "metadata": {},
   "outputs": [],
   "source": [
    "# get removed skill\n",
    "removed_skill = []\n",
    "for skill in frequency_skills.keys():\n",
    "    if frequency_skills[skill] < 6:\n",
    "        removed_skill.append(skill)\n",
    "\n",
    "# save removed_skill\n",
    "import json\n",
    "\n",
    "json_path = 'data/removed_skill.json'\n",
    "with open(json_path, 'w') as f:\n",
    "    json.dump(removed_skill, f, indent=4)"
   ]
  },
  {
   "cell_type": "code",
   "execution_count": 112,
   "metadata": {},
   "outputs": [],
   "source": [
    "# save vocab\n",
    "import json\n",
    "\n",
    "json_path = 'data/vocab_no_filter_min_count.json'\n",
    "with open(json_path, 'w') as f:\n",
    "    json.dump(frequency_skills, f, indent=4)"
   ]
  }
 ],
 "metadata": {
  "kernelspec": {
   "display_name": "Python 3",
   "language": "python",
   "name": "python3"
  },
  "language_info": {
   "codemirror_mode": {
    "name": "ipython",
    "version": 3
   },
   "file_extension": ".py",
   "mimetype": "text/x-python",
   "name": "python",
   "nbconvert_exporter": "python",
   "pygments_lexer": "ipython3",
   "version": "3.11.5"
  },
  "orig_nbformat": 4
 },
 "nbformat": 4,
 "nbformat_minor": 2
}
