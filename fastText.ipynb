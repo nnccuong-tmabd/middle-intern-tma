{
 "cells": [
  {
   "cell_type": "code",
   "execution_count": 1,
   "metadata": {},
   "outputs": [],
   "source": [
    "from gensim.models import FastText"
   ]
  },
  {
   "cell_type": "markdown",
   "metadata": {},
   "source": [
    "# Data"
   ]
  },
  {
   "cell_type": "code",
   "execution_count": 2,
   "metadata": {},
   "outputs": [
    {
     "data": {
      "text/plain": [
       "175971"
      ]
     },
     "execution_count": 2,
     "metadata": {},
     "output_type": "execute_result"
    }
   ],
   "source": [
    "import json\n",
    "import requests\n",
    "\n",
    "def load_data_skill(filename):\n",
    "\n",
    "    # resp = requests.get(filename)\n",
    "    with open(filename, 'r') as f:\n",
    "        data = json.load(f)\n",
    "\n",
    "    return list(data)\n",
    "\n",
    "# filename = 'data/train/total_skill_augmentation_jds_sorted_relevant_combine_random_and_not.json'\n",
    "filename = 'data/train/total_skill_jds_augmentation.json'\n",
    "total_skills_jds = load_data_skill(filename)\n",
    "len(total_skills_jds)"
   ]
  },
  {
   "cell_type": "markdown",
   "metadata": {},
   "source": [
    "# Valid Function"
   ]
  },
  {
   "cell_type": "code",
   "execution_count": 3,
   "metadata": {},
   "outputs": [
    {
     "name": "stdout",
     "output_type": "stream",
     "text": [
      "Total valid skill: 67321\n"
     ]
    }
   ],
   "source": [
    "# valid data\n",
    "valid_data_path = 'data/valid/skills_valid_around.json'\n",
    "\n",
    "with open(valid_data_path, 'r') as f:\n",
    "    valid_data = json.load(f)\n",
    "\n",
    "f.close()\n",
    "\n",
    "# valid_data = json.loads(resp.text)\n",
    "\n",
    "# total valid skill\n",
    "total_valid_skill = 0\n",
    "for skill in valid_data.keys():\n",
    "    total_valid_skill += len(valid_data[skill])\n",
    "\n",
    "print(f'Total valid skill: {total_valid_skill}')"
   ]
  },
  {
   "cell_type": "code",
   "execution_count": 4,
   "metadata": {},
   "outputs": [],
   "source": [
    "def model_prediction(model, valid_data):\n",
    "    result = {}\n",
    "    skills = valid_data.keys()\n",
    "    for skill in skills:\n",
    "        try:\n",
    "            topn = len(valid_data[skill])\n",
    "            topn_skills = [skill[0] for skill in model.wv.most_similar(skill, topn=topn)]\n",
    "        except:\n",
    "            continue\n",
    "\n",
    "        result[skill] = topn_skills\n",
    "\n",
    "    return result\n",
    "\n",
    "def valid_skill(prediction, valid_data): # prediction: dict, valid_data: dict\n",
    "    count = 0\n",
    "    for skill in prediction.keys():\n",
    "        for rlv_skill in prediction[skill]:\n",
    "            if rlv_skill in valid_data[skill]:\n",
    "                count += 1\n",
    "\n",
    "    flattened_valid = []\n",
    "    for skills in prediction.keys():\n",
    "        flattened_valid += valid_data[skills]\n",
    "        \n",
    "    # find the number of skill in valid data\n",
    "    total_skills = len(flattened_valid)\n",
    "\n",
    "    return count/total_skills\n"
   ]
  },
  {
   "cell_type": "code",
   "execution_count": 5,
   "metadata": {},
   "outputs": [],
   "source": [
    "def calculate_acc(model):\n",
    "  #pick random 200 skills in valid data\n",
    "\n",
    "  prediction = model_prediction(model, valid_data)\n",
    "\n",
    "  accuracy = valid_skill(prediction, valid_data)\n",
    "\n",
    "\n",
    "  return accuracy"
   ]
  },
  {
   "cell_type": "markdown",
   "metadata": {},
   "source": [
    "# Model training"
   ]
  },
  {
   "cell_type": "code",
   "execution_count": 6,
   "metadata": {},
   "outputs": [
    {
     "name": "stdout",
     "output_type": "stream",
     "text": [
      "Total number of hyperparameter combinations: 1\n"
     ]
    }
   ],
   "source": [
    "import itertools\n",
    "\n",
    "# create hyperparameter for training fasttext model and use grid search to find best hyperparameter\n",
    "# Define hyperparameters\n",
    "vector_size = [100]  # Can adjust this to your desired vector size\n",
    "window_size = [5]    # Context window size\n",
    "min_count = [12]      # Minimum word frequency\n",
    "sg = [1]             # Skip-gram model (1 for skip-gram, 0 for CBOW)\n",
    "hs = [1]                # Using negative sampling (1 for HS, 0 for negative sampling)\n",
    "negative = [0]\n",
    "ns_exponent = [0]    # The exponent used to shape the negative sampling distribution (0 for unigram, 1 for uniform)\n",
    "seed = [1]\n",
    "batch_word = [100]     # Number of words for each training batch\n",
    "# min_n = [2, 3, 4]             # Minimum character n-gram length # choose 2\n",
    "# max_n = [5, 6, 7]             # Maximum character n-gram length # choose 5\n",
    "min_n = [5]             # Minimum character n-gram length\n",
    "max_n = [8]             # Maximum character n-gram length\n",
    "bucket = [2000000]      # Character n-grams are hashed into a fixed number of buckets, in order to limit the memory usage of the model. This option specifies the number of buckets used by the model\n",
    "shrink_windows = [False] # Whether to shrink the window size as training goes on. This usually improves the accuracy of word vectors\n",
    "alpha = [0.1]           # The initial learning rate\n",
    "\n",
    "workers = [2]           # Number of worker threads to train the model\n",
    "epochs = [200]          # Number of epochs to train the model\n",
    "\n",
    "# Create combinations of hyperparameters\n",
    "hyperparameter_combinations = list(itertools.product(vector_size, window_size, min_count, sg, hs, negative, ns_exponent, seed, batch_word, min_n, max_n, bucket, shrink_windows, alpha, workers, epochs))\n",
    "\n",
    "# Print the total number of combinations\n",
    "print(f\"Total number of hyperparameter combinations: {len(hyperparameter_combinations)}\")"
   ]
  },
  {
   "cell_type": "code",
   "execution_count": 7,
   "metadata": {},
   "outputs": [],
   "source": [
    "# function train model fasttext\n",
    "def train_fasttext(skills_jds,\n",
    "                   vector_size=100,\n",
    "                   window_size=5,\n",
    "                   min_count=3,\n",
    "                   sg=1,\n",
    "                   hs=0,\n",
    "                   negative=0,\n",
    "                   ns_exponent=0.5,\n",
    "                   seed=1,\n",
    "                   batch_words=100,\n",
    "                   min_n=3,\n",
    "                   max_n=6,\n",
    "                   bucket=2000000, \n",
    "                   shrink_windows=True,\n",
    "                   alpha=0.025,\n",
    "                   workers=2,\n",
    "                   epochs=100):\n",
    "\n",
    "    # Initialize and train the FastText model\n",
    "    model = FastText(\n",
    "        vector_size=vector_size,\n",
    "        window=window_size,\n",
    "        min_count=min_count,\n",
    "        sg=sg,\n",
    "        hs=hs,\n",
    "        negative=negative,\n",
    "        alpha=alpha,\n",
    "        ns_exponent=ns_exponent,\n",
    "        seed=seed,\n",
    "        batch_words=batch_words,\n",
    "        min_n=min_n,\n",
    "        max_n=max_n,\n",
    "        bucket=bucket,\n",
    "        shrink_windows=shrink_windows,\n",
    "        workers=workers,\n",
    "        epochs=2\n",
    "    )\n",
    "\n",
    "    model.build_vocab(corpus_iterable=skills_jds)\n",
    "\n",
    "    model.train(\n",
    "        corpus_iterable=skills_jds,\n",
    "        total_words = model.corpus_total_words,\n",
    "        total_examples=len(skills_jds),\n",
    "        epochs=model.epochs,   \n",
    "    )\n",
    "\n",
    "    pre_accuaracy = calculate_acc(model)\n",
    "    print(f'Epoch {1}/{epochs} - Accuaracy: {pre_accuaracy}')\n",
    "\n",
    "    # threshold = 0.002\n",
    "    num_epochs = epochs - 1\n",
    "    break_count = 3\n",
    "\n",
    "    for epoch in range(num_epochs):\n",
    "\n",
    "        if break_count <= 0:\n",
    "            break\n",
    "\n",
    "        model.update_weights()\n",
    "\n",
    "        model.train(\n",
    "            corpus_iterable=skills_jds,\n",
    "            total_words = model.corpus_total_words,\n",
    "            total_examples=len(skills_jds),\n",
    "            epochs=model.epochs\n",
    "        )\n",
    "\n",
    "        accuaracy = calculate_acc(model)\n",
    "\n",
    "        print(f'Epoch {epoch+2}/{epochs} - Accuaracy: {accuaracy}')\n",
    "\n",
    "        # early stopping\n",
    "        if pre_accuaracy - accuaracy > 0:\n",
    "            break_count -= 1\n",
    "        \n",
    "        pre_accuaracy = accuaracy\n",
    "\n",
    "    return model\n"
   ]
  },
  {
   "cell_type": "code",
   "execution_count": 9,
   "metadata": {},
   "outputs": [],
   "source": [
    "vector_size = 100  # Can adjust this to your desired vector size\n",
    "window_size = 5    # Context window size\n",
    "min_count = 12      # Minimum word frequency\n",
    "sg = 1             # Skip-gram model (1 for skip-gram, 0 for CBOW)\n",
    "hs = 1                # Using negative sampling (1 for HS, 0 for negative sampling)\n",
    "negative = 0\n",
    "ns_exponent = 0    # The exponent used to shape the negative sampling distribution (0 for unigram, 1 for uniform)\n",
    "seed=1\n",
    "batch_words = 100     # Number of words for each training batch\n",
    "# min_n = [2, 3, 4]             # Minimum character n-gram length # choose 2\n",
    "# max_n = [5, 6, 7]             # Maximum character n-gram length # choose 5\n",
    "min_n = 5             # Minimum character n-gram length\n",
    "max_n = 7             # Maximum character n-gram length\n",
    "bucket = 3000000     # Character n-grams are hashed into a fixed number of buckets, in order to limit the memory usage of the model. This option specifies the number of buckets used by the model\n",
    "shrink_windows = True # Whether to shrink the window size as training goes on. This usually improves the accuracy of word vectors\n",
    "alpha = 0.01           # The initial learning rate\n",
    "\n",
    "workers = 2           # Number of worker threads to train the model\n",
    "epochs = 200 "
   ]
  },
  {
   "cell_type": "code",
   "execution_count": 10,
   "metadata": {},
   "outputs": [
    {
     "name": "stdout",
     "output_type": "stream",
     "text": [
      "Epoch 1/200 - Accuaracy: 0.05094992647168046\n",
      "Epoch 2/200 - Accuaracy: 0.07586042988072073\n",
      "Epoch 3/200 - Accuaracy: 0.09977570148987686\n",
      "Epoch 4/200 - Accuaracy: 0.11914558607269649\n",
      "Epoch 5/200 - Accuaracy: 0.1347870649574427\n",
      "Epoch 6/200 - Accuaracy: 0.14665557552621025\n",
      "Epoch 7/200 - Accuaracy: 0.15639993464149374\n",
      "Epoch 8/200 - Accuaracy: 0.16393101706748267\n",
      "Epoch 9/200 - Accuaracy: 0.1698281368369454\n",
      "Epoch 10/200 - Accuaracy: 0.1747448790124924\n",
      "Epoch 11/200 - Accuaracy: 0.17885949406574472\n",
      "Epoch 12/200 - Accuaracy: 0.18214227358476553\n",
      "Epoch 13/200 - Accuaracy: 0.185023989542639\n",
      "Epoch 14/200 - Accuaracy: 0.1874006624975862\n",
      "Epoch 15/200 - Accuaracy: 0.19004471115996494\n",
      "Epoch 16/200 - Accuaracy: 0.19118848501953328\n",
      "Epoch 17/200 - Accuaracy: 0.19304526076558579\n",
      "Epoch 18/200 - Accuaracy: 0.19512484960116458\n",
      "Epoch 19/200 - Accuaracy: 0.19635774869654343\n",
      "Epoch 20/200 - Accuaracy: 0.19756093937998545\n",
      "Epoch 21/200 - Accuaracy: 0.1987195674455222\n",
      "Epoch 22/200 - Accuaracy: 0.19958111139169055\n",
      "Epoch 23/200 - Accuaracy: 0.2007397394572273\n",
      "Epoch 24/200 - Accuaracy: 0.20180924228695354\n",
      "Epoch 25/200 - Accuaracy: 0.2019280759347009\n",
      "Epoch 26/200 - Accuaracy: 0.20275991146893244\n",
      "Epoch 27/200 - Accuaracy: 0.20384426850462709\n",
      "Epoch 28/200 - Accuaracy: 0.20488406292241648\n",
      "Epoch 29/200 - Accuaracy: 0.20552279377905855\n",
      "Epoch 30/200 - Accuaracy: 0.20567133583874275\n",
      "Epoch 31/200 - Accuaracy: 0.20633977510732163\n",
      "Epoch 32/200 - Accuaracy: 0.20665171343265845\n",
      "Epoch 33/200 - Accuaracy: 0.20752811158479523\n",
      "Epoch 34/200 - Accuaracy: 0.20760238261463734\n",
      "Epoch 35/200 - Accuaracy: 0.2080925714115952\n",
      "Epoch 36/200 - Accuaracy: 0.20858276020855304\n",
      "Epoch 37/200 - Accuaracy: 0.2095037209785951\n",
      "Epoch 38/200 - Accuaracy: 0.20966711724424772\n",
      "Epoch 39/200 - Accuaracy: 0.20963740883231086\n"
     ]
    }
   ],
   "source": [
    "import multiprocessing\n",
    "\n",
    "model = train_fasttext(skills_jds=total_skills_jds,\n",
    "                       vector_size=vector_size,\n",
    "                       window_size=window_size,\n",
    "                       min_count=min_count,\n",
    "                       workers=multiprocessing.cpu_count()-2,\n",
    "                       negative=negative,\n",
    "                       ns_exponent=ns_exponent,\n",
    "                       seed=seed,\n",
    "                       batch_words=batch_words,\n",
    "                       min_n=min_n,\n",
    "                       max_n=max_n,\n",
    "                       bucket=bucket,\n",
    "                       shrink_windows=shrink_windows,\n",
    "                       alpha=alpha,\n",
    "                       sg=sg,\n",
    "                       hs=hs,\n",
    "                       epochs=epochs)"
   ]
  },
  {
   "cell_type": "code",
   "execution_count": 11,
   "metadata": {},
   "outputs": [
    {
     "ename": "NameError",
     "evalue": "name 'batch_word' is not defined",
     "output_type": "error",
     "traceback": [
      "\u001b[1;31m---------------------------------------------------------------------------\u001b[0m",
      "\u001b[1;31mNameError\u001b[0m                                 Traceback (most recent call last)",
      "\u001b[1;32md:\\middle-intern-tma\\fastText.ipynb Cell 13\u001b[0m line \u001b[0;36m1\n\u001b[0;32m      <a href='vscode-notebook-cell:/d%3A/middle-intern-tma/fastText.ipynb#X15sZmlsZQ%3D%3D?line=2'>3</a>\u001b[0m model_path \u001b[39m=\u001b[39m \u001b[39m'\u001b[39m\u001b[39mfasttext_simple\u001b[39m\u001b[39m'\u001b[39m\n\u001b[0;32m      <a href='vscode-notebook-cell:/d%3A/middle-intern-tma/fastText.ipynb#X15sZmlsZQ%3D%3D?line=3'>4</a>\u001b[0m idx \u001b[39m=\u001b[39m \u001b[39m0\u001b[39m\n\u001b[0;32m      <a href='vscode-notebook-cell:/d%3A/middle-intern-tma/fastText.ipynb#X15sZmlsZQ%3D%3D?line=5'>6</a>\u001b[0m log_parameters \u001b[39m=\u001b[39m {\n\u001b[0;32m      <a href='vscode-notebook-cell:/d%3A/middle-intern-tma/fastText.ipynb#X15sZmlsZQ%3D%3D?line=6'>7</a>\u001b[0m             \u001b[39m\"\u001b[39m\u001b[39mvector_size\u001b[39m\u001b[39m\"\u001b[39m: vector_size,\n\u001b[0;32m      <a href='vscode-notebook-cell:/d%3A/middle-intern-tma/fastText.ipynb#X15sZmlsZQ%3D%3D?line=7'>8</a>\u001b[0m             \u001b[39m\"\u001b[39m\u001b[39mwindows_size\u001b[39m\u001b[39m\"\u001b[39m: window_size,\n\u001b[0;32m      <a href='vscode-notebook-cell:/d%3A/middle-intern-tma/fastText.ipynb#X15sZmlsZQ%3D%3D?line=8'>9</a>\u001b[0m             \u001b[39m\"\u001b[39m\u001b[39mmin_cout\u001b[39m\u001b[39m\"\u001b[39m: min_count,\n\u001b[0;32m     <a href='vscode-notebook-cell:/d%3A/middle-intern-tma/fastText.ipynb#X15sZmlsZQ%3D%3D?line=9'>10</a>\u001b[0m             \u001b[39m\"\u001b[39m\u001b[39msg\u001b[39m\u001b[39m\"\u001b[39m: sg,\n\u001b[0;32m     <a href='vscode-notebook-cell:/d%3A/middle-intern-tma/fastText.ipynb#X15sZmlsZQ%3D%3D?line=10'>11</a>\u001b[0m             \u001b[39m\"\u001b[39m\u001b[39mhs\u001b[39m\u001b[39m\"\u001b[39m: hs,\n\u001b[0;32m     <a href='vscode-notebook-cell:/d%3A/middle-intern-tma/fastText.ipynb#X15sZmlsZQ%3D%3D?line=11'>12</a>\u001b[0m             \u001b[39m\"\u001b[39m\u001b[39mnegative\u001b[39m\u001b[39m\"\u001b[39m: negative,\n\u001b[0;32m     <a href='vscode-notebook-cell:/d%3A/middle-intern-tma/fastText.ipynb#X15sZmlsZQ%3D%3D?line=12'>13</a>\u001b[0m             \u001b[39m\"\u001b[39m\u001b[39mns_exponent\u001b[39m\u001b[39m\"\u001b[39m: ns_exponent,\n\u001b[0;32m     <a href='vscode-notebook-cell:/d%3A/middle-intern-tma/fastText.ipynb#X15sZmlsZQ%3D%3D?line=13'>14</a>\u001b[0m             \u001b[39m\"\u001b[39m\u001b[39mseed\u001b[39m\u001b[39m\"\u001b[39m: seed,\n\u001b[1;32m---> <a href='vscode-notebook-cell:/d%3A/middle-intern-tma/fastText.ipynb#X15sZmlsZQ%3D%3D?line=14'>15</a>\u001b[0m             \u001b[39m\"\u001b[39m\u001b[39mbatch_word\u001b[39m\u001b[39m\"\u001b[39m: batch_word,\n\u001b[0;32m     <a href='vscode-notebook-cell:/d%3A/middle-intern-tma/fastText.ipynb#X15sZmlsZQ%3D%3D?line=15'>16</a>\u001b[0m             \u001b[39m\"\u001b[39m\u001b[39mmin_n\u001b[39m\u001b[39m\"\u001b[39m: min_n,\n\u001b[0;32m     <a href='vscode-notebook-cell:/d%3A/middle-intern-tma/fastText.ipynb#X15sZmlsZQ%3D%3D?line=16'>17</a>\u001b[0m             \u001b[39m\"\u001b[39m\u001b[39mmax_n\u001b[39m\u001b[39m\"\u001b[39m: max_n,\n\u001b[0;32m     <a href='vscode-notebook-cell:/d%3A/middle-intern-tma/fastText.ipynb#X15sZmlsZQ%3D%3D?line=17'>18</a>\u001b[0m             \u001b[39m\"\u001b[39m\u001b[39mbucket\u001b[39m\u001b[39m\"\u001b[39m: bucket,\n\u001b[0;32m     <a href='vscode-notebook-cell:/d%3A/middle-intern-tma/fastText.ipynb#X15sZmlsZQ%3D%3D?line=18'>19</a>\u001b[0m             \u001b[39m\"\u001b[39m\u001b[39mshrink_windows\u001b[39m\u001b[39m\"\u001b[39m: shrink_windows,\n\u001b[0;32m     <a href='vscode-notebook-cell:/d%3A/middle-intern-tma/fastText.ipynb#X15sZmlsZQ%3D%3D?line=19'>20</a>\u001b[0m             \u001b[39m\"\u001b[39m\u001b[39malpha\u001b[39m\u001b[39m\"\u001b[39m: alpha,\n\u001b[0;32m     <a href='vscode-notebook-cell:/d%3A/middle-intern-tma/fastText.ipynb#X15sZmlsZQ%3D%3D?line=20'>21</a>\u001b[0m             \u001b[39m\"\u001b[39m\u001b[39mworkers\u001b[39m\u001b[39m\"\u001b[39m: workers,\n\u001b[0;32m     <a href='vscode-notebook-cell:/d%3A/middle-intern-tma/fastText.ipynb#X15sZmlsZQ%3D%3D?line=21'>22</a>\u001b[0m             \u001b[39m\"\u001b[39m\u001b[39mepochs\u001b[39m\u001b[39m\"\u001b[39m: epochs\n\u001b[0;32m     <a href='vscode-notebook-cell:/d%3A/middle-intern-tma/fastText.ipynb#X15sZmlsZQ%3D%3D?line=22'>23</a>\u001b[0m         }\n\u001b[0;32m     <a href='vscode-notebook-cell:/d%3A/middle-intern-tma/fastText.ipynb#X15sZmlsZQ%3D%3D?line=24'>25</a>\u001b[0m accuracy \u001b[39m=\u001b[39m calculate_acc(model)\n\u001b[0;32m     <a href='vscode-notebook-cell:/d%3A/middle-intern-tma/fastText.ipynb#X15sZmlsZQ%3D%3D?line=26'>27</a>\u001b[0m \u001b[39mif\u001b[39;00m \u001b[39mnot\u001b[39;00m os\u001b[39m.\u001b[39mpath\u001b[39m.\u001b[39mexists(\u001b[39mf\u001b[39m\u001b[39m'\u001b[39m\u001b[39m{\u001b[39;00mmodel_path\u001b[39m}\u001b[39;00m\u001b[39m/\u001b[39m\u001b[39m{\u001b[39;00midx\u001b[39m}\u001b[39;00m\u001b[39m'\u001b[39m):\n",
      "\u001b[1;31mNameError\u001b[0m: name 'batch_word' is not defined"
     ]
    }
   ],
   "source": [
    "import os\n",
    "\n",
    "model_path = 'fasttext_simple'\n",
    "idx = 0\n",
    "\n",
    "log_parameters = {\n",
    "            \"vector_size\": vector_size,\n",
    "            \"windows_size\": window_size,\n",
    "            \"min_cout\": min_count,\n",
    "            \"sg\": sg,\n",
    "            \"hs\": hs,\n",
    "            \"negative\": negative,\n",
    "            \"ns_exponent\": ns_exponent,\n",
    "            \"seed\": seed,\n",
    "            \"batch_word\": batch_word,\n",
    "            \"min_n\": min_n,\n",
    "            \"max_n\": max_n,\n",
    "            \"bucket\": bucket,\n",
    "            \"shrink_windows\": shrink_windows,\n",
    "            \"alpha\": alpha,\n",
    "            \"workers\": workers,\n",
    "            \"epochs\": epochs\n",
    "        }\n",
    "\n",
    "accuracy = calculate_acc(model)\n",
    "\n",
    "if not os.path.exists(f'{model_path}/{idx}'):\n",
    "    os.makedirs(f'{model_path}/{idx}')\n",
    "\n",
    "model.save(f'{model_path}/{idx}/word2vec.model')\n",
    "\n",
    "# export model\n",
    "vocab = model.wv.key_to_index\n",
    "\n",
    "with open(f'{model_path}/{idx}/vocab.tsv', \"w\", encoding='utf-8') as f:\n",
    "    # f.write(\"word\\n\")\n",
    "    for word in vocab:\n",
    "        f.write(f\"{word}\\n\")\n",
    "\n",
    "f.close()\n",
    "\n",
    "with open(f'{model_path}/{idx}/vectors.tsv', \"w\", encoding='utf-8') as f:\n",
    "    for word in vocab:\n",
    "        vector = \"\\t\".join(str(val) for val in model.wv[word])\n",
    "\n",
    "        f.write(f\"{vector}\\n\")\n",
    "    f.close()\n",
    "\n",
    "with open(f'{model_path}/{idx}/logmodel.txt', 'w', encoding='utf-8') as f:\n",
    "    f.write(str(log_parameters) + '\\n')\n",
    "    f.write(str(accuracy))\n",
    "f.close()"
   ]
  },
  {
   "cell_type": "markdown",
   "metadata": {},
   "source": [
    "## Grid search"
   ]
  },
  {
   "cell_type": "code",
   "execution_count": 9,
   "metadata": {},
   "outputs": [],
   "source": [
    "import os\n",
    "\n",
    "def grid_search(model_path = 'fastTextmodel', total_skill_jbs=total_skills_jds):\n",
    "    fasttext_models = []\n",
    "    accuracy_models = []\n",
    "    for idx, parameters in enumerate(hyperparameter_combinations):\n",
    "\n",
    "        log_parameters = {\n",
    "            \"vector_size\": parameters[0],\n",
    "            \"windows_size\": parameters[1],\n",
    "            \"min_cout\": parameters[2],\n",
    "            \"sg\": parameters[3],\n",
    "            \"hs\": parameters[4],\n",
    "            \"negative\": parameters[5],\n",
    "            \"ns_exponent\": parameters[6],\n",
    "            \"seed\": parameters[7],\n",
    "            \"batch_words\": parameters[8],\n",
    "            \"min_n\": parameters[9],\n",
    "            \"max_n\": parameters[10],\n",
    "            \"bucket\": parameters[11],\n",
    "            \"shrink_windows\": parameters[12],\n",
    "            \"alpha\": parameters[13],\n",
    "            \"workers\": parameters[14],\n",
    "            \"epochs\": parameters[15]\n",
    "        }\n",
    "\n",
    "        print(f\"Training model with parameters: {log_parameters}\")\n",
    "        model = train_fasttext(total_skill_jbs, parameters[0], parameters[1], parameters[2],\n",
    "                    parameters[3], parameters[4], parameters[5],\n",
    "                    parameters[6], parameters[7], parameters[8],\n",
    "                    parameters[9], parameters[10], parameters[11],\n",
    "                    parameters[12], parameters[13], parameters[14], parameters[15])\n",
    "        fasttext_models.append(model)\n",
    "\n",
    "        # valid model\n",
    "        prediction = model_prediction(model, valid_data.keys())\n",
    "        \n",
    "        accuracy = valid_skill(prediction, valid_data)\n",
    "        accuracy_models.append(accuracy)\n",
    "\n",
    "        print(f'Accuracy: {accuracy}')\n",
    "\n",
    "        # save model\n",
    "        if not os.path.exists(f'{model_path}/{idx}'):\n",
    "            os.makedirs(f'{model_path}/{idx}')\n",
    "\n",
    "        model.save(f'{model_path}/{idx}/fasttext_model.model')\n",
    "\n",
    "        # export model\n",
    "        vocab = model.wv.key_to_index\n",
    "        \n",
    "        with open(f'{model_path}/{idx}/vocab.tsv', \"w\", encoding='utf-8') as f:\n",
    "            # f.write(\"word\\n\")\n",
    "            for word in vocab:\n",
    "                f.write(f\"{word}\\n\")\n",
    "\n",
    "        f.close()\n",
    "\n",
    "        with open(f'{model_path}/{idx}/vectors.tsv', \"w\", encoding='utf-8') as f:\n",
    "            for word in vocab:\n",
    "                vector = \"\\t\".join(str(val) for val in model.wv[word])\n",
    "\n",
    "                f.write(f\"{vector}\\n\")\n",
    "        f.close()\n",
    "\n",
    "        with open(f'{model_path}/{idx}/parameters.txt', 'w', encoding='utf-8') as f:\n",
    "            f.write(str(parameters))\n",
    "        f.close()\n",
    "\n",
    "        with open(f'{model_path}/{idx}/logmodel.txt', 'w', encoding='utf-8') as f:\n",
    "            f.write(str(log_parameters) + '\\n')\n",
    "            f.write(str(accuracy))\n",
    "        f.close()\n",
    "\n",
    "        with open(f'{model_path}/{model_path}_log.txt', 'w', encoding='utf-8') as f:\n",
    "            f.write(str(log_parameters) + '\\n')\n",
    "            f.write(str(accuracy))\n",
    "        f.close()\n",
    "        \n",
    "\n",
    "    # find best model\n",
    "    # best_model = fasttext_models[np.argmax(accuracy_models)]\n",
    "    # best_accuracy = max(accuracy_models)\n",
    "\n",
    "    # # save best model\n",
    "    # if not os.path.exists(f'{model_path}/best_model'):\n",
    "    #     os.makedirs(f'{model_path}/best_model')\n",
    "\n",
    "    # best_model.save(f'{model_path}/best_model/fasttext_model.model')\n",
    "    # # save best parameter\n",
    "    # with open(f'{model_path}/best_model/best_parameter.txt', 'w') as f:\n",
    "    #     f.write(f'Best parameter: {hyperparameter_combinations[np.argmax(accuracy_models)]}\\n')\n",
    "    #     f.write(f'Best accuracy: {best_accuracy}')\n",
    "\n",
    "    return fasttext_models, accuracy_models"
   ]
  },
  {
   "cell_type": "code",
   "execution_count": 10,
   "metadata": {},
   "outputs": [
    {
     "name": "stdout",
     "output_type": "stream",
     "text": [
      "Training model with parameters: {'vector_size': 100, 'windows_size': 5, 'min_cout': 12, 'sg': 1, 'hs': 1, 'negative': 0, 'ns_exponent': 0, 'seed': 1, 'batch_words': 100, 'min_n': 5, 'max_n': 8, 'bucket': 2000000, 'shrink_windows': False, 'alpha': 0.1, 'workers': 2, 'epochs': 200}\n",
      "Epoch 1/200 - Accuaracy: 0.20770636205641627\n",
      "Epoch 2/200 - Accuaracy: 0.2266306204601833\n",
      "Epoch 3/200 - Accuaracy: 0.23589964498447735\n",
      "Epoch 4/200 - Accuaracy: 0.23885563197219292\n",
      "Epoch 5/200 - Accuaracy: 0.24236122458074003\n",
      "Epoch 6/200 - Accuaracy: 0.24322276852690838\n",
      "Epoch 7/200 - Accuaracy: 0.24369810311789783\n",
      "Epoch 8/200 - Accuaracy: 0.24510925268489772\n",
      "Epoch 9/200 - Accuaracy: 0.24659467328173973\n",
      "Epoch 10/200 - Accuaracy: 0.24616390130865554\n",
      "Epoch 11/200 - Accuaracy: 0.2473225293741923\n",
      "Epoch 12/200 - Accuaracy: 0.24819892752632908\n"
     ]
    }
   ],
   "source": [
    "models = grid_search('fastTextmodel_best_model', total_skills_jds)"
   ]
  },
  {
   "cell_type": "code",
   "execution_count": 34,
   "metadata": {},
   "outputs": [
    {
     "name": "stdout",
     "output_type": "stream",
     "text": [
      "Accuracy: 0.20854021847070506\n"
     ]
    }
   ],
   "source": [
    "# model = fasttext_models[0]\n",
    "\n",
    "# prediction = model_prediction(model, valid_data.keys())\n",
    "    \n",
    "# accuracy = valid_skill(prediction, valid_data, total_valid_skill)\n",
    "# accuracy_models.append(accuracy)\n",
    "\n",
    "# print(f'Accuracy: {accuracy}')\n",
    "\n",
    "# # save model\n",
    "# if not os.path.exists(f'{model_path}/{idx}'):\n",
    "#     os.makedirs(f'{model_path}/{idx}')\n",
    "\n",
    "# model.save(f'{model_path}/{idx}/fasttext_model.model')\n",
    "\n",
    "# # export model\n",
    "# vocab = model.wv.key_to_index\n",
    "    \n",
    "# with open(f'{model_path}/{idx}/vocab.txt', \"w\", encoding='utf-8') as f:\n",
    "#     f.write(\"word\")\n",
    "#     for word in vocab:\n",
    "#         f.write(f\"{word}\\n\")\n",
    "\n",
    "# f.close()\n",
    "\n",
    "# with open(f'{model_path}/{idx}/vectors.txt', \"w\", encoding='utf-8') as f:\n",
    "#     for word in vocab:\n",
    "#         vector = \"\\t\".join(str(val) for val in model.wv[word])\n",
    "\n",
    "#         f.write(f\"{vector}\\n\")\n",
    "# f.close()\n",
    "\n",
    "# with open(f'{model_path}/{idx}/parameters.txt', 'w', encoding='utf-8') as f:\n",
    "#     f.write(str(parameters))\n",
    "# f.close()\n",
    "    "
   ]
  },
  {
   "cell_type": "markdown",
   "metadata": {},
   "source": [
    "# Test model"
   ]
  },
  {
   "cell_type": "code",
   "execution_count": 6,
   "metadata": {},
   "outputs": [
    {
     "data": {
      "text/plain": [
       "[('sap', 0.686120867729187),\n",
       " ('plant construction', 0.680181622505188),\n",
       " ('genomics', 0.6622642278671265),\n",
       " ('snowflake', 0.6429843306541443),\n",
       " ('scrum', 0.6354222297668457),\n",
       " ('obstetrics', 0.6297516822814941),\n",
       " ('mathematics', 0.6162903308868408),\n",
       " ('business intelligence', 0.5987536311149597),\n",
       " ('splunk', 0.5981040596961975),\n",
       " ('olap', 0.5967950820922852)]"
      ]
     },
     "execution_count": 6,
     "metadata": {},
     "output_type": "execute_result"
    }
   ],
   "source": [
    "vector = model.wv['html']  # get numpy vector of a word\n",
    "sims = model.wv.most_similar('hive', topn=10)  # get other similar words\n",
    "sims"
   ]
  },
  {
   "cell_type": "markdown",
   "metadata": {},
   "source": [
    "# Save model"
   ]
  },
  {
   "cell_type": "code",
   "execution_count": 16,
   "metadata": {},
   "outputs": [],
   "source": [
    "save_folder = 'fastText_newdata/1/'"
   ]
  },
  {
   "cell_type": "code",
   "execution_count": 17,
   "metadata": {},
   "outputs": [
    {
     "name": "stdout",
     "output_type": "stream",
     "text": [
      "Word vectors saved to fastText_newdata/1/word_vectors_fasttext.tsv\n",
      "Metadata saved to fastText_newdata/1/metadata_fasttext.tsv\n"
     ]
    }
   ],
   "source": [
    "word_vectors = model.wv\n",
    "\n",
    "vocab = list(word_vectors.index_to_key)\n",
    "\n",
    "tsv_file = save_folder + \"word_vectors_fasttext.tsv\"\n",
    "\n",
    "with open(tsv_file, \"w\", encoding=\"utf-8\") as file:\n",
    "\n",
    "    # Write word vectors\n",
    "    for word in vocab:\n",
    "        vector = \"\\t\".join(str(val) for val in word_vectors[word])\n",
    "\n",
    "        file.write(f\"{vector}\\n\")\n",
    "\n",
    "print(f\"Word vectors saved to {tsv_file}\")\n",
    "\n",
    "tsv_metadata = save_folder + 'metadata_fasttext.tsv'\n",
    "\n",
    "with open (tsv_metadata, \"w\", encoding='utf-8') as file:\n",
    "\n",
    "    file.write(\"word\")\n",
    "\n",
    "    for word in vocab:\n",
    "        file.write(f\"{word}\\n\")\n",
    "\n",
    "print(f\"Metadata saved to {tsv_metadata}\")"
   ]
  },
  {
   "cell_type": "code",
   "execution_count": 18,
   "metadata": {},
   "outputs": [],
   "source": [
    "model_name = save_folder + \"fasttext_model\"\n",
    "model.save(model_name)"
   ]
  },
  {
   "cell_type": "markdown",
   "metadata": {},
   "source": [
    "# End"
   ]
  }
 ],
 "metadata": {
  "kernelspec": {
   "display_name": "Python 3",
   "language": "python",
   "name": "python3"
  },
  "language_info": {
   "codemirror_mode": {
    "name": "ipython",
    "version": 3
   },
   "file_extension": ".py",
   "mimetype": "text/x-python",
   "name": "python",
   "nbconvert_exporter": "python",
   "pygments_lexer": "ipython3",
   "version": "3.11.5"
  },
  "orig_nbformat": 4
 },
 "nbformat": 4,
 "nbformat_minor": 2
}
