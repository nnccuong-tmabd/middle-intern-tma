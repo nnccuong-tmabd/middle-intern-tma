{
 "cells": [
  {
   "cell_type": "code",
   "execution_count": 1,
   "metadata": {},
   "outputs": [],
   "source": [
    "from gensim.models.phrases import Phrases, Phraser\n",
    "from gensim.models import FastText\n",
    "from gensim.models import Word2Vec"
   ]
  },
  {
   "cell_type": "markdown",
   "metadata": {},
   "source": [
    "# Load model"
   ]
  },
  {
   "cell_type": "code",
   "execution_count": 2,
   "metadata": {},
   "outputs": [],
   "source": [
    "def load_model_fastText(folder):\n",
    "    path_model = f'{folder}/fasttext_model.model'\n",
    "\n",
    "    model = FastText.load(path_model)\n",
    "    return model"
   ]
  },
  {
   "cell_type": "code",
   "execution_count": 3,
   "metadata": {},
   "outputs": [],
   "source": [
    "def load_model_word2vec(folder):\n",
    "    path_model = f'{folder}/word2vec.model'\n",
    "\n",
    "    model = FastText.load(path_model)\n",
    "    return model"
   ]
  },
  {
   "cell_type": "code",
   "execution_count": 4,
   "metadata": {},
   "outputs": [],
   "source": [
    "fasttext_model = load_model_fastText('fastText_bestmodel')\n",
    "word2vec_model = load_model_word2vec('word2vec_bestmodel')"
   ]
  },
  {
   "cell_type": "markdown",
   "metadata": {},
   "source": [
    "# Demo"
   ]
  },
  {
   "cell_type": "code",
   "execution_count": 7,
   "metadata": {},
   "outputs": [],
   "source": [
    "def e2e_demo(skill, model=fasttext_model, topn=30):\n",
    "    most_skill = model.wv.most_similar(skill, topn=topn)\n",
    "    result = []\n",
    "    for ele in most_skill:\n",
    "        result.append((ele[0], round(ele[1], 3)))\n",
    "    return result"
   ]
  },
  {
   "cell_type": "code",
   "execution_count": 8,
   "metadata": {},
   "outputs": [
    {
     "data": {
      "text/plain": [
       "[('data science', 0.644),\n",
       " ('statistical machine learning', 0.474),\n",
       " ('active learning', 0.435),\n",
       " ('dashboards', 0.424),\n",
       " ('statistics', 0.414),\n",
       " ('algorithms', 0.393),\n",
       " ('tensorflow', 0.392),\n",
       " ('test strategies', 0.379),\n",
       " ('bayesian', 0.376),\n",
       " ('hadoop', 0.376)]"
      ]
     },
     "execution_count": 8,
     "metadata": {},
     "output_type": "execute_result"
    }
   ],
   "source": [
    "e2e_demo('machine learning', fasttext_model, 10)"
   ]
  },
  {
   "cell_type": "code",
   "execution_count": 9,
   "metadata": {},
   "outputs": [
    {
     "data": {
      "text/plain": [
       "[('data science', 0.665),\n",
       " ('statistics', 0.449),\n",
       " ('bayesian', 0.419),\n",
       " ('dashboards', 0.4),\n",
       " ('arcgis', 0.378),\n",
       " ('neural networks', 0.376),\n",
       " ('genomics', 0.373),\n",
       " ('tensorflow', 0.364),\n",
       " ('solid', 0.363),\n",
       " ('algorithms', 0.362)]"
      ]
     },
     "execution_count": 9,
     "metadata": {},
     "output_type": "execute_result"
    }
   ],
   "source": [
    "e2e_demo('machine learning', word2vec_model, 10)"
   ]
  },
  {
   "cell_type": "markdown",
   "metadata": {},
   "source": [
    "# End"
   ]
  }
 ],
 "metadata": {
  "kernelspec": {
   "display_name": "Python 3",
   "language": "python",
   "name": "python3"
  },
  "language_info": {
   "codemirror_mode": {
    "name": "ipython",
    "version": 3
   },
   "file_extension": ".py",
   "mimetype": "text/x-python",
   "name": "python",
   "nbconvert_exporter": "python",
   "pygments_lexer": "ipython3",
   "version": "3.11.5"
  },
  "orig_nbformat": 4
 },
 "nbformat": 4,
 "nbformat_minor": 2
}
