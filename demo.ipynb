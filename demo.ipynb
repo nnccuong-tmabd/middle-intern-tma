{
 "cells": [
  {
   "cell_type": "code",
   "execution_count": 1,
   "metadata": {},
   "outputs": [],
   "source": [
    "from gensim.models.phrases import Phrases, Phraser\n",
    "from gensim.models import FastText\n",
    "from gensim.models import Word2Vec"
   ]
  },
  {
   "cell_type": "markdown",
   "metadata": {},
   "source": [
    "# Load model"
   ]
  },
  {
   "cell_type": "code",
   "execution_count": 2,
   "metadata": {},
   "outputs": [],
   "source": [
    "def load_model_fastText(folder):\n",
    "    path_model = f'{folder}/fasttext_model.model'\n",
    "\n",
    "    model = FastText.load(path_model)\n",
    "    return model"
   ]
  },
  {
   "cell_type": "code",
   "execution_count": 3,
   "metadata": {},
   "outputs": [],
   "source": [
    "def load_model_word2vec(folder):\n",
    "    path_model = f'{folder}/word2vec.model'\n",
    "\n",
    "    model = FastText.load(path_model)\n",
    "    return model"
   ]
  },
  {
   "cell_type": "code",
   "execution_count": 4,
   "metadata": {},
   "outputs": [],
   "source": [
    "fasttext_model = load_model_fastText('fastText_bestmodel')\n",
    "word2vec_model = load_model_word2vec('word2vec_bestmodel')"
   ]
  },
  {
   "cell_type": "markdown",
   "metadata": {},
   "source": [
    "# Demo"
   ]
  },
  {
   "cell_type": "code",
   "execution_count": 6,
   "metadata": {},
   "outputs": [],
   "source": [
    "def e2e_demo(skill, model=fasttext_model, topn=30):\n",
    "    most_skill = model.wv.most_similar(skill, topn=topn)\n",
    "    result = []\n",
    "    for ele in most_skill:\n",
    "        result.append(ele)\n",
    "    return result"
   ]
  },
  {
   "cell_type": "code",
   "execution_count": 8,
   "metadata": {},
   "outputs": [
    {
     "data": {
      "text/plain": [
       "[('data science', 0.6435505747795105),\n",
       " ('statistical machine learning', 0.4735657274723053),\n",
       " ('active learning', 0.434771329164505),\n",
       " ('dashboards', 0.4237770438194275),\n",
       " ('statistics', 0.41425561904907227),\n",
       " ('algorithms', 0.39328742027282715),\n",
       " ('tensorflow', 0.3919200003147125),\n",
       " ('test strategies', 0.37917372584342957),\n",
       " ('bayesian', 0.37640783190727234),\n",
       " ('hadoop', 0.3758927583694458)]"
      ]
     },
     "execution_count": 8,
     "metadata": {},
     "output_type": "execute_result"
    }
   ],
   "source": [
    "e2e_demo('machine learning', fasttext_model, 10)"
   ]
  },
  {
   "cell_type": "code",
   "execution_count": 9,
   "metadata": {},
   "outputs": [
    {
     "data": {
      "text/plain": [
       "[('data science', 0.6653644442558289),\n",
       " ('statistics', 0.44866910576820374),\n",
       " ('bayesian', 0.4190765619277954),\n",
       " ('dashboards', 0.399615079164505),\n",
       " ('arcgis', 0.37826061248779297),\n",
       " ('neural networks', 0.375509649515152),\n",
       " ('genomics', 0.3725830912590027),\n",
       " ('tensorflow', 0.36364954710006714),\n",
       " ('solid', 0.36297526955604553),\n",
       " ('algorithms', 0.362433522939682)]"
      ]
     },
     "execution_count": 9,
     "metadata": {},
     "output_type": "execute_result"
    }
   ],
   "source": [
    "e2e_demo('machine learning', word2vec_model, 10)"
   ]
  },
  {
   "cell_type": "markdown",
   "metadata": {},
   "source": [
    "# End"
   ]
  }
 ],
 "metadata": {
  "kernelspec": {
   "display_name": "Python 3",
   "language": "python",
   "name": "python3"
  },
  "language_info": {
   "codemirror_mode": {
    "name": "ipython",
    "version": 3
   },
   "file_extension": ".py",
   "mimetype": "text/x-python",
   "name": "python",
   "nbconvert_exporter": "python",
   "pygments_lexer": "ipython3",
   "version": "3.11.5"
  },
  "orig_nbformat": 4
 },
 "nbformat": 4,
 "nbformat_minor": 2
}
