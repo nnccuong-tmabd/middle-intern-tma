{
 "cells": [
  {
   "cell_type": "code",
   "execution_count": 1,
   "metadata": {},
   "outputs": [],
   "source": [
    "from gensim.models.phrases import Phrases, Phraser\n",
    "from gensim.models import FastText\n",
    "from gensim.models import Word2Vec"
   ]
  },
  {
   "cell_type": "markdown",
   "metadata": {},
   "source": [
    "# Load model"
   ]
  },
  {
   "cell_type": "code",
   "execution_count": 2,
   "metadata": {},
   "outputs": [],
   "source": [
    "def load_model_fastText(folder):\n",
    "    path_model = f'{folder}/fasttext_model.model'\n",
    "\n",
    "    model = FastText.load(path_model)\n",
    "    return model"
   ]
  },
  {
   "cell_type": "code",
   "execution_count": 3,
   "metadata": {},
   "outputs": [],
   "source": [
    "def load_model_word2vec(folder):\n",
    "    path_model = f'{folder}/word2vec.model'\n",
    "\n",
    "    model = FastText.load(path_model)\n",
    "    return model"
   ]
  },
  {
   "cell_type": "code",
   "execution_count": 4,
   "metadata": {},
   "outputs": [],
   "source": [
    "# fasttext_model = load_model_fastText('fastText_bestmodel')\n",
    "word2vec_model = load_model_word2vec('word2vec_bestmodel')"
   ]
  },
  {
   "cell_type": "markdown",
   "metadata": {},
   "source": [
    "# Demo"
   ]
  },
  {
   "cell_type": "code",
   "execution_count": 5,
   "metadata": {},
   "outputs": [],
   "source": [
    "def e2e_demo(skill, model=word2vec_model, topn=30):\n",
    "    most_skill = model.wv.most_similar(skill, topn=topn)\n",
    "    result = []\n",
    "    for ele in most_skill:\n",
    "        result.append(ele)\n",
    "    return result"
   ]
  },
  {
   "cell_type": "code",
   "execution_count": null,
   "metadata": {},
   "outputs": [],
   "source": [
    "e2e_demo('machine learning', fasttext_model, 30)"
   ]
  },
  {
   "cell_type": "code",
   "execution_count": 9,
   "metadata": {},
   "outputs": [
    {
     "data": {
      "text/plain": [
       "[('css', 0.5925793051719666),\n",
       " ('javascript', 0.5339948534965515),\n",
       " ('jquery', 0.42590177059173584),\n",
       " ('mvc', 0.42271342873573303),\n",
       " ('kanban', 0.4222537875175476),\n",
       " ('git', 0.395572692155838),\n",
       " ('company structure', 0.38646265864372253),\n",
       " ('illustrator', 0.374228835105896),\n",
       " ('web technologies', 0.3590405285358429),\n",
       " ('sap pmr', 0.34790363907814026),\n",
       " ('ux', 0.3448229730129242),\n",
       " ('javascript framework', 0.3445814847946167),\n",
       " ('pos', 0.34080612659454346),\n",
       " ('jax rs', 0.33791714906692505),\n",
       " ('typo3', 0.3378910422325134),\n",
       " ('payment systems', 0.33787402510643005),\n",
       " ('web ui', 0.33701762557029724),\n",
       " ('pattern repositories', 0.3357354402542114),\n",
       " ('mariadb', 0.33502674102783203),\n",
       " ('uft', 0.334086149930954)]"
      ]
     },
     "execution_count": 9,
     "metadata": {},
     "output_type": "execute_result"
    }
   ],
   "source": [
    "e2e_demo('html', word2vec_model, 20)"
   ]
  },
  {
   "cell_type": "markdown",
   "metadata": {},
   "source": [
    "# End"
   ]
  }
 ],
 "metadata": {
  "kernelspec": {
   "display_name": "Python 3",
   "language": "python",
   "name": "python3"
  },
  "language_info": {
   "codemirror_mode": {
    "name": "ipython",
    "version": 3
   },
   "file_extension": ".py",
   "mimetype": "text/x-python",
   "name": "python",
   "nbconvert_exporter": "python",
   "pygments_lexer": "ipython3",
   "version": "3.12.0"
  },
  "orig_nbformat": 4
 },
 "nbformat": 4,
 "nbformat_minor": 2
}
