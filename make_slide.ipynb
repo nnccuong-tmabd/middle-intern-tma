{
 "cells": [
  {
   "cell_type": "code",
   "execution_count": 1,
   "metadata": {},
   "outputs": [
    {
     "data": {
      "text/plain": [
       "'\\nMachine learning is a fascinating field .\\nNatural language processing helps computers understand human language .\\nDeep learning models , such as neural networks , have revolutionized AI .\\n'"
      ]
     },
     "execution_count": 1,
     "metadata": {},
     "output_type": "execute_result"
    }
   ],
   "source": [
    "text = '''\n",
    "Machine learning is a fascinating field .\n",
    "Natural language processing helps computers understand human language .\n",
    "Deep learning models , such as neural networks , have revolutionized AI .\n",
    "'''\n",
    "text"
   ]
  },
  {
   "cell_type": "code",
   "execution_count": 4,
   "metadata": {},
   "outputs": [
    {
     "data": {
      "text/plain": [
       "{'machine': 1,\n",
       " 'learning': 2,\n",
       " 'is': 1,\n",
       " 'a': 1,\n",
       " 'fascinating': 1,\n",
       " 'field': 1,\n",
       " '.': 3,\n",
       " 'natural': 1,\n",
       " 'language': 2,\n",
       " 'processing': 1,\n",
       " 'helps': 1,\n",
       " 'computers': 1,\n",
       " 'understand': 1,\n",
       " 'human': 1,\n",
       " 'deep': 1,\n",
       " 'models': 1,\n",
       " ',': 2,\n",
       " 'such': 1,\n",
       " 'as': 1,\n",
       " 'neural': 1,\n",
       " 'networks': 1,\n",
       " 'have': 1,\n",
       " 'revolutionized': 1,\n",
       " 'ai': 1}"
      ]
     },
     "execution_count": 4,
     "metadata": {},
     "output_type": "execute_result"
    }
   ],
   "source": [
    "vocab = {}\n",
    "for sent in text.split('\\n'):\n",
    "    sent = [word.lower() for word in sent.split()]\n",
    "\n",
    "    for word in sent:\n",
    "        if word in vocab:\n",
    "            vocab[word] += 1\n",
    "        else:\n",
    "            vocab[word] = 1\n",
    "\n",
    "vocab"
   ]
  },
  {
   "cell_type": "code",
   "execution_count": 189,
   "metadata": {},
   "outputs": [],
   "source": [
    "text = '''\n",
    "machine\n",
    "learning\n",
    "learn\n",
    "learner\n",
    "revolutionized\n",
    "revolutionize\n",
    "revolutionary\n",
    "'''"
   ]
  },
  {
   "cell_type": "code",
   "execution_count": 190,
   "metadata": {},
   "outputs": [
    {
     "data": {
      "text/plain": [
       "['machine',\n",
       " 'learning',\n",
       " 'learn',\n",
       " 'learner',\n",
       " 'revolutionized',\n",
       " 'revolutionize',\n",
       " 'revolutionary']"
      ]
     },
     "execution_count": 190,
     "metadata": {},
     "output_type": "execute_result"
    }
   ],
   "source": [
    "words = [word for word in text.strip().split('\\n')]\n",
    "words"
   ]
  },
  {
   "cell_type": "code",
   "execution_count": 191,
   "metadata": {},
   "outputs": [],
   "source": [
    "def charater_split(word):\n",
    "    # Use list comprehension to split the word into characters\n",
    "    characters = [char for char in word]\n",
    "    return characters\n",
    "\n",
    "origin_splitting = [charater_split(word) for word in words]\n",
    "splitting_words = []\n",
    "for splitting in origin_splitting:\n",
    "    splitting_words += splitting"
   ]
  },
  {
   "cell_type": "code",
   "execution_count": 192,
   "metadata": {},
   "outputs": [],
   "source": [
    "from collections import defaultdict\n",
    "\n",
    "def calculate_pair_frequencies(lst):\n",
    "    # Initialize a dictionary to store pair frequencies\n",
    "    pair_freq = defaultdict(int)\n",
    "\n",
    "    # Iterate through the list and count pairs\n",
    "    for i in range(len(lst) - 1):\n",
    "        pair = (lst[i], lst[i+1])\n",
    "        pair_freq[pair] += 1\n",
    "\n",
    "    return pair_freq"
   ]
  },
  {
   "cell_type": "code",
   "execution_count": 193,
   "metadata": {},
   "outputs": [],
   "source": [
    "pair_score = calculate_pair_frequencies(splitting_words)"
   ]
  },
  {
   "cell_type": "code",
   "execution_count": 194,
   "metadata": {},
   "outputs": [],
   "source": [
    "def calculate_freq(lst):\n",
    "    freq_element = defaultdict(int)\n",
    "\n",
    "    for i in range(len(lst)):\n",
    "        freq_element[lst[i]] += 1\n",
    "    \n",
    "    return freq_element\n",
    "\n",
    "freq_element = calculate_freq(splitting_words)"
   ]
  },
  {
   "cell_type": "code",
   "execution_count": 195,
   "metadata": {},
   "outputs": [],
   "source": [
    "from collections import defaultdict\n",
    "\n",
    "def calculate_pair_score(origin_splitting, freq_element):\n",
    "    # Initialize a dictionary to store pair frequencies\n",
    "    pair_freq = defaultdict(int)\n",
    "    pair_scores = defaultdict(float)\n",
    "\n",
    "    # starts = [0, 7, 15, 20, 27, 41, 54]\n",
    "    # splitting list\n",
    "\n",
    "    for lst in origin_splitting:\n",
    "        # Iterate through the list and count pairs\n",
    "        for i in range(len(lst) - 1):\n",
    "            pair = (lst[i], lst[i+1])\n",
    "            pair_freq[pair] += 1\n",
    "            \n",
    "    for first, second in pair_freq.keys():\n",
    "        pair = (first, second)\n",
    "        score = (pair_freq[pair])/(freq_element[first] * freq_element[second])\n",
    "        pair_scores[pair] = score\n",
    "\n",
    "    return pair_scores"
   ]
  },
  {
   "cell_type": "code",
   "execution_count": 196,
   "metadata": {},
   "outputs": [],
   "source": [
    "pair_score = calculate_pair_score(origin_splitting, freq_element)"
   ]
  },
  {
   "cell_type": "code",
   "execution_count": 197,
   "metadata": {},
   "outputs": [
    {
     "data": {
      "text/plain": [
       "(('c', 'h'), 1.0)"
      ]
     },
     "execution_count": 197,
     "metadata": {},
     "output_type": "execute_result"
    }
   ],
   "source": [
    "def find_max_pair_frequency(pair_freq):\n",
    "    if not pair_freq:\n",
    "        return None\n",
    "\n",
    "    max_pair = max(pair_freq, key=pair_freq.get)\n",
    "    max_frequency = pair_freq[max_pair]\n",
    "    \n",
    "    return max_pair, max_frequency\n",
    "\n",
    "max_pair, max_freq = find_max_pair_frequency(pair_score)\n",
    "max_pair, max_freq"
   ]
  },
  {
   "cell_type": "code",
   "execution_count": 198,
   "metadata": {},
   "outputs": [],
   "source": [
    "def merge_max_pair(splitting_words, origin_splitting, max_pair):\n",
    "    \n",
    "    new_splitting = []\n",
    "\n",
    "    idx_merged = []\n",
    "    # Iterate through the list and count pairs\n",
    "    for idx in range(len(splitting_words)):\n",
    "        if idx in idx_merged:\n",
    "            continue\n",
    "        if splitting_words[idx] == max_pair[0] and splitting_words[idx + 1] == max_pair[1]:\n",
    "            new_splitting.append(splitting_words[idx] + splitting_words[idx+1])\n",
    "            idx_merged.append(idx+1)\n",
    "        else:\n",
    "            new_splitting.append(splitting_words[idx])\n",
    "\n",
    "    new_origin = []\n",
    "    #wordpiece merge origin text\n",
    "    for lst in origin_splitting:\n",
    "        new_lst = []\n",
    "\n",
    "        idx_merged = []\n",
    "\n",
    "        for idx in range(len(lst) - 1):\n",
    "            if idx in idx_merged:\n",
    "                continue\n",
    "\n",
    "            if lst[idx] == max_pair[0] and lst[idx + 1] == max_pair[1]:\n",
    "                new_lst.append(lst[idx] + lst[idx+1])\n",
    "                idx_merged.append(idx+1)\n",
    "            else:\n",
    "                new_lst.append(lst[idx])\n",
    "\n",
    "        if len(lst) - 1 not in idx_merged:\n",
    "            new_lst.append(lst[-1])\n",
    "        new_origin.append(new_lst)\n",
    "\n",
    "    return new_splitting, new_origin"
   ]
  },
  {
   "cell_type": "code",
   "execution_count": 199,
   "metadata": {},
   "outputs": [],
   "source": [
    "def wordpiece(splitting_words, origin_splitting):\n",
    "\n",
    "    freq_element = calculate_freq(splitting_words)\n",
    "    # print(origin_splitting)\n",
    "    pair_freq = calculate_pair_score(origin_splitting, freq_element)\n",
    "    print(pair_freq)\n",
    "\n",
    "    max_pair, _ = find_max_pair_frequency(pair_freq)\n",
    "    # print(max_pair)\n",
    "\n",
    "    merged, origined = merge_max_pair(splitting_words, origin_splitting, max_pair)\n",
    "\n",
    "    return merged, max_pair, origined"
   ]
  },
  {
   "cell_type": "code",
   "execution_count": 200,
   "metadata": {},
   "outputs": [],
   "source": [
    "def wordpiece_n(splitting_words, origin_splitting, n=9):\n",
    "    merged = splitting_words.copy()\n",
    "    origin_new = origin_splitting.copy()\n",
    "    rules = []\n",
    "    for _ in range(n):\n",
    "        merged, rule, origin_new = wordpiece(merged, origin_new)\n",
    "        rules.append(rule)\n",
    "\n",
    "    return merged, rules, origin_new"
   ]
  },
  {
   "cell_type": "code",
   "execution_count": 201,
   "metadata": {},
   "outputs": [
    {
     "name": "stdout",
     "output_type": "stream",
     "text": [
      "defaultdict(<class 'float'>, {('m', 'a'): 0.2, ('a', 'c'): 0.2, ('c', 'h'): 1.0, ('h', 'i'): 0.14285714285714285, ('i', 'n'): 0.03571428571428571, ('n', 'e'): 0.025, ('l', 'e'): 0.05, ('e', 'a'): 0.06, ('a', 'r'): 0.1, ('r', 'n'): 0.046875, ('n', 'i'): 0.05357142857142857, ('n', 'g'): 0.125, ('e', 'r'): 0.0125, ('r', 'e'): 0.0375, ('e', 'v'): 0.1, ('v', 'o'): 0.16666666666666666, ('o', 'l'): 0.08333333333333333, ('l', 'u'): 0.16666666666666666, ('u', 't'): 0.3333333333333333, ('t', 'i'): 0.14285714285714285, ('i', 'o'): 0.07142857142857142, ('o', 'n'): 0.0625, ('i', 'z'): 0.14285714285714285, ('z', 'e'): 0.1, ('e', 'd'): 0.1, ('n', 'a'): 0.025, ('r', 'y'): 0.125})\n",
      "defaultdict(<class 'float'>, {('m', 'a'): 0.2, ('a', 'ch'): 0.2, ('ch', 'i'): 0.14285714285714285, ('i', 'n'): 0.03571428571428571, ('n', 'e'): 0.025, ('l', 'e'): 0.05, ('e', 'a'): 0.06, ('a', 'r'): 0.1, ('r', 'n'): 0.046875, ('n', 'i'): 0.05357142857142857, ('n', 'g'): 0.125, ('e', 'r'): 0.0125, ('r', 'e'): 0.0375, ('e', 'v'): 0.1, ('v', 'o'): 0.16666666666666666, ('o', 'l'): 0.08333333333333333, ('l', 'u'): 0.16666666666666666, ('u', 't'): 0.3333333333333333, ('t', 'i'): 0.14285714285714285, ('i', 'o'): 0.07142857142857142, ('o', 'n'): 0.0625, ('i', 'z'): 0.14285714285714285, ('z', 'e'): 0.1, ('e', 'd'): 0.1, ('n', 'a'): 0.025, ('r', 'y'): 0.125})\n",
      "defaultdict(<class 'float'>, {('m', 'a'): 0.2, ('a', 'ch'): 0.2, ('ch', 'i'): 0.14285714285714285, ('i', 'n'): 0.03571428571428571, ('n', 'e'): 0.025, ('l', 'e'): 0.05, ('e', 'a'): 0.06, ('a', 'r'): 0.1, ('r', 'n'): 0.046875, ('n', 'i'): 0.05357142857142857, ('n', 'g'): 0.125, ('e', 'r'): 0.0125, ('r', 'e'): 0.0375, ('e', 'v'): 0.1, ('v', 'o'): 0.16666666666666666, ('o', 'l'): 0.08333333333333333, ('l', 'ut'): 0.16666666666666666, ('ut', 'i'): 0.14285714285714285, ('i', 'o'): 0.07142857142857142, ('o', 'n'): 0.0625, ('i', 'z'): 0.14285714285714285, ('z', 'e'): 0.1, ('e', 'd'): 0.1, ('n', 'a'): 0.025, ('r', 'y'): 0.125})\n",
      "defaultdict(<class 'float'>, {('ma', 'ch'): 1.0, ('ch', 'i'): 0.14285714285714285, ('i', 'n'): 0.03571428571428571, ('n', 'e'): 0.025, ('l', 'e'): 0.05, ('e', 'a'): 0.075, ('a', 'r'): 0.125, ('r', 'n'): 0.046875, ('n', 'i'): 0.05357142857142857, ('n', 'g'): 0.125, ('e', 'r'): 0.0125, ('r', 'e'): 0.0375, ('e', 'v'): 0.1, ('v', 'o'): 0.16666666666666666, ('o', 'l'): 0.08333333333333333, ('l', 'ut'): 0.16666666666666666, ('ut', 'i'): 0.14285714285714285, ('i', 'o'): 0.07142857142857142, ('o', 'n'): 0.0625, ('i', 'z'): 0.14285714285714285, ('z', 'e'): 0.1, ('e', 'd'): 0.1, ('n', 'a'): 0.03125, ('r', 'y'): 0.125})\n",
      "defaultdict(<class 'float'>, {('mach', 'i'): 0.14285714285714285, ('i', 'n'): 0.03571428571428571, ('n', 'e'): 0.025, ('l', 'e'): 0.05, ('e', 'a'): 0.075, ('a', 'r'): 0.125, ('r', 'n'): 0.046875, ('n', 'i'): 0.05357142857142857, ('n', 'g'): 0.125, ('e', 'r'): 0.0125, ('r', 'e'): 0.0375, ('e', 'v'): 0.1, ('v', 'o'): 0.16666666666666666, ('o', 'l'): 0.08333333333333333, ('l', 'ut'): 0.16666666666666666, ('ut', 'i'): 0.14285714285714285, ('i', 'o'): 0.07142857142857142, ('o', 'n'): 0.0625, ('i', 'z'): 0.14285714285714285, ('z', 'e'): 0.1, ('e', 'd'): 0.1, ('n', 'a'): 0.03125, ('r', 'y'): 0.125})\n",
      "defaultdict(<class 'float'>, {('mach', 'i'): 0.14285714285714285, ('i', 'n'): 0.03571428571428571, ('n', 'e'): 0.025, ('l', 'e'): 0.05, ('e', 'a'): 0.075, ('a', 'r'): 0.125, ('r', 'n'): 0.046875, ('n', 'i'): 0.05357142857142857, ('n', 'g'): 0.125, ('e', 'r'): 0.0125, ('r', 'e'): 0.0375, ('e', 'vo'): 0.1, ('vo', 'l'): 0.16666666666666666, ('l', 'ut'): 0.16666666666666666, ('ut', 'i'): 0.14285714285714285, ('i', 'o'): 0.14285714285714285, ('o', 'n'): 0.125, ('i', 'z'): 0.14285714285714285, ('z', 'e'): 0.1, ('e', 'd'): 0.1, ('n', 'a'): 0.03125, ('r', 'y'): 0.125})\n",
      "defaultdict(<class 'float'>, {('mach', 'i'): 0.14285714285714285, ('i', 'n'): 0.03571428571428571, ('n', 'e'): 0.025, ('l', 'e'): 0.1, ('e', 'a'): 0.075, ('a', 'r'): 0.125, ('r', 'n'): 0.046875, ('n', 'i'): 0.05357142857142857, ('n', 'g'): 0.125, ('e', 'r'): 0.0125, ('r', 'e'): 0.0375, ('e', 'vol'): 0.1, ('vol', 'ut'): 0.3333333333333333, ('ut', 'i'): 0.14285714285714285, ('i', 'o'): 0.14285714285714285, ('o', 'n'): 0.125, ('i', 'z'): 0.14285714285714285, ('z', 'e'): 0.1, ('e', 'd'): 0.1, ('n', 'a'): 0.03125, ('r', 'y'): 0.125})\n",
      "defaultdict(<class 'float'>, {('mach', 'i'): 0.14285714285714285, ('i', 'n'): 0.03571428571428571, ('n', 'e'): 0.025, ('l', 'e'): 0.1, ('e', 'a'): 0.075, ('a', 'r'): 0.125, ('r', 'n'): 0.046875, ('n', 'i'): 0.05357142857142857, ('n', 'g'): 0.125, ('e', 'r'): 0.0125, ('r', 'e'): 0.0375, ('e', 'volut'): 0.1, ('volut', 'i'): 0.14285714285714285, ('i', 'o'): 0.14285714285714285, ('o', 'n'): 0.125, ('i', 'z'): 0.14285714285714285, ('z', 'e'): 0.1, ('e', 'd'): 0.1, ('n', 'a'): 0.03125, ('r', 'y'): 0.125})\n",
      "defaultdict(<class 'float'>, {('machi', 'n'): 0.125, ('n', 'e'): 0.025, ('l', 'e'): 0.1, ('e', 'a'): 0.075, ('a', 'r'): 0.125, ('r', 'n'): 0.046875, ('n', 'i'): 0.0625, ('i', 'n'): 0.020833333333333332, ('n', 'g'): 0.125, ('e', 'r'): 0.0125, ('r', 'e'): 0.0375, ('e', 'volut'): 0.1, ('volut', 'i'): 0.16666666666666666, ('i', 'o'): 0.16666666666666666, ('o', 'n'): 0.125, ('i', 'z'): 0.16666666666666666, ('z', 'e'): 0.1, ('e', 'd'): 0.1, ('n', 'a'): 0.03125, ('r', 'y'): 0.125})\n",
      "defaultdict(<class 'float'>, {('machi', 'n'): 0.125, ('n', 'e'): 0.025, ('l', 'e'): 0.1, ('e', 'a'): 0.075, ('a', 'r'): 0.125, ('r', 'n'): 0.046875, ('n', 'i'): 0.125, ('i', 'n'): 0.041666666666666664, ('n', 'g'): 0.125, ('e', 'r'): 0.0125, ('r', 'e'): 0.0375, ('e', 'voluti'): 0.1, ('voluti', 'o'): 0.3333333333333333, ('o', 'n'): 0.125, ('i', 'z'): 0.3333333333333333, ('z', 'e'): 0.1, ('e', 'd'): 0.1, ('n', 'a'): 0.03125, ('r', 'y'): 0.125})\n",
      "defaultdict(<class 'float'>, {('machi', 'n'): 0.125, ('n', 'e'): 0.025, ('l', 'e'): 0.1, ('e', 'a'): 0.075, ('a', 'r'): 0.125, ('r', 'n'): 0.046875, ('n', 'i'): 0.125, ('i', 'n'): 0.041666666666666664, ('n', 'g'): 0.125, ('e', 'r'): 0.0125, ('r', 'e'): 0.0375, ('e', 'volutio'): 0.1, ('volutio', 'n'): 0.125, ('i', 'z'): 0.3333333333333333, ('z', 'e'): 0.1, ('e', 'd'): 0.1, ('n', 'a'): 0.03125, ('r', 'y'): 0.125})\n",
      "defaultdict(<class 'float'>, {('machi', 'n'): 0.125, ('n', 'e'): 0.025, ('l', 'e'): 0.1, ('e', 'a'): 0.075, ('a', 'r'): 0.125, ('r', 'n'): 0.046875, ('n', 'i'): 0.125, ('i', 'n'): 0.125, ('n', 'g'): 0.125, ('e', 'r'): 0.0125, ('r', 'e'): 0.0375, ('e', 'volutio'): 0.1, ('volutio', 'n'): 0.125, ('n', 'iz'): 0.125, ('iz', 'e'): 0.1, ('e', 'd'): 0.1, ('n', 'a'): 0.03125, ('r', 'y'): 0.125})\n",
      "defaultdict(<class 'float'>, {('machin', 'e'): 0.1, ('l', 'e'): 0.1, ('e', 'a'): 0.075, ('a', 'r'): 0.125, ('r', 'n'): 0.05357142857142857, ('n', 'i'): 0.14285714285714285, ('i', 'n'): 0.14285714285714285, ('n', 'g'): 0.14285714285714285, ('n', 'e'): 0.014285714285714285, ('e', 'r'): 0.0125, ('r', 'e'): 0.0375, ('e', 'volutio'): 0.1, ('volutio', 'n'): 0.14285714285714285, ('n', 'iz'): 0.14285714285714285, ('iz', 'e'): 0.1, ('e', 'd'): 0.1, ('n', 'a'): 0.03571428571428571, ('r', 'y'): 0.125})\n",
      "defaultdict(<class 'float'>, {('machin', 'e'): 0.1, ('l', 'e'): 0.1, ('e', 'a'): 0.075, ('a', 'r'): 0.125, ('r', 'ni'): 0.125, ('ni', 'n'): 0.16666666666666666, ('n', 'g'): 0.16666666666666666, ('r', 'n'): 0.041666666666666664, ('n', 'e'): 0.016666666666666666, ('e', 'r'): 0.0125, ('r', 'e'): 0.0375, ('e', 'volutio'): 0.1, ('volutio', 'n'): 0.16666666666666666, ('n', 'iz'): 0.16666666666666666, ('iz', 'e'): 0.1, ('e', 'd'): 0.1, ('n', 'a'): 0.041666666666666664, ('r', 'y'): 0.125})\n",
      "defaultdict(<class 'float'>, {('machin', 'e'): 0.1, ('l', 'e'): 0.1, ('e', 'a'): 0.075, ('a', 'r'): 0.125, ('r', 'nin'): 0.125, ('nin', 'g'): 1.0, ('r', 'n'): 0.05, ('n', 'e'): 0.02, ('e', 'r'): 0.0125, ('r', 'e'): 0.0375, ('e', 'volutio'): 0.1, ('volutio', 'n'): 0.2, ('n', 'iz'): 0.2, ('iz', 'e'): 0.1, ('e', 'd'): 0.1, ('n', 'a'): 0.05, ('r', 'y'): 0.125})\n",
      "defaultdict(<class 'float'>, {('machin', 'e'): 0.1, ('l', 'e'): 0.1, ('e', 'a'): 0.075, ('a', 'r'): 0.125, ('r', 'ning'): 0.125, ('r', 'n'): 0.05, ('n', 'e'): 0.02, ('e', 'r'): 0.0125, ('r', 'e'): 0.0375, ('e', 'volutio'): 0.1, ('volutio', 'n'): 0.2, ('n', 'iz'): 0.2, ('iz', 'e'): 0.1, ('e', 'd'): 0.1, ('n', 'a'): 0.05, ('r', 'y'): 0.125})\n",
      "defaultdict(<class 'float'>, {('machin', 'e'): 0.1, ('l', 'e'): 0.1, ('e', 'a'): 0.075, ('a', 'r'): 0.125, ('r', 'ning'): 0.125, ('r', 'n'): 0.125, ('n', 'e'): 0.05, ('e', 'r'): 0.0125, ('r', 'e'): 0.0375, ('e', 'volution'): 0.1, ('volution', 'iz'): 0.3333333333333333, ('iz', 'e'): 0.1, ('e', 'd'): 0.1, ('volution', 'a'): 0.08333333333333333, ('r', 'y'): 0.125})\n",
      "defaultdict(<class 'float'>, {('machin', 'e'): 0.1, ('l', 'e'): 0.1, ('e', 'a'): 0.075, ('a', 'r'): 0.125, ('r', 'ning'): 0.125, ('r', 'n'): 0.125, ('n', 'e'): 0.05, ('e', 'r'): 0.0125, ('r', 'e'): 0.0375, ('e', 'volutioniz'): 0.1, ('volutioniz', 'e'): 0.1, ('e', 'd'): 0.1, ('e', 'volution'): 0.1, ('volution', 'a'): 0.25, ('r', 'y'): 0.125})\n",
      "defaultdict(<class 'float'>, {('machin', 'e'): 0.1, ('l', 'e'): 0.1, ('e', 'a'): 0.1, ('a', 'r'): 0.125, ('r', 'ning'): 0.125, ('r', 'n'): 0.125, ('n', 'e'): 0.05, ('e', 'r'): 0.0125, ('r', 'e'): 0.0375, ('e', 'volutioniz'): 0.1, ('volutioniz', 'e'): 0.1, ('e', 'd'): 0.1, ('e', 'volutiona'): 0.1, ('volutiona', 'r'): 0.125, ('r', 'y'): 0.125})\n",
      "defaultdict(<class 'float'>, {('machin', 'e'): 0.1, ('l', 'e'): 0.1, ('e', 'ar'): 0.1, ('ar', 'ning'): 0.3333333333333333, ('ar', 'n'): 0.3333333333333333, ('n', 'e'): 0.05, ('e', 'r'): 0.02, ('r', 'e'): 0.06, ('e', 'volutioniz'): 0.1, ('volutioniz', 'e'): 0.1, ('e', 'd'): 0.1, ('e', 'volutiona'): 0.1, ('volutiona', 'r'): 0.2, ('r', 'y'): 0.2})\n",
      "defaultdict(<class 'float'>, {('machin', 'e'): 0.1, ('l', 'e'): 0.1, ('e', 'arning'): 0.1, ('e', 'ar'): 0.1, ('ar', 'n'): 0.5, ('n', 'e'): 0.05, ('e', 'r'): 0.02, ('r', 'e'): 0.06, ('e', 'volutioniz'): 0.1, ('volutioniz', 'e'): 0.1, ('e', 'd'): 0.1, ('e', 'volutiona'): 0.1, ('volutiona', 'r'): 0.2, ('r', 'y'): 0.2})\n",
      "defaultdict(<class 'float'>, {('machin', 'e'): 0.1, ('l', 'e'): 0.1, ('e', 'arning'): 0.1, ('e', 'arn'): 0.1, ('arn', 'e'): 0.05, ('e', 'r'): 0.02, ('r', 'e'): 0.06, ('e', 'volutioniz'): 0.1, ('volutioniz', 'e'): 0.1, ('e', 'd'): 0.1, ('e', 'volutiona'): 0.1, ('volutiona', 'r'): 0.2, ('r', 'y'): 0.2})\n",
      "defaultdict(<class 'float'>, {('machin', 'e'): 0.1, ('l', 'e'): 0.1, ('e', 'arning'): 0.1, ('e', 'arn'): 0.1, ('arn', 'e'): 0.05, ('e', 'r'): 0.025, ('r', 'e'): 0.075, ('e', 'volutioniz'): 0.1, ('volutioniz', 'e'): 0.1, ('e', 'd'): 0.1, ('e', 'volutionar'): 0.1, ('volutionar', 'y'): 1.0})\n"
     ]
    },
    {
     "data": {
      "text/plain": [
       "(['machin',\n",
       "  'e',\n",
       "  'l',\n",
       "  'e',\n",
       "  'arning',\n",
       "  'l',\n",
       "  'e',\n",
       "  'arn',\n",
       "  'l',\n",
       "  'e',\n",
       "  'arn',\n",
       "  'e',\n",
       "  'r',\n",
       "  'r',\n",
       "  'e',\n",
       "  'volutioniz',\n",
       "  'e',\n",
       "  'd',\n",
       "  'r',\n",
       "  'e',\n",
       "  'volutioniz',\n",
       "  'e',\n",
       "  'r',\n",
       "  'e',\n",
       "  'volutionary'],\n",
       " [('c', 'h'),\n",
       "  ('u', 't'),\n",
       "  ('m', 'a'),\n",
       "  ('ma', 'ch'),\n",
       "  ('v', 'o'),\n",
       "  ('vo', 'l'),\n",
       "  ('vol', 'ut'),\n",
       "  ('mach', 'i'),\n",
       "  ('volut', 'i'),\n",
       "  ('voluti', 'o'),\n",
       "  ('i', 'z'),\n",
       "  ('machi', 'n'),\n",
       "  ('n', 'i'),\n",
       "  ('ni', 'n'),\n",
       "  ('nin', 'g'),\n",
       "  ('volutio', 'n'),\n",
       "  ('volution', 'iz'),\n",
       "  ('volution', 'a'),\n",
       "  ('a', 'r'),\n",
       "  ('ar', 'ning'),\n",
       "  ('ar', 'n'),\n",
       "  ('volutiona', 'r'),\n",
       "  ('volutionar', 'y')],\n",
       " [['machin', 'e'],\n",
       "  ['l', 'e', 'arning'],\n",
       "  ['l', 'e', 'arn'],\n",
       "  ['l', 'e', 'arn', 'e', 'r'],\n",
       "  ['r', 'e', 'volutioniz', 'e', 'd'],\n",
       "  ['r', 'e', 'volutioniz', 'e'],\n",
       "  ['r', 'e', 'volutionary']])"
      ]
     },
     "execution_count": 201,
     "metadata": {},
     "output_type": "execute_result"
    }
   ],
   "source": [
    "wordpiece_n(splitting_words, origin_splitting, 23)"
   ]
  },
  {
   "cell_type": "code",
   "execution_count": null,
   "metadata": {},
   "outputs": [],
   "source": [
    "merged1, rule1, origin1 = wordpiece(splitting_words, origin_splitting)\n",
    "merged1, rule1, origin1"
   ]
  },
  {
   "cell_type": "code",
   "execution_count": 186,
   "metadata": {},
   "outputs": [
    {
     "name": "stdout",
     "output_type": "stream",
     "text": [
      "defaultdict(<class 'float'>, {('m', 'a'): 0.2, ('a', 'ch'): 0.2, ('ch', 'i'): 0.14285714285714285, ('i', 'n'): 0.03571428571428571, ('n', 'e'): 0.025, ('l', 'e'): 0.05, ('e', 'a'): 0.06, ('a', 'r'): 0.1, ('r', 'n'): 0.046875, ('n', 'i'): 0.05357142857142857, ('n', 'g'): 0.125, ('e', 'r'): 0.0125, ('r', 'e'): 0.0375, ('e', 'v'): 0.1, ('v', 'o'): 0.16666666666666666, ('o', 'l'): 0.08333333333333333, ('l', 'u'): 0.16666666666666666, ('u', 't'): 0.3333333333333333, ('t', 'i'): 0.14285714285714285, ('i', 'o'): 0.07142857142857142, ('o', 'n'): 0.0625, ('i', 'z'): 0.14285714285714285, ('z', 'e'): 0.1, ('e', 'd'): 0.1, ('i', 's'): 0.14285714285714285, ('s', 'e'): 0.1, ('n', 'a'): 0.025, ('r', 'y'): 0.125})\n"
     ]
    },
    {
     "data": {
      "text/plain": [
       "(['m',\n",
       "  'a',\n",
       "  'ch',\n",
       "  'i',\n",
       "  'n',\n",
       "  'e',\n",
       "  'l',\n",
       "  'e',\n",
       "  'a',\n",
       "  'r',\n",
       "  'n',\n",
       "  'i',\n",
       "  'n',\n",
       "  'g',\n",
       "  'l',\n",
       "  'e',\n",
       "  'a',\n",
       "  'r',\n",
       "  'n',\n",
       "  'l',\n",
       "  'e',\n",
       "  'a',\n",
       "  'r',\n",
       "  'n',\n",
       "  'e',\n",
       "  'r',\n",
       "  'r',\n",
       "  'e',\n",
       "  'v',\n",
       "  'o',\n",
       "  'l',\n",
       "  'ut',\n",
       "  'i',\n",
       "  'o',\n",
       "  'n',\n",
       "  'i',\n",
       "  'z',\n",
       "  'e',\n",
       "  'd',\n",
       "  'r',\n",
       "  'e',\n",
       "  'v',\n",
       "  'o',\n",
       "  'l',\n",
       "  'ut',\n",
       "  'i',\n",
       "  'o',\n",
       "  'n',\n",
       "  'i',\n",
       "  's',\n",
       "  'e',\n",
       "  'r',\n",
       "  'e',\n",
       "  'v',\n",
       "  'o',\n",
       "  'l',\n",
       "  'ut',\n",
       "  'i',\n",
       "  'o',\n",
       "  'n',\n",
       "  'a',\n",
       "  'r',\n",
       "  'y'],\n",
       " ('u', 't'),\n",
       " [['m', 'a', 'ch', 'i', 'n', 'e'],\n",
       "  ['l', 'e', 'a', 'r', 'n', 'i', 'n', 'g'],\n",
       "  ['l', 'e', 'a', 'r', 'n'],\n",
       "  ['l', 'e', 'a', 'r', 'n', 'e', 'r'],\n",
       "  ['r', 'e', 'v', 'o', 'l', 'ut', 'i', 'o', 'n', 'i', 'z', 'e', 'd'],\n",
       "  ['r', 'e', 'v', 'o', 'l', 'ut', 'i', 'o', 'n', 'i', 's', 'e'],\n",
       "  ['r', 'e', 'v', 'o', 'l', 'ut', 'i', 'o', 'n', 'a', 'r', 'y']])"
      ]
     },
     "execution_count": 186,
     "metadata": {},
     "output_type": "execute_result"
    }
   ],
   "source": [
    "merged2, rule2, origin2 = wordpiece(merged1, origin1)\n",
    "merged2, rule2, origin2"
   ]
  },
  {
   "cell_type": "code",
   "execution_count": 188,
   "metadata": {},
   "outputs": [
    {
     "name": "stdout",
     "output_type": "stream",
     "text": [
      "defaultdict(<class 'float'>, {('m', 'a'): 0.2, ('a', 'ch'): 0.2, ('ch', 'i'): 0.14285714285714285, ('i', 'n'): 0.03571428571428571, ('n', 'e'): 0.025, ('l', 'e'): 0.05, ('e', 'a'): 0.06, ('a', 'r'): 0.1, ('r', 'n'): 0.046875, ('n', 'i'): 0.05357142857142857, ('n', 'g'): 0.125, ('e', 'r'): 0.0125, ('r', 'e'): 0.0375, ('e', 'v'): 0.1, ('v', 'o'): 0.16666666666666666, ('o', 'l'): 0.08333333333333333, ('l', 'ut'): 0.16666666666666666, ('ut', 'i'): 0.14285714285714285, ('i', 'o'): 0.07142857142857142, ('o', 'n'): 0.0625, ('i', 'z'): 0.14285714285714285, ('z', 'e'): 0.1, ('e', 'd'): 0.1, ('i', 's'): 0.14285714285714285, ('s', 'e'): 0.1, ('n', 'a'): 0.025, ('r', 'y'): 0.125})\n"
     ]
    },
    {
     "data": {
      "text/plain": [
       "(['ma',\n",
       "  'ch',\n",
       "  'i',\n",
       "  'n',\n",
       "  'e',\n",
       "  'l',\n",
       "  'e',\n",
       "  'a',\n",
       "  'r',\n",
       "  'n',\n",
       "  'i',\n",
       "  'n',\n",
       "  'g',\n",
       "  'l',\n",
       "  'e',\n",
       "  'a',\n",
       "  'r',\n",
       "  'n',\n",
       "  'l',\n",
       "  'e',\n",
       "  'a',\n",
       "  'r',\n",
       "  'n',\n",
       "  'e',\n",
       "  'r',\n",
       "  'r',\n",
       "  'e',\n",
       "  'v',\n",
       "  'o',\n",
       "  'l',\n",
       "  'ut',\n",
       "  'i',\n",
       "  'o',\n",
       "  'n',\n",
       "  'i',\n",
       "  'z',\n",
       "  'e',\n",
       "  'd',\n",
       "  'r',\n",
       "  'e',\n",
       "  'v',\n",
       "  'o',\n",
       "  'l',\n",
       "  'ut',\n",
       "  'i',\n",
       "  'o',\n",
       "  'n',\n",
       "  'i',\n",
       "  's',\n",
       "  'e',\n",
       "  'r',\n",
       "  'e',\n",
       "  'v',\n",
       "  'o',\n",
       "  'l',\n",
       "  'ut',\n",
       "  'i',\n",
       "  'o',\n",
       "  'n',\n",
       "  'a',\n",
       "  'r',\n",
       "  'y'],\n",
       " ('m', 'a'),\n",
       " [['ma', 'ch', 'i', 'n', 'e'],\n",
       "  ['l', 'e', 'a', 'r', 'n', 'i', 'n', 'g'],\n",
       "  ['l', 'e', 'a', 'r', 'n'],\n",
       "  ['l', 'e', 'a', 'r', 'n', 'e', 'r'],\n",
       "  ['r', 'e', 'v', 'o', 'l', 'ut', 'i', 'o', 'n', 'i', 'z', 'e', 'd'],\n",
       "  ['r', 'e', 'v', 'o', 'l', 'ut', 'i', 'o', 'n', 'i', 's', 'e'],\n",
       "  ['r', 'e', 'v', 'o', 'l', 'ut', 'i', 'o', 'n', 'a', 'r', 'y']])"
      ]
     },
     "execution_count": 188,
     "metadata": {},
     "output_type": "execute_result"
    }
   ],
   "source": [
    "merged3, rule3, origin3 = wordpiece(merged2, origin2)\n",
    "merged3, rule3, origin3"
   ]
  },
  {
   "cell_type": "code",
   "execution_count": null,
   "metadata": {},
   "outputs": [],
   "source": []
  }
 ],
 "metadata": {
  "kernelspec": {
   "display_name": "Python 3",
   "language": "python",
   "name": "python3"
  },
  "language_info": {
   "codemirror_mode": {
    "name": "ipython",
    "version": 3
   },
   "file_extension": ".py",
   "mimetype": "text/x-python",
   "name": "python",
   "nbconvert_exporter": "python",
   "pygments_lexer": "ipython3",
   "version": "3.11.5"
  },
  "orig_nbformat": 4
 },
 "nbformat": 4,
 "nbformat_minor": 2
}
