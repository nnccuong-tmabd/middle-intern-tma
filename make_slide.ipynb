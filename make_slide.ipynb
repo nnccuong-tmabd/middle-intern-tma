{
 "cells": [
  {
   "cell_type": "code",
   "execution_count": 7,
   "metadata": {},
   "outputs": [
    {
     "data": {
      "text/plain": [
       "'\\nEm yêu trường em\\nTôi thích phở\\n'"
      ]
     },
     "execution_count": 7,
     "metadata": {},
     "output_type": "execute_result"
    }
   ],
   "source": [
    "text = '''\n",
    "Em yêu trường em\n",
    "Tôi thích phở\n",
    "'''\n",
    "text"
   ]
  },
  {
   "cell_type": "code",
   "execution_count": 8,
   "metadata": {},
   "outputs": [
    {
     "data": {
      "text/plain": [
       "{'em', 'phở', 'thích', 'trường', 'tôi', 'yêu'}"
      ]
     },
     "execution_count": 8,
     "metadata": {},
     "output_type": "execute_result"
    }
   ],
   "source": [
    "vocab = []\n",
    "for sent in text.split('\\n'):\n",
    "    sent = [word.lower() for word in sent.split()]\n",
    "    vocab += sent\n",
    "\n",
    "vocab = set(vocab)\n",
    "vocab"
   ]
  },
  {
   "cell_type": "code",
   "execution_count": null,
   "metadata": {},
   "outputs": [],
   "source": []
  },
  {
   "cell_type": "code",
   "execution_count": 4,
   "metadata": {},
   "outputs": [
    {
     "data": {
      "text/plain": [
       "{'Em', 'Nhà', 'Tôi', 'em', 'phố', 'phở', 'thích', 'trường', 'yêu', 'ở'}"
      ]
     },
     "execution_count": 4,
     "metadata": {},
     "output_type": "execute_result"
    }
   ],
   "source": [
    "vocab"
   ]
  },
  {
   "cell_type": "code",
   "execution_count": 11,
   "metadata": {},
   "outputs": [
    {
     "name": "stdout",
     "output_type": "stream",
     "text": [
      "FNV-1a Hash: 39\n"
     ]
    }
   ],
   "source": [
    "def fnv1a_hash(data):\n",
    "    # FNV-1a constants\n",
    "    FNV_PRIME = 1\n",
    "    OFFSET_BASIS = 10\n",
    "\n",
    "    # Initialize hash with the offset basis\n",
    "    hash_value = OFFSET_BASIS\n",
    "\n",
    "    # Iterate over each byte of the data and update the hash\n",
    "    for byte in data:\n",
    "        hash_value *= FNV_PRIME\n",
    "        hash_value ^= byte\n",
    "\n",
    "    return hash_value\n",
    "\n",
    "# Example usage\n",
    "data = b\"Hello, World!\"\n",
    "hash_result = fnv1a_hash(data)\n",
    "print(\"FNV-1a Hash:\", hash_result)\n"
   ]
  }
 ],
 "metadata": {
  "kernelspec": {
   "display_name": "Python 3",
   "language": "python",
   "name": "python3"
  },
  "language_info": {
   "codemirror_mode": {
    "name": "ipython",
    "version": 3
   },
   "file_extension": ".py",
   "mimetype": "text/x-python",
   "name": "python",
   "nbconvert_exporter": "python",
   "pygments_lexer": "ipython3",
   "version": "3.11.5"
  },
  "orig_nbformat": 4
 },
 "nbformat": 4,
 "nbformat_minor": 2
}
