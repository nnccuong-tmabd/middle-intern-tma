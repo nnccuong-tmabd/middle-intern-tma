{
 "cells": [
  {
   "cell_type": "code",
   "execution_count": 4,
   "metadata": {},
   "outputs": [],
   "source": [
    "from gensim.models.phrases import Phrases, Phraser\n",
    "from gensim.models import Word2Vec\n",
    "from gensim.models.callbacks import CallbackAny2Vec"
   ]
  },
  {
   "cell_type": "markdown",
   "metadata": {},
   "source": [
    "# Data"
   ]
  },
  {
   "cell_type": "code",
   "execution_count": 5,
   "metadata": {},
   "outputs": [],
   "source": [
    "import json\n",
    "import requests\n",
    "\n",
    "def load_data_skill(filename):\n",
    "\n",
    "    # resp = requests.get(filename)\n",
    "    with open(filename, 'r') as f:\n",
    "        data = json.load(f)\n",
    "\n",
    "    return list(data)\n",
    "\n",
    "filename = 'data/train/total_skill_augmentation_jds_sorted_relevant_combine_random_and_not.json'\n",
    "total_skills_jds = load_data_skill(filename)"
   ]
  },
  {
   "cell_type": "markdown",
   "metadata": {},
   "source": [
    "# Valid Function"
   ]
  },
  {
   "cell_type": "code",
   "execution_count": 6,
   "metadata": {},
   "outputs": [],
   "source": [
    "def model_prediction(model, skills, topn=20):\n",
    "    result = {}\n",
    "    for skill in skills:\n",
    "        topn_skills = [skill[0] for skill in model.wv.most_similar(skill, topn=topn)]\n",
    "\n",
    "        result[skill] = topn_skills\n",
    "\n",
    "    return result\n",
    "\n",
    "def valid_skill(prediction, valid_data): # prediction: dict, valid_data: dict\n",
    "    count = 0\n",
    "    for skill in prediction.keys():\n",
    "        for rlv_skill in prediction[skill]:\n",
    "            if rlv_skill in valid_data[skill]:\n",
    "                count += 1\n",
    "\n",
    "    # find the number of skill in valid data\n",
    "    total_skills = len(valid_data) * 20\n",
    "\n",
    "    return count/total_skills\n"
   ]
  },
  {
   "cell_type": "markdown",
   "metadata": {},
   "source": [
    "# Model training"
   ]
  },
  {
   "cell_type": "code",
   "execution_count": 24,
   "metadata": {},
   "outputs": [
    {
     "name": "stdout",
     "output_type": "stream",
     "text": [
      "Total valid skill: 66547\n"
     ]
    }
   ],
   "source": [
    "# valid data\n",
    "valid_data_path = 'https://raw.githubusercontent.com/nnccuong-tmabd/middle-intern-tma/main/data/valid/skills_valid.json'\n",
    "\n",
    "# with open(valid_data_path, 'r') as f:\n",
    "#     valid_data = json.load(f)\n",
    "\n",
    "# f.close()\n",
    "\n",
    "import requests\n",
    "\n",
    "resp = requests.get(valid_data_path)\n",
    "valid_data = json.loads(resp.text)\n",
    "valid_data\n",
    "\n",
    "# total valid skill\n",
    "total_valid_skill = 0\n",
    "for skill in valid_data.keys():\n",
    "    total_valid_skill += len(valid_data[skill])\n",
    "\n",
    "print(f'Total valid skill: {total_valid_skill}')"
   ]
  },
  {
   "cell_type": "code",
   "execution_count": 26,
   "metadata": {},
   "outputs": [],
   "source": [
    "import random\n",
    "\n",
    "def calculate_acc(model):\n",
    "  #pick random 200 skills in valid data\n",
    "\n",
    "  prediction = model_prediction(model, valid_data.keys())\n",
    "\n",
    "  accuracy = valid_skill(prediction, valid_data)\n",
    "\n",
    "\n",
    "  return accuracy\n",
    "\n",
    "# calculate_acc(model=model)\n",
    "# print(f'Accuracy: {sum(accuracies)/100}')"
   ]
  },
  {
   "cell_type": "code",
   "execution_count": 27,
   "metadata": {},
   "outputs": [
    {
     "name": "stdout",
     "output_type": "stream",
     "text": [
      "Total number of hyperparameter combinations: 8\n"
     ]
    }
   ],
   "source": [
    "import itertools\n",
    "\n",
    "# create hyperparameter for training fasttext model and use grid search to find best hyperparameter\n",
    "# Define hyperparameters\n",
    "vector_size = [100]  # Can adjust this to your desired vector size\n",
    "window_size = [3]    # Context window size\n",
    "min_count = [2]      # Minimum word frequency\n",
    "sg = [1]             # Skip-gram model (1 for skip-gram, 0 for CBOW)\n",
    "hs = [0, 1]                # Using negative sampling (1 for HS, 0 for negative sampling)\n",
    "negative = [5, 10, 15, 20]\n",
    "ns_exponent = [0.75]    # The exponent used to shape the negative sampling distribution (0 for unigram, 1 for uniform)\n",
    "seed = [0]\n",
    "batch_size = [100]     # Number of words for each training batch\n",
    "shrink_windows = [False] # Whether to shrink the window size as training goes on. This usually improves the accuracy of word vectors\n",
    "alpha = [0.1]           # The initial learning rate\n",
    "\n",
    "workers = [2]           # Number of worker threads to train the model\n",
    "epochs = [100]          # Number of epochs to train the model\n",
    "\n",
    "# Create combinations of hyperparameters\n",
    "hyperparameter_combinations = list(itertools.product(vector_size, window_size, min_count, sg, hs, negative, ns_exponent, seed, batch_size, shrink_windows, alpha, workers, epochs))\n",
    "\n",
    "# Print the total number of combinations\n",
    "print(f\"Total number of hyperparameter combinations: {len(hyperparameter_combinations)}\")"
   ]
  },
  {
   "cell_type": "code",
   "execution_count": 28,
   "metadata": {},
   "outputs": [],
   "source": [
    "# function train model fasttext\n",
    "def train_word2vec(skills_jds,\n",
    "                   vector_size=100,\n",
    "                   window_size=5,\n",
    "                   min_count=3,\n",
    "                   sg=1,\n",
    "                   hs=1,\n",
    "                   negative=0,\n",
    "                   ns_exponent=0,\n",
    "                   batch_size=100,\n",
    "                   seed=seed,\n",
    "                   shrink_windows=True,\n",
    "                   alpha=0.025,\n",
    "                   workers=2,\n",
    "                   epochs=100):\n",
    "\n",
    "    # Initialize and train the FastText model\n",
    "    model = Word2Vec(\n",
    "        vector_size=vector_size,\n",
    "        window=window_size,\n",
    "        min_count=min_count,\n",
    "        sg=sg,\n",
    "        hs=hs,\n",
    "        negative=negative,\n",
    "        alpha=alpha,\n",
    "        ns_exponent=ns_exponent,\n",
    "        seed=seed,\n",
    "        batch_words=batch_size,\n",
    "        shrink_windows=shrink_windows,\n",
    "        workers=workers,\n",
    "        epochs=2\n",
    "    )\n",
    "\n",
    "    # Build the vocabulary\n",
    "    model.build_vocab(corpus_iterable=skills_jds)\n",
    "\n",
    "    model.train(\n",
    "        corpus_iterable=skills_jds,\n",
    "        total_words = model.corpus_total_words,\n",
    "        total_examples=len(skills_jds),\n",
    "        epochs=model.epochs\n",
    "    )\n",
    "\n",
    "    pre_accuaracy = calculate_acc(model)\n",
    "    print(f'Epoch {1}/{epochs} - Accuaracy: {pre_accuaracy}')\n",
    "\n",
    "    threshold = 0.01\n",
    "    num_epochs = epochs - 1\n",
    "\n",
    "    for epoch in range(num_epochs):\n",
    "\n",
    "        model.update_weights()\n",
    "\n",
    "        model.train(\n",
    "            corpus_iterable=skills_jds,\n",
    "            total_words = model.corpus_total_words,\n",
    "            total_examples=len(skills_jds),\n",
    "            epochs=model.epochs\n",
    "        )\n",
    "\n",
    "        accuaracy = calculate_acc(model)\n",
    "\n",
    "        print(f'Epoch {epoch+2}/{epochs} - Accuaracy: {accuaracy}')\n",
    "\n",
    "        # early stopping\n",
    "        if pre_accuaracy - accuaracy > threshold:\n",
    "            break\n",
    "        else:\n",
    "            pre_accuaracy = accuaracy\n",
    "        \n",
    "    return model"
   ]
  },
  {
   "cell_type": "code",
   "execution_count": 51,
   "metadata": {},
   "outputs": [],
   "source": [
    "import multiprocessing\n",
    "\n",
    "# Define hyperparameters\n",
    "vector_size = 200  # Can adjust this to your desired vector size\n",
    "window_size = 5    # Context window size\n",
    "min_count = 7      # Minimum word frequency\n",
    "sg = 1             # Skip-gram model (1 for skip-gram, 0 for CBOW)\n",
    "hs = 1                # Using negative sampling (1 for HS, 0 for negative sampling)\n",
    "negative = 0\n",
    "ns_exponent = 1    # The exponent used to shape the negative sampling distribution (0 for unigram, 1 for uniform)\n",
    "batch_size = 300     # Number of words for each training batch\n",
    "shrink_windows = True # Whether to shrink the window size as training goes on. This usually improves the accuracy of word vectors\n",
    "alpha = 0.1           # The initial learning rate\n",
    "workers=2\n",
    "seed=0\n",
    "\n",
    "epochs = 100          # Number of epochs to train the model"
   ]
  },
  {
   "cell_type": "code",
   "execution_count": 52,
   "metadata": {},
   "outputs": [],
   "source": [
    "model = train_word2vec(skills_jds=total_skills_jds,\n",
    "                       vector_size=vector_size,\n",
    "                       window_size=window_size,\n",
    "                       min_count=min_count,\n",
    "                       workers=workers,\n",
    "                       alpha=alpha,\n",
    "                       sg=sg,\n",
    "                       hs=hs,\n",
    "                       negative=negative,\n",
    "                       ns_exponent=ns_exponent,\n",
    "                       batch_size=batch_size,\n",
    "                       shrink_windows=shrink_windows,\n",
    "                       epochs=epochs)"
   ]
  },
  {
   "cell_type": "code",
   "execution_count": 14,
   "metadata": {},
   "outputs": [
    {
     "ename": "NameError",
     "evalue": "name 'model' is not defined",
     "output_type": "error",
     "traceback": [
      "\u001b[1;31m---------------------------------------------------------------------------\u001b[0m",
      "\u001b[1;31mNameError\u001b[0m                                 Traceback (most recent call last)",
      "\u001b[1;32md:\\middle-intern-tma\\word2vec.ipynb Cell 13\u001b[0m line \u001b[0;36m5\n\u001b[0;32m      <a href='vscode-notebook-cell:/d%3A/middle-intern-tma/word2vec.ipynb#X15sZmlsZQ%3D%3D?line=0'>1</a>\u001b[0m \u001b[39mimport\u001b[39;00m \u001b[39mos\u001b[39;00m\n\u001b[0;32m      <a href='vscode-notebook-cell:/d%3A/middle-intern-tma/word2vec.ipynb#X15sZmlsZQ%3D%3D?line=2'>3</a>\u001b[0m save_folder \u001b[39m=\u001b[39m \u001b[39m'\u001b[39m\u001b[39mword2vecmodel/2/\u001b[39m\u001b[39m'\u001b[39m\n\u001b[1;32m----> <a href='vscode-notebook-cell:/d%3A/middle-intern-tma/word2vec.ipynb#X15sZmlsZQ%3D%3D?line=4'>5</a>\u001b[0m word_vectors \u001b[39m=\u001b[39m model\u001b[39m.\u001b[39mwv\n\u001b[0;32m      <a href='vscode-notebook-cell:/d%3A/middle-intern-tma/word2vec.ipynb#X15sZmlsZQ%3D%3D?line=6'>7</a>\u001b[0m vocab \u001b[39m=\u001b[39m \u001b[39mlist\u001b[39m(word_vectors\u001b[39m.\u001b[39mindex_to_key)\n\u001b[0;32m      <a href='vscode-notebook-cell:/d%3A/middle-intern-tma/word2vec.ipynb#X15sZmlsZQ%3D%3D?line=8'>9</a>\u001b[0m \u001b[39mif\u001b[39;00m \u001b[39mnot\u001b[39;00m os\u001b[39m.\u001b[39mpath\u001b[39m.\u001b[39mexists(save_folder):\n",
      "\u001b[1;31mNameError\u001b[0m: name 'model' is not defined"
     ]
    }
   ],
   "source": [
    "import os\n",
    "\n",
    "save_folder = 'word2vecmodel/2/'\n",
    "\n",
    "word_vectors = model.wv\n",
    "\n",
    "vocab = list(word_vectors.index_to_key)\n",
    "\n",
    "if not os.path.exists(save_folder):\n",
    "    os.makedirs(save_folder)\n",
    "\n",
    "tsv_file = save_folder + \"vectors.tsv\"\n",
    "\n",
    "with open(tsv_file, \"w\", encoding=\"utf-8\") as file:\n",
    "\n",
    "    # Write word vectors\n",
    "    for word in vocab:\n",
    "        vector = \"\\t\".join(str(val) for val in word_vectors[word])\n",
    "\n",
    "        file.write(f\"{vector}\\n\")\n",
    "\n",
    "print(f\"Word vectors saved to {tsv_file}\")\n",
    "\n",
    "tsv_metadata = save_folder + 'vocab.tsv'\n",
    "\n",
    "with open (tsv_metadata, \"w\", encoding='utf-8') as file:\n",
    "\n",
    "    for word in vocab:\n",
    "        file.write(f\"{word}\\n\")\n",
    "\n",
    "print(f\"Metadata saved to {tsv_metadata}\")\n",
    "\n",
    "model_name = save_folder + \"word2vec_model\"\n",
    "model.save(model_name)"
   ]
  },
  {
   "cell_type": "markdown",
   "metadata": {},
   "source": [
    "## Grid search"
   ]
  },
  {
   "cell_type": "code",
   "execution_count": 10,
   "metadata": {},
   "outputs": [],
   "source": [
    "# use smaller data\n",
    "import random\n",
    "\n",
    "n = 1000\n",
    "random_items = random.sample(total_skills_jds, n)"
   ]
  },
  {
   "cell_type": "code",
   "execution_count": 29,
   "metadata": {},
   "outputs": [],
   "source": [
    "import os\n",
    "import numpy as np\n",
    "\n",
    "def grid_search(model_path = 'word2vecmodel', total_skill_jds=total_skills_jds):\n",
    "    word2vec_models = []\n",
    "    accuracy_models = []\n",
    "    for idx, parameters in enumerate(hyperparameter_combinations):\n",
    "        print(f\"Training model with parameters: {parameters}\")\n",
    "        model = train_word2vec(total_skill_jds, parameters[0], parameters[1], parameters[2],\n",
    "                    parameters[3], parameters[4], parameters[5],\n",
    "                    parameters[6], parameters[7], parameters[8],\n",
    "                    parameters[9], parameters[10], parameters[11], parameters[12])\n",
    "        # fasttext_models.append(model)\n",
    "\n",
    "        # valid model\n",
    "        prediction = model_prediction(model, valid_data.keys())\n",
    "        word2vec_models.append(model)\n",
    "\n",
    "        accuracy = valid_skill(prediction, valid_data)\n",
    "        accuracy_models.append(accuracy)\n",
    "\n",
    "        print(f'Accuracy: {accuracy}')\n",
    "\n",
    "        # save model\n",
    "        if not os.path.exists(f'{model_path}/{idx}'):\n",
    "            os.makedirs(f'{model_path}/{idx}')\n",
    "\n",
    "        model.save(f'{model_path}/{idx}/word2vec.model')\n",
    "\n",
    "        # export model\n",
    "        vocab = model.wv.key_to_index\n",
    "\n",
    "        with open(f'{model_path}/{idx}/vocab.tsv', \"w\", encoding='utf-8') as f:\n",
    "            # f.write(\"word\\n\")\n",
    "            for word in vocab:\n",
    "                f.write(f\"{word}\\n\")\n",
    "\n",
    "        f.close()\n",
    "\n",
    "        with open(f'{model_path}/{idx}/vectors.tsv', \"w\", encoding='utf-8') as f:\n",
    "            for word in vocab:\n",
    "                vector = \"\\t\".join(str(val) for val in model.wv[word])\n",
    "\n",
    "                f.write(f\"{vector}\\n\")\n",
    "        f.close()\n",
    "\n",
    "        with open(f'{model_path}/{idx}/parameters.txt', 'w', encoding='utf-8') as f:\n",
    "            f.write(str(parameters))\n",
    "        f.close()\n",
    "\n",
    "\n",
    "    # #find best model\n",
    "    # best_model = fasttext_models[np.argmax(accuracy_models)]\n",
    "    # best_accuracy = max(accuracy_models)\n",
    "\n",
    "    # # save best model\n",
    "    # if not os.path.exists(f'{model_path}/best_model'):\n",
    "    #     os.makedirs(f'{model_path}/best_model')\n",
    "\n",
    "    # best_model.save(f'{model_path}/best_model/fasttext_model.model')\n",
    "    # # save best parameter\n",
    "    # with open(f'{model_path}/best_model/best_parameter.txt', 'w') as f:\n",
    "    #     f.write(f'Best parameter: {hyperparameter_combinations[np.argmax(accuracy_models)]}\\n')\n",
    "    #     f.write(f'Best accuracy: {best_accuracy}')\n",
    "\n",
    "    return word2vec_models, accuracy_models"
   ]
  },
  {
   "cell_type": "code",
   "execution_count": 30,
   "metadata": {},
   "outputs": [
    {
     "name": "stdout",
     "output_type": "stream",
     "text": [
      "Training model with parameters: (100, 3, 2, 1, 0, 5, 0.75, 0, 100, False, 0.1, 2, 100)\n"
     ]
    },
    {
     "ename": "KeyError",
     "evalue": "\"Key 'gulp' not present in vocabulary\"",
     "output_type": "error",
     "traceback": [
      "\u001b[1;31m---------------------------------------------------------------------------\u001b[0m",
      "\u001b[1;31mKeyError\u001b[0m                                  Traceback (most recent call last)",
      "\u001b[1;32md:\\middle-intern-tma\\word2vec.ipynb Cell 17\u001b[0m line \u001b[0;36m1\n\u001b[1;32m----> <a href='vscode-notebook-cell:/d%3A/middle-intern-tma/word2vec.ipynb#X22sZmlsZQ%3D%3D?line=0'>1</a>\u001b[0m models \u001b[39m=\u001b[39m grid_search(\u001b[39m'\u001b[39;49m\u001b[39mword2vecmodel_3\u001b[39;49m\u001b[39m'\u001b[39;49m, total_skills_jds)\n",
      "\u001b[1;32md:\\middle-intern-tma\\word2vec.ipynb Cell 17\u001b[0m line \u001b[0;36m9\n\u001b[0;32m      <a href='vscode-notebook-cell:/d%3A/middle-intern-tma/word2vec.ipynb#X22sZmlsZQ%3D%3D?line=6'>7</a>\u001b[0m \u001b[39mfor\u001b[39;00m idx, parameters \u001b[39min\u001b[39;00m \u001b[39menumerate\u001b[39m(hyperparameter_combinations):\n\u001b[0;32m      <a href='vscode-notebook-cell:/d%3A/middle-intern-tma/word2vec.ipynb#X22sZmlsZQ%3D%3D?line=7'>8</a>\u001b[0m     \u001b[39mprint\u001b[39m(\u001b[39mf\u001b[39m\u001b[39m\"\u001b[39m\u001b[39mTraining model with parameters: \u001b[39m\u001b[39m{\u001b[39;00mparameters\u001b[39m}\u001b[39;00m\u001b[39m\"\u001b[39m)\n\u001b[1;32m----> <a href='vscode-notebook-cell:/d%3A/middle-intern-tma/word2vec.ipynb#X22sZmlsZQ%3D%3D?line=8'>9</a>\u001b[0m     model \u001b[39m=\u001b[39m train_word2vec(total_skill_jds, parameters[\u001b[39m0\u001b[39;49m], parameters[\u001b[39m1\u001b[39;49m], parameters[\u001b[39m2\u001b[39;49m],\n\u001b[0;32m     <a href='vscode-notebook-cell:/d%3A/middle-intern-tma/word2vec.ipynb#X22sZmlsZQ%3D%3D?line=9'>10</a>\u001b[0m                 parameters[\u001b[39m3\u001b[39;49m], parameters[\u001b[39m4\u001b[39;49m], parameters[\u001b[39m5\u001b[39;49m],\n\u001b[0;32m     <a href='vscode-notebook-cell:/d%3A/middle-intern-tma/word2vec.ipynb#X22sZmlsZQ%3D%3D?line=10'>11</a>\u001b[0m                 parameters[\u001b[39m6\u001b[39;49m], parameters[\u001b[39m7\u001b[39;49m], parameters[\u001b[39m8\u001b[39;49m],\n\u001b[0;32m     <a href='vscode-notebook-cell:/d%3A/middle-intern-tma/word2vec.ipynb#X22sZmlsZQ%3D%3D?line=11'>12</a>\u001b[0m                 parameters[\u001b[39m9\u001b[39;49m], parameters[\u001b[39m10\u001b[39;49m], parameters[\u001b[39m11\u001b[39;49m], parameters[\u001b[39m12\u001b[39;49m])\n\u001b[0;32m     <a href='vscode-notebook-cell:/d%3A/middle-intern-tma/word2vec.ipynb#X22sZmlsZQ%3D%3D?line=12'>13</a>\u001b[0m     \u001b[39m# fasttext_models.append(model)\u001b[39;00m\n\u001b[0;32m     <a href='vscode-notebook-cell:/d%3A/middle-intern-tma/word2vec.ipynb#X22sZmlsZQ%3D%3D?line=13'>14</a>\u001b[0m \n\u001b[0;32m     <a href='vscode-notebook-cell:/d%3A/middle-intern-tma/word2vec.ipynb#X22sZmlsZQ%3D%3D?line=14'>15</a>\u001b[0m     \u001b[39m# valid model\u001b[39;00m\n\u001b[0;32m     <a href='vscode-notebook-cell:/d%3A/middle-intern-tma/word2vec.ipynb#X22sZmlsZQ%3D%3D?line=15'>16</a>\u001b[0m     prediction \u001b[39m=\u001b[39m model_prediction(model, valid_data\u001b[39m.\u001b[39mkeys())\n",
      "\u001b[1;32md:\\middle-intern-tma\\word2vec.ipynb Cell 17\u001b[0m line \u001b[0;36m4\n\u001b[0;32m     <a href='vscode-notebook-cell:/d%3A/middle-intern-tma/word2vec.ipynb#X22sZmlsZQ%3D%3D?line=34'>35</a>\u001b[0m model\u001b[39m.\u001b[39mbuild_vocab(corpus_iterable\u001b[39m=\u001b[39mskills_jds)\n\u001b[0;32m     <a href='vscode-notebook-cell:/d%3A/middle-intern-tma/word2vec.ipynb#X22sZmlsZQ%3D%3D?line=36'>37</a>\u001b[0m model\u001b[39m.\u001b[39mtrain(\n\u001b[0;32m     <a href='vscode-notebook-cell:/d%3A/middle-intern-tma/word2vec.ipynb#X22sZmlsZQ%3D%3D?line=37'>38</a>\u001b[0m     corpus_iterable\u001b[39m=\u001b[39mskills_jds,\n\u001b[0;32m     <a href='vscode-notebook-cell:/d%3A/middle-intern-tma/word2vec.ipynb#X22sZmlsZQ%3D%3D?line=38'>39</a>\u001b[0m     total_words \u001b[39m=\u001b[39m model\u001b[39m.\u001b[39mcorpus_total_words,\n\u001b[0;32m     <a href='vscode-notebook-cell:/d%3A/middle-intern-tma/word2vec.ipynb#X22sZmlsZQ%3D%3D?line=39'>40</a>\u001b[0m     total_examples\u001b[39m=\u001b[39m\u001b[39mlen\u001b[39m(skills_jds),\n\u001b[0;32m     <a href='vscode-notebook-cell:/d%3A/middle-intern-tma/word2vec.ipynb#X22sZmlsZQ%3D%3D?line=40'>41</a>\u001b[0m     epochs\u001b[39m=\u001b[39mmodel\u001b[39m.\u001b[39mepochs\n\u001b[0;32m     <a href='vscode-notebook-cell:/d%3A/middle-intern-tma/word2vec.ipynb#X22sZmlsZQ%3D%3D?line=41'>42</a>\u001b[0m )\n\u001b[1;32m---> <a href='vscode-notebook-cell:/d%3A/middle-intern-tma/word2vec.ipynb#X22sZmlsZQ%3D%3D?line=43'>44</a>\u001b[0m pre_accuaracy \u001b[39m=\u001b[39m calculate_acc(model)\n\u001b[0;32m     <a href='vscode-notebook-cell:/d%3A/middle-intern-tma/word2vec.ipynb#X22sZmlsZQ%3D%3D?line=44'>45</a>\u001b[0m \u001b[39mprint\u001b[39m(\u001b[39mf\u001b[39m\u001b[39m'\u001b[39m\u001b[39mEpoch \u001b[39m\u001b[39m{\u001b[39;00m\u001b[39m1\u001b[39m\u001b[39m}\u001b[39;00m\u001b[39m/\u001b[39m\u001b[39m{\u001b[39;00mepochs\u001b[39m}\u001b[39;00m\u001b[39m - Accuaracy: \u001b[39m\u001b[39m{\u001b[39;00mpre_accuaracy\u001b[39m}\u001b[39;00m\u001b[39m'\u001b[39m)\n\u001b[0;32m     <a href='vscode-notebook-cell:/d%3A/middle-intern-tma/word2vec.ipynb#X22sZmlsZQ%3D%3D?line=46'>47</a>\u001b[0m threshold \u001b[39m=\u001b[39m \u001b[39m0.01\u001b[39m\n",
      "\u001b[1;32md:\\middle-intern-tma\\word2vec.ipynb Cell 17\u001b[0m line \u001b[0;36m6\n\u001b[0;32m      <a href='vscode-notebook-cell:/d%3A/middle-intern-tma/word2vec.ipynb#X22sZmlsZQ%3D%3D?line=2'>3</a>\u001b[0m \u001b[39mdef\u001b[39;00m \u001b[39mcalculate_acc\u001b[39m(model):\n\u001b[0;32m      <a href='vscode-notebook-cell:/d%3A/middle-intern-tma/word2vec.ipynb#X22sZmlsZQ%3D%3D?line=3'>4</a>\u001b[0m   \u001b[39m#pick random 200 skills in valid data\u001b[39;00m\n\u001b[1;32m----> <a href='vscode-notebook-cell:/d%3A/middle-intern-tma/word2vec.ipynb#X22sZmlsZQ%3D%3D?line=5'>6</a>\u001b[0m   prediction \u001b[39m=\u001b[39m model_prediction(model, valid_data\u001b[39m.\u001b[39;49mkeys())\n\u001b[0;32m      <a href='vscode-notebook-cell:/d%3A/middle-intern-tma/word2vec.ipynb#X22sZmlsZQ%3D%3D?line=7'>8</a>\u001b[0m   accuracy \u001b[39m=\u001b[39m valid_skill(prediction, valid_data)\n\u001b[0;32m     <a href='vscode-notebook-cell:/d%3A/middle-intern-tma/word2vec.ipynb#X22sZmlsZQ%3D%3D?line=10'>11</a>\u001b[0m   \u001b[39mreturn\u001b[39;00m accuracy\n",
      "\u001b[1;32md:\\middle-intern-tma\\word2vec.ipynb Cell 17\u001b[0m line \u001b[0;36m4\n\u001b[0;32m      <a href='vscode-notebook-cell:/d%3A/middle-intern-tma/word2vec.ipynb#X22sZmlsZQ%3D%3D?line=1'>2</a>\u001b[0m result \u001b[39m=\u001b[39m {}\n\u001b[0;32m      <a href='vscode-notebook-cell:/d%3A/middle-intern-tma/word2vec.ipynb#X22sZmlsZQ%3D%3D?line=2'>3</a>\u001b[0m \u001b[39mfor\u001b[39;00m skill \u001b[39min\u001b[39;00m skills:\n\u001b[1;32m----> <a href='vscode-notebook-cell:/d%3A/middle-intern-tma/word2vec.ipynb#X22sZmlsZQ%3D%3D?line=3'>4</a>\u001b[0m     topn_skills \u001b[39m=\u001b[39m [skill[\u001b[39m0\u001b[39m] \u001b[39mfor\u001b[39;00m skill \u001b[39min\u001b[39;00m model\u001b[39m.\u001b[39;49mwv\u001b[39m.\u001b[39;49mmost_similar(skill, topn\u001b[39m=\u001b[39;49mtopn)]\n\u001b[0;32m      <a href='vscode-notebook-cell:/d%3A/middle-intern-tma/word2vec.ipynb#X22sZmlsZQ%3D%3D?line=5'>6</a>\u001b[0m     result[skill] \u001b[39m=\u001b[39m topn_skills\n\u001b[0;32m      <a href='vscode-notebook-cell:/d%3A/middle-intern-tma/word2vec.ipynb#X22sZmlsZQ%3D%3D?line=7'>8</a>\u001b[0m \u001b[39mreturn\u001b[39;00m result\n",
      "File \u001b[1;32mc:\\Users\\intern.nccuong3\\AppData\\Local\\Programs\\Python\\Python311\\Lib\\site-packages\\gensim\\models\\keyedvectors.py:841\u001b[0m, in \u001b[0;36mKeyedVectors.most_similar\u001b[1;34m(self, positive, negative, topn, clip_start, clip_end, restrict_vocab, indexer)\u001b[0m\n\u001b[0;32m    838\u001b[0m         weight[idx] \u001b[39m=\u001b[39m item[\u001b[39m1\u001b[39m]\n\u001b[0;32m    840\u001b[0m \u001b[39m# compute the weighted average of all keys\u001b[39;00m\n\u001b[1;32m--> 841\u001b[0m mean \u001b[39m=\u001b[39m \u001b[39mself\u001b[39;49m\u001b[39m.\u001b[39;49mget_mean_vector(keys, weight, pre_normalize\u001b[39m=\u001b[39;49m\u001b[39mTrue\u001b[39;49;00m, post_normalize\u001b[39m=\u001b[39;49m\u001b[39mTrue\u001b[39;49;00m, ignore_missing\u001b[39m=\u001b[39;49m\u001b[39mFalse\u001b[39;49;00m)\n\u001b[0;32m    842\u001b[0m all_keys \u001b[39m=\u001b[39m [\n\u001b[0;32m    843\u001b[0m     \u001b[39mself\u001b[39m\u001b[39m.\u001b[39mget_index(key) \u001b[39mfor\u001b[39;00m key \u001b[39min\u001b[39;00m keys \u001b[39mif\u001b[39;00m \u001b[39misinstance\u001b[39m(key, _KEY_TYPES) \u001b[39mand\u001b[39;00m \u001b[39mself\u001b[39m\u001b[39m.\u001b[39mhas_index_for(key)\n\u001b[0;32m    844\u001b[0m ]\n\u001b[0;32m    846\u001b[0m \u001b[39mif\u001b[39;00m indexer \u001b[39mis\u001b[39;00m \u001b[39mnot\u001b[39;00m \u001b[39mNone\u001b[39;00m \u001b[39mand\u001b[39;00m \u001b[39misinstance\u001b[39m(topn, \u001b[39mint\u001b[39m):\n",
      "File \u001b[1;32mc:\\Users\\intern.nccuong3\\AppData\\Local\\Programs\\Python\\Python311\\Lib\\site-packages\\gensim\\models\\keyedvectors.py:518\u001b[0m, in \u001b[0;36mKeyedVectors.get_mean_vector\u001b[1;34m(self, keys, weights, pre_normalize, post_normalize, ignore_missing)\u001b[0m\n\u001b[0;32m    516\u001b[0m         total_weight \u001b[39m+\u001b[39m\u001b[39m=\u001b[39m \u001b[39mabs\u001b[39m(weights[idx])\n\u001b[0;32m    517\u001b[0m     \u001b[39melif\u001b[39;00m \u001b[39mnot\u001b[39;00m ignore_missing:\n\u001b[1;32m--> 518\u001b[0m         \u001b[39mraise\u001b[39;00m \u001b[39mKeyError\u001b[39;00m(\u001b[39mf\u001b[39m\u001b[39m\"\u001b[39m\u001b[39mKey \u001b[39m\u001b[39m'\u001b[39m\u001b[39m{\u001b[39;00mkey\u001b[39m}\u001b[39;00m\u001b[39m'\u001b[39m\u001b[39m not present in vocabulary\u001b[39m\u001b[39m\"\u001b[39m)\n\u001b[0;32m    520\u001b[0m \u001b[39mif\u001b[39;00m total_weight \u001b[39m>\u001b[39m \u001b[39m0\u001b[39m:\n\u001b[0;32m    521\u001b[0m     mean \u001b[39m=\u001b[39m mean \u001b[39m/\u001b[39m total_weight\n",
      "\u001b[1;31mKeyError\u001b[0m: \"Key 'gulp' not present in vocabulary\""
     ]
    }
   ],
   "source": [
    "models = grid_search('word2vecmodel_3', total_skills_jds)"
   ]
  },
  {
   "cell_type": "markdown",
   "metadata": {},
   "source": [
    "# Test model"
   ]
  },
  {
   "cell_type": "code",
   "execution_count": 6,
   "metadata": {},
   "outputs": [
    {
     "data": {
      "text/plain": [
       "[('sap', 0.686120867729187),\n",
       " ('plant construction', 0.680181622505188),\n",
       " ('genomics', 0.6622642278671265),\n",
       " ('snowflake', 0.6429843306541443),\n",
       " ('scrum', 0.6354222297668457),\n",
       " ('obstetrics', 0.6297516822814941),\n",
       " ('mathematics', 0.6162903308868408),\n",
       " ('business intelligence', 0.5987536311149597),\n",
       " ('splunk', 0.5981040596961975),\n",
       " ('olap', 0.5967950820922852)]"
      ]
     },
     "execution_count": 6,
     "metadata": {},
     "output_type": "execute_result"
    }
   ],
   "source": [
    "vector = model.wv['html']  # get numpy vector of a word\n",
    "sims = model.wv.most_similar('hive', topn=10)  # get other similar words\n",
    "sims"
   ]
  },
  {
   "cell_type": "markdown",
   "metadata": {},
   "source": [
    "# End"
   ]
  }
 ],
 "metadata": {
  "kernelspec": {
   "display_name": "Python 3",
   "language": "python",
   "name": "python3"
  },
  "language_info": {
   "codemirror_mode": {
    "name": "ipython",
    "version": 3
   },
   "file_extension": ".py",
   "mimetype": "text/x-python",
   "name": "python",
   "nbconvert_exporter": "python",
   "pygments_lexer": "ipython3",
   "version": "3.11.5"
  },
  "orig_nbformat": 4
 },
 "nbformat": 4,
 "nbformat_minor": 2
}
