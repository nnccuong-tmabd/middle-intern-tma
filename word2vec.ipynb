{
 "cells": [
  {
   "cell_type": "code",
   "execution_count": 1,
   "metadata": {},
   "outputs": [],
   "source": [
    "from gensim.models.phrases import Phrases, Phraser\n",
    "from gensim.models.word2vec import Word2Vec"
   ]
  },
  {
   "cell_type": "markdown",
   "metadata": {},
   "source": [
    "# Data"
   ]
  },
  {
   "cell_type": "code",
   "execution_count": 2,
   "metadata": {},
   "outputs": [],
   "source": [
    "import json\n",
    "\n",
    "# read file json data_skill_tensor.json\n",
    "\n",
    "with open('data//train/data_skill_tensor.json', 'r') as f:\n",
    "    data = json.load(f)\n",
    "\n",
    "f.close()\n",
    "\n",
    "data_skill = [job['skills'] for job in data]"
   ]
  },
  {
   "cell_type": "code",
   "execution_count": 3,
   "metadata": {},
   "outputs": [],
   "source": [
    "# load IT skill JDs\n",
    "def load_data_skill(filename):\n",
    "    with open(filename, 'r') as f:\n",
    "        data = json.load(f)\n",
    "\n",
    "    f.close()\n",
    "    \n",
    "    return list(data.values())\n",
    "\n",
    "skill1 = load_data_skill('data//train/IT_skill_JDs_p1.json')\n",
    "skill2 = load_data_skill('data/train/IT_skill_JDs_p1.json')"
   ]
  },
  {
   "cell_type": "code",
   "execution_count": 4,
   "metadata": {},
   "outputs": [],
   "source": [
    "def nomalize_skill(skill):\n",
    "    for i in range(len(skill)):\n",
    "        skill[i] = [item.lower() for item in skill[i]]\n",
    "    \n",
    "    return skill\n",
    "\n",
    "data_skill = nomalize_skill(data_skill)\n",
    "skill1 = nomalize_skill(skill1)\n",
    "skill2 = nomalize_skill(skill2)"
   ]
  },
  {
   "cell_type": "code",
   "execution_count": 5,
   "metadata": {},
   "outputs": [],
   "source": [
    "# concate three list\n",
    "total_skill_jbs = data_skill + skill1 + skill2"
   ]
  },
  {
   "cell_type": "markdown",
   "metadata": {},
   "source": [
    "# Data Agumentation"
   ]
  },
  {
   "cell_type": "code",
   "execution_count": 6,
   "metadata": {},
   "outputs": [],
   "source": [
    "import random\n",
    "import numpy as np\n",
    "\n",
    "def shuffle_data(skills, discard=0):\n",
    "    # Make a copy of the input list to avoid modifying the original list\n",
    "    shuffled_skills = skills.copy()\n",
    "    \n",
    "    # Shuffle the copy of the list in place\n",
    "    random.shuffle(shuffled_skills)\n",
    "    \n",
    "    return shuffled_skills\n",
    "\n",
    "def cutout_data(skills, mask_size=5):\n",
    "\n",
    "    cutout_skills = skills.copy()\n",
    "    \n",
    "    mask_size = min(mask_size, len(cutout_skills))\n",
    "    \n",
    "    cutout_index = random.sample(range(len(skills)), mask_size)\n",
    "    \n",
    "    for idx in cutout_index:\n",
    "        cutout_skills[idx] = ''\n",
    "        \n",
    "\n",
    "    cutout_skills = [x for x in cutout_skills if x != '']\n",
    "    \n",
    "    return cutout_skills\n"
   ]
  },
  {
   "cell_type": "code",
   "execution_count": 7,
   "metadata": {},
   "outputs": [],
   "source": [
    "def create_new_data(total_skills, func, num_samples=2100):\n",
    "\n",
    "    if num_samples > len(total_skills):\n",
    "        num_samples = len(total_skills) \n",
    "\n",
    "    skills_augmentation_collection = []\n",
    "    # pick random sample in skills jbs\n",
    "    random_indexs = random.sample(range(len(total_skills)), num_samples)\n",
    "    for index in random_indexs:\n",
    "        mask_size = 0\n",
    "        if func.__name__ == 'cutout_data':\n",
    "            mask_size = random.randint(0, int(len(total_skills[index])/2))\n",
    "\n",
    "        skills_augmentation_collection.append(func(total_skills[index], mask_size))\n",
    "\n",
    "    return skills_augmentation_collection"
   ]
  },
  {
   "cell_type": "code",
   "execution_count": 8,
   "metadata": {},
   "outputs": [],
   "source": [
    "skill1_augmentation = create_new_data(skill1, cutout_data) + create_new_data(skill1, shuffle_data)\n",
    "skill2_augmentation = create_new_data(skill2, cutout_data) + create_new_data(skill2, shuffle_data)\n",
    "total_skill_jbs += skill1_augmentation + skill2_augmentation"
   ]
  },
  {
   "cell_type": "code",
   "execution_count": 9,
   "metadata": {},
   "outputs": [],
   "source": [
    "total_augmentation = create_new_data(total_skill_jbs, cutout_data, len(total_skill_jbs)) + create_new_data(total_skill_jbs, shuffle_data, len(total_skill_jbs))\n",
    "total_skill_jbs += total_augmentation"
   ]
  },
  {
   "cell_type": "code",
   "execution_count": 10,
   "metadata": {},
   "outputs": [
    {
     "name": "stdout",
     "output_type": "stream",
     "text": [
      "Saved JSON data to data/jbs_skill_augmentations.json\n"
     ]
    }
   ],
   "source": [
    "import json\n",
    "\n",
    "# Specify the file path where you want to save the JSON data\n",
    "file_path = 'data/jbs_skill_augmentations.json'\n",
    "\n",
    "# Open the file for writing and save the data as JSON\n",
    "with open(file_path, 'w') as json_file:\n",
    "    json.dump(total_skill_jbs, json_file, indent=4)\n",
    "\n",
    "print(f'Saved JSON data to {file_path}')\n"
   ]
  },
  {
   "cell_type": "markdown",
   "metadata": {},
   "source": [
    "# Valid Function"
   ]
  },
  {
   "cell_type": "code",
   "execution_count": 11,
   "metadata": {},
   "outputs": [],
   "source": [
    "def model_prediction(model, skills, topn=5):\n",
    "    result = {}\n",
    "    for skill in skills:\n",
    "        topn_skills = [skill[0] for skill in model.wv.most_similar(skill, topn=topn)]\n",
    "\n",
    "        result[skill] = topn_skills\n",
    "\n",
    "    return result\n",
    "\n",
    "def valid_skill(prediction, valid_data, total_skills=None): # prediction: dict, valid_data: dict\n",
    "    count = 0\n",
    "    for skill in prediction.keys():\n",
    "        for rlv_skill in prediction[skill]:\n",
    "            if rlv_skill in valid_data[skill]:\n",
    "                count += 1\n",
    "    \n",
    "    # find the number of skill in valid data\n",
    "    if total_skills is None:\n",
    "        total_skills = 0\n",
    "        for skill in valid_data.keys():\n",
    "            total_skills += len(valid_data[skill])\n",
    "    \n",
    "    return count/total_skills\n"
   ]
  },
  {
   "cell_type": "markdown",
   "metadata": {},
   "source": [
    "# Model training"
   ]
  },
  {
   "cell_type": "code",
   "execution_count": 14,
   "metadata": {},
   "outputs": [],
   "source": [
    "# # Define hyperparameters\n",
    "# vector_size = 100  # Can adjust this to your desired vector size\n",
    "# window_size = 5    # Context window size\n",
    "# min_count = 3      # Minimum word frequency\n",
    "# sg = 1             # Skip-gram model (1 for skip-gram, 0 for CBOW)\n",
    "# hs = 0                # Using negative sampling (1 for HS, 0 for negative sampling)\n",
    "# ns_exponent = 0.75    # The exponent used to shape the negative sampling distribution (0 for unigram, 1 for uniform)\n",
    "# batch_words = 100     # Number of words for each training batch\n",
    "# min_n = 2             # Minimum character n-gram length\n",
    "# max_n = 5             # Maximum character n-gram length\n",
    "# bucket = 2000000      # Character n-grams are hashed into a fixed number of buckets, in order to limit the memory usage of the model. This option specifies the number of buckets used by the model\n",
    "# shrink_windows = True # Whether to shrink the window size as training goes on. This usually improves the accuracy of word vectors\n",
    "# alpha = 0.1           # The initial learning rate\n",
    "\n",
    "# workers = 2           # Number of worker threads to train the model\n",
    "# epochs = 100          # Number of epochs to train the model"
   ]
  },
  {
   "cell_type": "code",
   "execution_count": 28,
   "metadata": {},
   "outputs": [
    {
     "name": "stdout",
     "output_type": "stream",
     "text": [
      "Total number of hyperparameter combinations: 768\n"
     ]
    }
   ],
   "source": [
    "import itertools\n",
    "\n",
    "# create hyperparameter for training fasttext model and use grid search to find best hyperparameter\n",
    "# Define hyperparameters\n",
    "vector_size = [100, 200]  # Can adjust this to your desired vector size\n",
    "window_size = [5, 7]    # Context window size\n",
    "min_count = [3, 4, 5]      # Minimum word frequency\n",
    "sg = [1, 0]             # Skip-gram model (1 for skip-gram, 0 for CBOW)\n",
    "hs = [0, 1]                # Using negative sampling (1 for HS, 0 for negative sampling)\n",
    "ns_exponent = [0.75, 1]    # The exponent used to shape the negative sampling distribution (0 for unigram, 1 for uniform)\n",
    "batch_words = [100, 200]     # Number of words for each training batch\n",
    "# bucket = [2000000, 3000000]      # Character n-grams are hashed into a fixed number of buckets, in order to limit the memory usage of the model. This option specifies the number of buckets used by the model\n",
    "shrink_windows = [True, False] # Whether to shrink the window size as training goes on. This usually improves the accuracy of word vectors\n",
    "alpha = [0.1, 0.2]           # The initial learning rate\n",
    "\n",
    "workers = [2]           # Number of worker threads to train the model\n",
    "epochs = [200]          # Number of epochs to train the model\n",
    "\n",
    "# Create combinations of hyperparameters\n",
    "hyperparameter_combinations = list(itertools.product(vector_size, window_size, min_count, sg, hs, ns_exponent, batch_words, shrink_windows, alpha, workers, epochs))\n",
    "\n",
    "# Print the total number of combinations\n",
    "print(f\"Total number of hyperparameter combinations: {len(hyperparameter_combinations)}\")"
   ]
  },
  {
   "cell_type": "code",
   "execution_count": 33,
   "metadata": {},
   "outputs": [],
   "source": [
    "# function train model fasttext\n",
    "def train_word2vec(skills_jbs,\n",
    "                   vector_size=100,\n",
    "                   window_size=5,\n",
    "                   min_count=3,\n",
    "                   sg=1,\n",
    "                   hs=0,\n",
    "                   ns_exponent=0.75,\n",
    "                   batch_words=100,\n",
    "                   shrink_windows=True,\n",
    "                   alpha=0.025,\n",
    "                   workers=2,\n",
    "                   epochs=100):\n",
    "\n",
    "    # Initialize and train the FastText model\n",
    "    model = Word2Vec(\n",
    "        vector_size=vector_size,\n",
    "        window=window_size,\n",
    "        min_count=min_count,\n",
    "        sg=sg,\n",
    "        hs=hs,\n",
    "        alpha=alpha,\n",
    "        ns_exponent=ns_exponent,\n",
    "        batch_words=batch_words,\n",
    "        shrink_windows=shrink_windows,\n",
    "        workers=workers,\n",
    "        epochs=epochs\n",
    "    )\n",
    "\n",
    "    model.build_vocab(corpus_iterable=skills_jbs)\n",
    "\n",
    "    model.train(\n",
    "        corpus_iterable=skills_jbs,\n",
    "        total_words = model.corpus_total_words,\n",
    "        total_examples=len(skills_jbs),\n",
    "        epochs=model.epochs,\n",
    "        \n",
    "    )\n",
    "\n",
    "    return model"
   ]
  },
  {
   "cell_type": "markdown",
   "metadata": {},
   "source": [
    "## Grid search"
   ]
  },
  {
   "cell_type": "code",
   "execution_count": 23,
   "metadata": {},
   "outputs": [
    {
     "name": "stdout",
     "output_type": "stream",
     "text": [
      "Total valid skill: 1007\n"
     ]
    }
   ],
   "source": [
    "# valid data\n",
    "valid_data_path = 'data/valid/top_200_valid_automation.json'\n",
    "with open(valid_data_path, 'r') as f:\n",
    "    valid_data = json.load(f)\n",
    "\n",
    "f.close()\n",
    "\n",
    "# total valid skill\n",
    "total_valid_skill = 0\n",
    "for skill in valid_data.keys():\n",
    "    total_valid_skill += len(valid_data[skill])\n",
    "\n",
    "print(f'Total valid skill: {total_valid_skill}')"
   ]
  },
  {
   "cell_type": "code",
   "execution_count": 34,
   "metadata": {},
   "outputs": [],
   "source": [
    "model_path = 'word2vecmodel/'"
   ]
  },
  {
   "cell_type": "code",
   "execution_count": 35,
   "metadata": {},
   "outputs": [
    {
     "name": "stdout",
     "output_type": "stream",
     "text": [
      "Training model with parameters: (100, 5, 3, 1, 0, 0.75, 100, True, 0.1, 2, 200)\n"
     ]
    },
    {
     "name": "stdout",
     "output_type": "stream",
     "text": [
      "Accuracy: 0.17974180734856007\n",
      "Training model with parameters: (100, 5, 3, 1, 0, 0.75, 100, True, 0.2, 2, 200)\n",
      "Accuracy: 0.0407149950347567\n",
      "Training model with parameters: (100, 5, 3, 1, 0, 0.75, 100, False, 0.1, 2, 200)\n",
      "Accuracy: 0.18669314796425024\n",
      "Training model with parameters: (100, 5, 3, 1, 0, 0.75, 100, False, 0.2, 2, 200)\n",
      "Accuracy: 0.010923535253227408\n",
      "Training model with parameters: (100, 5, 3, 1, 0, 0.75, 200, True, 0.1, 2, 200)\n",
      "Accuracy: 0.1708043694141013\n",
      "Training model with parameters: (100, 5, 3, 1, 0, 0.75, 200, True, 0.2, 2, 200)\n"
     ]
    },
    {
     "ename": "KeyboardInterrupt",
     "evalue": "",
     "output_type": "error",
     "traceback": [
      "\u001b[1;31m---------------------------------------------------------------------------\u001b[0m",
      "\u001b[1;31mKeyboardInterrupt\u001b[0m                         Traceback (most recent call last)",
      "\u001b[1;32md:\\middle-intern-tma\\word2vec.ipynb Cell 22\u001b[0m line \u001b[0;36m7\n\u001b[0;32m      <a href='vscode-notebook-cell:/d%3A/middle-intern-tma/word2vec.ipynb#X30sZmlsZQ%3D%3D?line=4'>5</a>\u001b[0m \u001b[39mfor\u001b[39;00m idx, parameters \u001b[39min\u001b[39;00m \u001b[39menumerate\u001b[39m(hyperparameter_combinations):\n\u001b[0;32m      <a href='vscode-notebook-cell:/d%3A/middle-intern-tma/word2vec.ipynb#X30sZmlsZQ%3D%3D?line=5'>6</a>\u001b[0m     \u001b[39mprint\u001b[39m(\u001b[39mf\u001b[39m\u001b[39m\"\u001b[39m\u001b[39mTraining model with parameters: \u001b[39m\u001b[39m{\u001b[39;00mparameters\u001b[39m}\u001b[39;00m\u001b[39m\"\u001b[39m)\n\u001b[1;32m----> <a href='vscode-notebook-cell:/d%3A/middle-intern-tma/word2vec.ipynb#X30sZmlsZQ%3D%3D?line=6'>7</a>\u001b[0m     model \u001b[39m=\u001b[39m train_word2vec(total_skill_jbs, parameters[\u001b[39m0\u001b[39;49m], parameters[\u001b[39m1\u001b[39;49m], parameters[\u001b[39m2\u001b[39;49m],\n\u001b[0;32m      <a href='vscode-notebook-cell:/d%3A/middle-intern-tma/word2vec.ipynb#X30sZmlsZQ%3D%3D?line=7'>8</a>\u001b[0m                    parameters[\u001b[39m3\u001b[39;49m], parameters[\u001b[39m4\u001b[39;49m], parameters[\u001b[39m5\u001b[39;49m],\n\u001b[0;32m      <a href='vscode-notebook-cell:/d%3A/middle-intern-tma/word2vec.ipynb#X30sZmlsZQ%3D%3D?line=8'>9</a>\u001b[0m                    parameters[\u001b[39m6\u001b[39;49m], parameters[\u001b[39m7\u001b[39;49m], parameters[\u001b[39m8\u001b[39;49m],\n\u001b[0;32m     <a href='vscode-notebook-cell:/d%3A/middle-intern-tma/word2vec.ipynb#X30sZmlsZQ%3D%3D?line=9'>10</a>\u001b[0m                    parameters[\u001b[39m9\u001b[39;49m], parameters[\u001b[39m10\u001b[39;49m],\n\u001b[0;32m     <a href='vscode-notebook-cell:/d%3A/middle-intern-tma/word2vec.ipynb#X30sZmlsZQ%3D%3D?line=10'>11</a>\u001b[0m                    )\n\u001b[0;32m     <a href='vscode-notebook-cell:/d%3A/middle-intern-tma/word2vec.ipynb#X30sZmlsZQ%3D%3D?line=11'>12</a>\u001b[0m     fasttext_models\u001b[39m.\u001b[39mappend(model)\n\u001b[0;32m     <a href='vscode-notebook-cell:/d%3A/middle-intern-tma/word2vec.ipynb#X30sZmlsZQ%3D%3D?line=13'>14</a>\u001b[0m     \u001b[39m# valid model\u001b[39;00m\n",
      "\u001b[1;32md:\\middle-intern-tma\\word2vec.ipynb Cell 22\u001b[0m line \u001b[0;36m3\n\u001b[0;32m     <a href='vscode-notebook-cell:/d%3A/middle-intern-tma/word2vec.ipynb#X30sZmlsZQ%3D%3D?line=15'>16</a>\u001b[0m model \u001b[39m=\u001b[39m Word2Vec(\n\u001b[0;32m     <a href='vscode-notebook-cell:/d%3A/middle-intern-tma/word2vec.ipynb#X30sZmlsZQ%3D%3D?line=16'>17</a>\u001b[0m     vector_size\u001b[39m=\u001b[39mvector_size,\n\u001b[0;32m     <a href='vscode-notebook-cell:/d%3A/middle-intern-tma/word2vec.ipynb#X30sZmlsZQ%3D%3D?line=17'>18</a>\u001b[0m     window\u001b[39m=\u001b[39mwindow_size,\n\u001b[1;32m   (...)\u001b[0m\n\u001b[0;32m     <a href='vscode-notebook-cell:/d%3A/middle-intern-tma/word2vec.ipynb#X30sZmlsZQ%3D%3D?line=26'>27</a>\u001b[0m     epochs\u001b[39m=\u001b[39mepochs\n\u001b[0;32m     <a href='vscode-notebook-cell:/d%3A/middle-intern-tma/word2vec.ipynb#X30sZmlsZQ%3D%3D?line=27'>28</a>\u001b[0m )\n\u001b[0;32m     <a href='vscode-notebook-cell:/d%3A/middle-intern-tma/word2vec.ipynb#X30sZmlsZQ%3D%3D?line=29'>30</a>\u001b[0m model\u001b[39m.\u001b[39mbuild_vocab(corpus_iterable\u001b[39m=\u001b[39mskills_jbs)\n\u001b[1;32m---> <a href='vscode-notebook-cell:/d%3A/middle-intern-tma/word2vec.ipynb#X30sZmlsZQ%3D%3D?line=31'>32</a>\u001b[0m model\u001b[39m.\u001b[39;49mtrain(\n\u001b[0;32m     <a href='vscode-notebook-cell:/d%3A/middle-intern-tma/word2vec.ipynb#X30sZmlsZQ%3D%3D?line=32'>33</a>\u001b[0m     corpus_iterable\u001b[39m=\u001b[39;49mskills_jbs,\n\u001b[0;32m     <a href='vscode-notebook-cell:/d%3A/middle-intern-tma/word2vec.ipynb#X30sZmlsZQ%3D%3D?line=33'>34</a>\u001b[0m     total_words \u001b[39m=\u001b[39;49m model\u001b[39m.\u001b[39;49mcorpus_total_words,\n\u001b[0;32m     <a href='vscode-notebook-cell:/d%3A/middle-intern-tma/word2vec.ipynb#X30sZmlsZQ%3D%3D?line=34'>35</a>\u001b[0m     total_examples\u001b[39m=\u001b[39;49m\u001b[39mlen\u001b[39;49m(skills_jbs),\n\u001b[0;32m     <a href='vscode-notebook-cell:/d%3A/middle-intern-tma/word2vec.ipynb#X30sZmlsZQ%3D%3D?line=35'>36</a>\u001b[0m     epochs\u001b[39m=\u001b[39;49mmodel\u001b[39m.\u001b[39;49mepochs,\n\u001b[0;32m     <a href='vscode-notebook-cell:/d%3A/middle-intern-tma/word2vec.ipynb#X30sZmlsZQ%3D%3D?line=36'>37</a>\u001b[0m     \n\u001b[0;32m     <a href='vscode-notebook-cell:/d%3A/middle-intern-tma/word2vec.ipynb#X30sZmlsZQ%3D%3D?line=37'>38</a>\u001b[0m )\n\u001b[0;32m     <a href='vscode-notebook-cell:/d%3A/middle-intern-tma/word2vec.ipynb#X30sZmlsZQ%3D%3D?line=39'>40</a>\u001b[0m \u001b[39mreturn\u001b[39;00m model\n",
      "File \u001b[1;32mc:\\Users\\intern.nccuong3\\AppData\\Local\\Programs\\Python\\Python311\\Lib\\site-packages\\gensim\\models\\word2vec.py:1073\u001b[0m, in \u001b[0;36mWord2Vec.train\u001b[1;34m(self, corpus_iterable, corpus_file, total_examples, total_words, epochs, start_alpha, end_alpha, word_count, queue_factor, report_delay, compute_loss, callbacks, **kwargs)\u001b[0m\n\u001b[0;32m   1070\u001b[0m     callback\u001b[39m.\u001b[39mon_epoch_begin(\u001b[39mself\u001b[39m)\n\u001b[0;32m   1072\u001b[0m \u001b[39mif\u001b[39;00m corpus_iterable \u001b[39mis\u001b[39;00m \u001b[39mnot\u001b[39;00m \u001b[39mNone\u001b[39;00m:\n\u001b[1;32m-> 1073\u001b[0m     trained_word_count_epoch, raw_word_count_epoch, job_tally_epoch \u001b[39m=\u001b[39m \u001b[39mself\u001b[39;49m\u001b[39m.\u001b[39;49m_train_epoch(\n\u001b[0;32m   1074\u001b[0m         corpus_iterable, cur_epoch\u001b[39m=\u001b[39;49mcur_epoch, total_examples\u001b[39m=\u001b[39;49mtotal_examples,\n\u001b[0;32m   1075\u001b[0m         total_words\u001b[39m=\u001b[39;49mtotal_words, queue_factor\u001b[39m=\u001b[39;49mqueue_factor, report_delay\u001b[39m=\u001b[39;49mreport_delay,\n\u001b[0;32m   1076\u001b[0m         callbacks\u001b[39m=\u001b[39;49mcallbacks, \u001b[39m*\u001b[39;49m\u001b[39m*\u001b[39;49mkwargs)\n\u001b[0;32m   1077\u001b[0m \u001b[39melse\u001b[39;00m:\n\u001b[0;32m   1078\u001b[0m     trained_word_count_epoch, raw_word_count_epoch, job_tally_epoch \u001b[39m=\u001b[39m \u001b[39mself\u001b[39m\u001b[39m.\u001b[39m_train_epoch_corpusfile(\n\u001b[0;32m   1079\u001b[0m         corpus_file, cur_epoch\u001b[39m=\u001b[39mcur_epoch, total_examples\u001b[39m=\u001b[39mtotal_examples, total_words\u001b[39m=\u001b[39mtotal_words,\n\u001b[0;32m   1080\u001b[0m         callbacks\u001b[39m=\u001b[39mcallbacks, \u001b[39m*\u001b[39m\u001b[39m*\u001b[39mkwargs)\n",
      "File \u001b[1;32mc:\\Users\\intern.nccuong3\\AppData\\Local\\Programs\\Python\\Python311\\Lib\\site-packages\\gensim\\models\\word2vec.py:1434\u001b[0m, in \u001b[0;36mWord2Vec._train_epoch\u001b[1;34m(self, data_iterable, cur_epoch, total_examples, total_words, queue_factor, report_delay, callbacks)\u001b[0m\n\u001b[0;32m   1431\u001b[0m     thread\u001b[39m.\u001b[39mdaemon \u001b[39m=\u001b[39m \u001b[39mTrue\u001b[39;00m  \u001b[39m# make interrupting the process with ctrl+c easier\u001b[39;00m\n\u001b[0;32m   1432\u001b[0m     thread\u001b[39m.\u001b[39mstart()\n\u001b[1;32m-> 1434\u001b[0m trained_word_count, raw_word_count, job_tally \u001b[39m=\u001b[39m \u001b[39mself\u001b[39;49m\u001b[39m.\u001b[39;49m_log_epoch_progress(\n\u001b[0;32m   1435\u001b[0m     progress_queue, job_queue, cur_epoch\u001b[39m=\u001b[39;49mcur_epoch, total_examples\u001b[39m=\u001b[39;49mtotal_examples,\n\u001b[0;32m   1436\u001b[0m     total_words\u001b[39m=\u001b[39;49mtotal_words, report_delay\u001b[39m=\u001b[39;49mreport_delay, is_corpus_file_mode\u001b[39m=\u001b[39;49m\u001b[39mFalse\u001b[39;49;00m,\n\u001b[0;32m   1437\u001b[0m )\n\u001b[0;32m   1439\u001b[0m \u001b[39mreturn\u001b[39;00m trained_word_count, raw_word_count, job_tally\n",
      "File \u001b[1;32mc:\\Users\\intern.nccuong3\\AppData\\Local\\Programs\\Python\\Python311\\Lib\\site-packages\\gensim\\models\\word2vec.py:1289\u001b[0m, in \u001b[0;36mWord2Vec._log_epoch_progress\u001b[1;34m(self, progress_queue, job_queue, cur_epoch, total_examples, total_words, report_delay, is_corpus_file_mode)\u001b[0m\n\u001b[0;32m   1286\u001b[0m unfinished_worker_count \u001b[39m=\u001b[39m \u001b[39mself\u001b[39m\u001b[39m.\u001b[39mworkers\n\u001b[0;32m   1288\u001b[0m \u001b[39mwhile\u001b[39;00m unfinished_worker_count \u001b[39m>\u001b[39m \u001b[39m0\u001b[39m:\n\u001b[1;32m-> 1289\u001b[0m     report \u001b[39m=\u001b[39m progress_queue\u001b[39m.\u001b[39;49mget()  \u001b[39m# blocks if workers too slow\u001b[39;00m\n\u001b[0;32m   1290\u001b[0m     \u001b[39mif\u001b[39;00m report \u001b[39mis\u001b[39;00m \u001b[39mNone\u001b[39;00m:  \u001b[39m# a thread reporting that it finished\u001b[39;00m\n\u001b[0;32m   1291\u001b[0m         unfinished_worker_count \u001b[39m-\u001b[39m\u001b[39m=\u001b[39m \u001b[39m1\u001b[39m\n",
      "File \u001b[1;32mc:\\Users\\intern.nccuong3\\AppData\\Local\\Programs\\Python\\Python311\\Lib\\queue.py:171\u001b[0m, in \u001b[0;36mQueue.get\u001b[1;34m(self, block, timeout)\u001b[0m\n\u001b[0;32m    169\u001b[0m \u001b[39melif\u001b[39;00m timeout \u001b[39mis\u001b[39;00m \u001b[39mNone\u001b[39;00m:\n\u001b[0;32m    170\u001b[0m     \u001b[39mwhile\u001b[39;00m \u001b[39mnot\u001b[39;00m \u001b[39mself\u001b[39m\u001b[39m.\u001b[39m_qsize():\n\u001b[1;32m--> 171\u001b[0m         \u001b[39mself\u001b[39;49m\u001b[39m.\u001b[39;49mnot_empty\u001b[39m.\u001b[39;49mwait()\n\u001b[0;32m    172\u001b[0m \u001b[39melif\u001b[39;00m timeout \u001b[39m<\u001b[39m \u001b[39m0\u001b[39m:\n\u001b[0;32m    173\u001b[0m     \u001b[39mraise\u001b[39;00m \u001b[39mValueError\u001b[39;00m(\u001b[39m\"\u001b[39m\u001b[39m'\u001b[39m\u001b[39mtimeout\u001b[39m\u001b[39m'\u001b[39m\u001b[39m must be a non-negative number\u001b[39m\u001b[39m\"\u001b[39m)\n",
      "File \u001b[1;32mc:\\Users\\intern.nccuong3\\AppData\\Local\\Programs\\Python\\Python311\\Lib\\threading.py:320\u001b[0m, in \u001b[0;36mCondition.wait\u001b[1;34m(self, timeout)\u001b[0m\n\u001b[0;32m    318\u001b[0m \u001b[39mtry\u001b[39;00m:    \u001b[39m# restore state no matter what (e.g., KeyboardInterrupt)\u001b[39;00m\n\u001b[0;32m    319\u001b[0m     \u001b[39mif\u001b[39;00m timeout \u001b[39mis\u001b[39;00m \u001b[39mNone\u001b[39;00m:\n\u001b[1;32m--> 320\u001b[0m         waiter\u001b[39m.\u001b[39;49macquire()\n\u001b[0;32m    321\u001b[0m         gotit \u001b[39m=\u001b[39m \u001b[39mTrue\u001b[39;00m\n\u001b[0;32m    322\u001b[0m     \u001b[39melse\u001b[39;00m:\n",
      "\u001b[1;31mKeyboardInterrupt\u001b[0m: "
     ]
    }
   ],
   "source": [
    "import os\n",
    "\n",
    "fasttext_models = []\n",
    "accuracy_models = []\n",
    "for idx, parameters in enumerate(hyperparameter_combinations):\n",
    "    print(f\"Training model with parameters: {parameters}\")\n",
    "    model = train_word2vec(total_skill_jbs, parameters[0], parameters[1], parameters[2],\n",
    "                   parameters[3], parameters[4], parameters[5],\n",
    "                   parameters[6], parameters[7], parameters[8],\n",
    "                   parameters[9], parameters[10],\n",
    "                   )\n",
    "    fasttext_models.append(model)\n",
    "\n",
    "    # valid model\n",
    "    prediction = model_prediction(model, valid_data.keys())\n",
    "    \n",
    "    accuracy = valid_skill(prediction, valid_data, total_valid_skill)\n",
    "    accuracy_models.append(accuracy)\n",
    "\n",
    "    print(f'Accuracy: {accuracy}')\n",
    "\n",
    "    # save model\n",
    "    if not os.path.exists(f'{model_path}/{idx}'):\n",
    "        os.makedirs(f'{model_path}/{idx}')\n",
    "\n",
    "    model.save(f'{model_path}/{idx}/fasttext_model.model')\n",
    "\n",
    "    # export model\n",
    "    vocab = model.wv.key_to_index\n",
    "    \n",
    "    with open(f'{model_path}/{idx}/vocab.tsv', \"w\", encoding='utf-8') as f:\n",
    "        # f.write(\"word\\n\")\n",
    "        for word in vocab:\n",
    "            f.write(f\"{word}\\n\")\n",
    "\n",
    "    f.close()\n",
    "\n",
    "    with open(f'{model_path}/{idx}/vectors.tsv', \"w\", encoding='utf-8') as f:\n",
    "        for word in vocab:\n",
    "            vector = \"\\t\".join(str(val) for val in model.wv[word])\n",
    "\n",
    "            f.write(f\"{vector}\\n\")\n",
    "    f.close()\n",
    "\n",
    "    with open(f'{model_path}/{idx}/parameters.txt', 'w', encoding='utf-8') as f:\n",
    "        f.write(str(parameters))\n",
    "    f.close()\n",
    "    \n",
    "\n",
    "# find best model\n",
    "best_model = fasttext_models[np.argmax(accuracy_models)]\n",
    "best_accuracy = max(accuracy_models)\n",
    "\n",
    "# save best model\n",
    "if not os.path.exists(f'{model_path}/best_model'):\n",
    "    os.makedirs(f'{model_path}/best_model')\n",
    "\n",
    "best_model.save(f'{model_path}/best_model/fasttext_model.model')\n",
    "# save best parameter\n",
    "with open(f'{model_path}/best_model/best_parameter.txt', 'w') as f:\n",
    "    f.write(f'Best parameter: {hyperparameter_combinations[np.argmax(accuracy_models)]}\\n')\n",
    "    f.write(f'Best accuracy: {best_accuracy}')\n",
    "    "
   ]
  },
  {
   "cell_type": "markdown",
   "metadata": {},
   "source": [
    "# Test model"
   ]
  },
  {
   "cell_type": "code",
   "execution_count": 6,
   "metadata": {},
   "outputs": [
    {
     "data": {
      "text/plain": [
       "[('sap', 0.686120867729187),\n",
       " ('plant construction', 0.680181622505188),\n",
       " ('genomics', 0.6622642278671265),\n",
       " ('snowflake', 0.6429843306541443),\n",
       " ('scrum', 0.6354222297668457),\n",
       " ('obstetrics', 0.6297516822814941),\n",
       " ('mathematics', 0.6162903308868408),\n",
       " ('business intelligence', 0.5987536311149597),\n",
       " ('splunk', 0.5981040596961975),\n",
       " ('olap', 0.5967950820922852)]"
      ]
     },
     "execution_count": 6,
     "metadata": {},
     "output_type": "execute_result"
    }
   ],
   "source": [
    "vector = model.wv['html']  # get numpy vector of a word\n",
    "sims = model.wv.most_similar('hive', topn=10)  # get other similar words\n",
    "sims"
   ]
  },
  {
   "cell_type": "markdown",
   "metadata": {},
   "source": [
    "# Save model"
   ]
  },
  {
   "cell_type": "code",
   "execution_count": 16,
   "metadata": {},
   "outputs": [],
   "source": [
    "save_folder = 'fastText_newdata/1/'"
   ]
  },
  {
   "cell_type": "code",
   "execution_count": 17,
   "metadata": {},
   "outputs": [
    {
     "name": "stdout",
     "output_type": "stream",
     "text": [
      "Word vectors saved to fastText_newdata/1/word_vectors_fasttext.tsv\n",
      "Metadata saved to fastText_newdata/1/metadata_fasttext.tsv\n"
     ]
    }
   ],
   "source": [
    "word_vectors = model.wv\n",
    "\n",
    "vocab = list(word_vectors.index_to_key)\n",
    "\n",
    "tsv_file = save_folder + \"word_vectors_fasttext.tsv\"\n",
    "\n",
    "with open(tsv_file, \"w\", encoding=\"utf-8\") as file:\n",
    "\n",
    "    # Write word vectors\n",
    "    for word in vocab:\n",
    "        vector = \"\\t\".join(str(val) for val in word_vectors[word])\n",
    "\n",
    "        file.write(f\"{vector}\\n\")\n",
    "\n",
    "print(f\"Word vectors saved to {tsv_file}\")\n",
    "\n",
    "tsv_metadata = save_folder + 'metadata_fasttext.tsv'\n",
    "\n",
    "with open (tsv_metadata, \"w\", encoding='utf-8') as file:\n",
    "\n",
    "    file.write(\"word\")\n",
    "\n",
    "    for word in vocab:\n",
    "        file.write(f\"{word}\\n\")\n",
    "\n",
    "print(f\"Metadata saved to {tsv_metadata}\")"
   ]
  },
  {
   "cell_type": "code",
   "execution_count": 18,
   "metadata": {},
   "outputs": [],
   "source": [
    "model_name = save_folder + \"fasttext_model\"\n",
    "model.save(model_name)"
   ]
  },
  {
   "cell_type": "markdown",
   "metadata": {},
   "source": [
    "# End"
   ]
  }
 ],
 "metadata": {
  "kernelspec": {
   "display_name": "Python 3",
   "language": "python",
   "name": "python3"
  },
  "language_info": {
   "codemirror_mode": {
    "name": "ipython",
    "version": 3
   },
   "file_extension": ".py",
   "mimetype": "text/x-python",
   "name": "python",
   "nbconvert_exporter": "python",
   "pygments_lexer": "ipython3",
   "version": "3.11.5"
  },
  "orig_nbformat": 4
 },
 "nbformat": 4,
 "nbformat_minor": 2
}
