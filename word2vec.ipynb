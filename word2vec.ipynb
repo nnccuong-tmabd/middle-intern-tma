{
 "cells": [
  {
   "cell_type": "code",
   "execution_count": 1,
   "metadata": {},
   "outputs": [],
   "source": [
    "from gensim.models.phrases import Phrases, Phraser\n",
    "from gensim.models import Word2Vec\n",
    "from gensim.models.callbacks import CallbackAny2Vec"
   ]
  },
  {
   "cell_type": "markdown",
   "metadata": {},
   "source": [
    "# Data"
   ]
  },
  {
   "cell_type": "code",
   "execution_count": 2,
   "metadata": {},
   "outputs": [],
   "source": [
    "import json\n",
    "import requests\n",
    "\n",
    "def load_data_skill(filename):\n",
    "\n",
    "    # resp = requests.get(filename)\n",
    "    with open(filename, 'r') as f:\n",
    "        data = json.load(f)\n",
    "\n",
    "    return list(data)\n",
    "\n",
    "filename = 'data/train/total_skill_augmentation_jds_sorted_relevant_combine_random_and_not.json'\n",
    "total_skills_jds = load_data_skill(filename)"
   ]
  },
  {
   "cell_type": "markdown",
   "metadata": {},
   "source": [
    "# Valid Function"
   ]
  },
  {
   "cell_type": "code",
   "execution_count": 3,
   "metadata": {},
   "outputs": [],
   "source": [
    "def model_prediction(model, skills, topn=20):\n",
    "    result = {}\n",
    "    for skill in skills:\n",
    "        topn_skills = [skill[0] for skill in model.wv.most_similar(skill, topn=topn)]\n",
    "\n",
    "        result[skill] = topn_skills\n",
    "\n",
    "    return result\n",
    "\n",
    "def valid_skill(prediction, valid_data): # prediction: dict, valid_data: dict\n",
    "    count = 0\n",
    "    for skill in prediction.keys():\n",
    "        for rlv_skill in prediction[skill]:\n",
    "            if rlv_skill in valid_data[skill]:\n",
    "                count += 1\n",
    "\n",
    "    # find the number of skill in valid data\n",
    "    total_skills = len(valid_data) * 20\n",
    "\n",
    "    return count/total_skills\n"
   ]
  },
  {
   "cell_type": "markdown",
   "metadata": {},
   "source": [
    "# Model training"
   ]
  },
  {
   "cell_type": "code",
   "execution_count": 11,
   "metadata": {},
   "outputs": [
    {
     "name": "stdout",
     "output_type": "stream",
     "text": [
      "Total number of hyperparameter combinations: 4\n"
     ]
    }
   ],
   "source": [
    "import itertools\n",
    "\n",
    "# create hyperparameter for training fasttext model and use grid search to find best hyperparameter\n",
    "# Define hyperparameters\n",
    "vector_size = [100]  # Can adjust this to your desired vector size\n",
    "window_size = [5]    # Context window size\n",
    "min_count = [7]      # Minimum word frequency\n",
    "sg = [1]             # Skip-gram model (1 for skip-gram, 0 for CBOW)\n",
    "hs = [1]                # Using negative sampling (1 for HS, 0 for negative sampling)\n",
    "negative = [0]\n",
    "ns_exponent = [1, 0]    # The exponent used to shape the negative sampling distribution (0 for unigram, 1 for uniform)\n",
    "seed = [1, 0]\n",
    "batch_size = [100]     # Number of words for each training batch\n",
    "shrink_windows = [False] # Whether to shrink the window size as training goes on. This usually improves the accuracy of word vectors\n",
    "alpha = [0.1]           # The initial learning rate\n",
    "\n",
    "workers = [2]           # Number of worker threads to train the model\n",
    "epochs = [100]          # Number of epochs to train the model\n",
    "\n",
    "# Create combinations of hyperparameters\n",
    "hyperparameter_combinations = list(itertools.product(vector_size, window_size, min_count, sg, hs, negative, ns_exponent, seed, batch_size, shrink_windows, alpha, workers, epochs))\n",
    "\n",
    "# Print the total number of combinations\n",
    "print(f\"Total number of hyperparameter combinations: {len(hyperparameter_combinations)}\")"
   ]
  },
  {
   "cell_type": "code",
   "execution_count": 12,
   "metadata": {},
   "outputs": [],
   "source": [
    "# function train model fasttext\n",
    "def train_word2vec(skills_jds,\n",
    "                   vector_size=100,\n",
    "                   window_size=5,\n",
    "                   min_count=3,\n",
    "                   sg=1,\n",
    "                   hs=1,\n",
    "                   negative=0,\n",
    "                   ns_exponent=0,\n",
    "                   batch_size=100,\n",
    "                   seed=seed,\n",
    "                   shrink_windows=True,\n",
    "                   alpha=0.025,\n",
    "                   workers=2,\n",
    "                   epochs=100):\n",
    "\n",
    "    # Initialize and train the FastText model\n",
    "    model = Word2Vec(\n",
    "        vector_size=vector_size,\n",
    "        window=window_size,\n",
    "        min_count=min_count,\n",
    "        sg=sg,\n",
    "        hs=hs,\n",
    "        negative=negative,\n",
    "        alpha=alpha,\n",
    "        ns_exponent=ns_exponent,\n",
    "        seed=seed,\n",
    "        batch_words=batch_size,\n",
    "        shrink_windows=shrink_windows,\n",
    "        workers=workers,\n",
    "        epochs=epochs\n",
    "    )\n",
    "\n",
    "    model.build_vocab(corpus_iterable=skills_jds)\n",
    "\n",
    "    model.train(\n",
    "        corpus_iterable=skills_jds,\n",
    "        total_words = model.corpus_total_words,\n",
    "        total_examples=len(skills_jds),\n",
    "        epochs=model.epochs,\n",
    "\n",
    "\n",
    "    )\n",
    "\n",
    "    return model\n"
   ]
  },
  {
   "cell_type": "code",
   "execution_count": 51,
   "metadata": {},
   "outputs": [],
   "source": [
    "import multiprocessing\n",
    "\n",
    "# Define hyperparameters\n",
    "vector_size = 200  # Can adjust this to your desired vector size\n",
    "window_size = 5    # Context window size\n",
    "min_count = 7      # Minimum word frequency\n",
    "sg = 1             # Skip-gram model (1 for skip-gram, 0 for CBOW)\n",
    "hs = 1                # Using negative sampling (1 for HS, 0 for negative sampling)\n",
    "negative = 0\n",
    "ns_exponent = 1    # The exponent used to shape the negative sampling distribution (0 for unigram, 1 for uniform)\n",
    "batch_size = 300     # Number of words for each training batch\n",
    "shrink_windows = True # Whether to shrink the window size as training goes on. This usually improves the accuracy of word vectors\n",
    "alpha = 0.1           # The initial learning rate\n",
    "workers=2\n",
    "seed=0\n",
    "\n",
    "epochs = 100          # Number of epochs to train the model"
   ]
  },
  {
   "cell_type": "code",
   "execution_count": 52,
   "metadata": {},
   "outputs": [],
   "source": [
    "model = train_word2vec(skills_jds=total_skills_jds,\n",
    "                       vector_size=vector_size,\n",
    "                       window_size=window_size,\n",
    "                       min_count=min_count,\n",
    "                       workers=workers,\n",
    "                       alpha=alpha,\n",
    "                       sg=sg,\n",
    "                       hs=hs,\n",
    "                       negative=negative,\n",
    "                       ns_exponent=ns_exponent,\n",
    "                       batch_size=batch_size,\n",
    "                       shrink_windows=shrink_windows,\n",
    "                       epochs=epochs)"
   ]
  },
  {
   "cell_type": "code",
   "execution_count": 6,
   "metadata": {},
   "outputs": [
    {
     "name": "stdout",
     "output_type": "stream",
     "text": [
      "Total valid skill: 36806\n"
     ]
    }
   ],
   "source": [
    "# valid data\n",
    "valid_data_path = 'https://raw.githubusercontent.com/nnccuong-tmabd/middle-intern-tma/main/data/valid/skills_valid.json'\n",
    "\n",
    "# with open(valid_data_path, 'r') as f:\n",
    "#     valid_data = json.load(f)\n",
    "\n",
    "# f.close()\n",
    "\n",
    "import requests\n",
    "\n",
    "resp = requests.get(valid_data_path)\n",
    "valid_data = json.loads(resp.text)\n",
    "valid_data\n",
    "\n",
    "# total valid skill\n",
    "total_valid_skill = 0\n",
    "for skill in valid_data.keys():\n",
    "    total_valid_skill += len(valid_data[skill])\n",
    "\n",
    "print(f'Total valid skill: {total_valid_skill}')"
   ]
  },
  {
   "cell_type": "code",
   "execution_count": 7,
   "metadata": {},
   "outputs": [],
   "source": [
    "import random\n",
    "\n",
    "def calculate_acc(model, n_iter=100):\n",
    "  #pick random 200 skills in valid data\n",
    "  accuracies = []\n",
    "  for _ in range(n_iter):\n",
    "    #pick random 200 skills in valid data\n",
    "    random_items = dict(random.sample(list(valid_data.items()), 200))\n",
    "    # valid model\n",
    "    prediction = model_prediction(model, random_items.keys())\n",
    "\n",
    "    accuracies.append(valid_skill(prediction, random_items))\n",
    "\n",
    "\n",
    "  return sum(accuracies)/n_iter\n",
    "\n",
    "# calculate_acc(model=model)\n",
    "# print(f'Accuracy: {sum(accuracies)/100}')"
   ]
  },
  {
   "cell_type": "code",
   "execution_count": 33,
   "metadata": {},
   "outputs": [
    {
     "name": "stdout",
     "output_type": "stream",
     "text": [
      "Word vectors saved to word2vecmodel/1/vectors.tsv\n",
      "Metadata saved to word2vecmodel/1/vocab.tsv\n"
     ]
    }
   ],
   "source": [
    "import os\n",
    "\n",
    "save_folder = 'word2vecmodel/2/'\n",
    "\n",
    "word_vectors = model.wv\n",
    "\n",
    "vocab = list(word_vectors.index_to_key)\n",
    "\n",
    "if not os.path.exists(save_folder):\n",
    "    os.makedirs(save_folder)\n",
    "\n",
    "tsv_file = save_folder + \"vectors.tsv\"\n",
    "\n",
    "with open(tsv_file, \"w\", encoding=\"utf-8\") as file:\n",
    "\n",
    "    # Write word vectors\n",
    "    for word in vocab:\n",
    "        vector = \"\\t\".join(str(val) for val in word_vectors[word])\n",
    "\n",
    "        file.write(f\"{vector}\\n\")\n",
    "\n",
    "print(f\"Word vectors saved to {tsv_file}\")\n",
    "\n",
    "tsv_metadata = save_folder + 'vocab.tsv'\n",
    "\n",
    "with open (tsv_metadata, \"w\", encoding='utf-8') as file:\n",
    "\n",
    "    for word in vocab:\n",
    "        file.write(f\"{word}\\n\")\n",
    "\n",
    "print(f\"Metadata saved to {tsv_metadata}\")\n",
    "\n",
    "model_name = save_folder + \"word2vec_model\"\n",
    "model.save(model_name)"
   ]
  },
  {
   "cell_type": "markdown",
   "metadata": {},
   "source": [
    "## Grid search"
   ]
  },
  {
   "cell_type": "code",
   "execution_count": 10,
   "metadata": {},
   "outputs": [],
   "source": [
    "# use smaller data\n",
    "import random\n",
    "\n",
    "n = 1000\n",
    "random_items = random.sample(total_skills_jds, n)"
   ]
  },
  {
   "cell_type": "code",
   "execution_count": 13,
   "metadata": {},
   "outputs": [],
   "source": [
    "import os\n",
    "import numpy as np\n",
    "\n",
    "def grid_search(model_path = 'word2vecmodel', total_skill_jds=total_skills_jds):\n",
    "    word2vec_models = []\n",
    "    accuracy_models = []\n",
    "    for idx, parameters in enumerate(hyperparameter_combinations):\n",
    "        print(f\"Training model with parameters: {parameters}\")\n",
    "        model = train_word2vec(total_skill_jds, parameters[0], parameters[1], parameters[2],\n",
    "                    parameters[3], parameters[4], parameters[5],\n",
    "                    parameters[6], parameters[7], parameters[8],\n",
    "                    parameters[9], parameters[10], parameters[11], parameters[12])\n",
    "        # fasttext_models.append(model)\n",
    "\n",
    "        # valid model\n",
    "        prediction = model_prediction(model, valid_data.keys())\n",
    "        word2vec_models.append(model)\n",
    "\n",
    "        accuracy = valid_skill(prediction, valid_data)\n",
    "        accuracy_models.append(accuracy)\n",
    "\n",
    "        print(f'Accuracy: {accuracy}')\n",
    "\n",
    "        # save model\n",
    "        if not os.path.exists(f'{model_path}/{idx}'):\n",
    "            os.makedirs(f'{model_path}/{idx}')\n",
    "\n",
    "        model.save(f'{model_path}/{idx}/word2vec.model')\n",
    "\n",
    "        # export model\n",
    "        vocab = model.wv.key_to_index\n",
    "\n",
    "        with open(f'{model_path}/{idx}/vocab.tsv', \"w\", encoding='utf-8') as f:\n",
    "            # f.write(\"word\\n\")\n",
    "            for word in vocab:\n",
    "                f.write(f\"{word}\\n\")\n",
    "\n",
    "        f.close()\n",
    "\n",
    "        with open(f'{model_path}/{idx}/vectors.tsv', \"w\", encoding='utf-8') as f:\n",
    "            for word in vocab:\n",
    "                vector = \"\\t\".join(str(val) for val in model.wv[word])\n",
    "\n",
    "                f.write(f\"{vector}\\n\")\n",
    "        f.close()\n",
    "\n",
    "        with open(f'{model_path}/{idx}/parameters.txt', 'w', encoding='utf-8') as f:\n",
    "            f.write(str(parameters))\n",
    "        f.close()\n",
    "\n",
    "\n",
    "    # #find best model\n",
    "    # best_model = fasttext_models[np.argmax(accuracy_models)]\n",
    "    # best_accuracy = max(accuracy_models)\n",
    "\n",
    "    # # save best model\n",
    "    # if not os.path.exists(f'{model_path}/best_model'):\n",
    "    #     os.makedirs(f'{model_path}/best_model')\n",
    "\n",
    "    # best_model.save(f'{model_path}/best_model/fasttext_model.model')\n",
    "    # # save best parameter\n",
    "    # with open(f'{model_path}/best_model/best_parameter.txt', 'w') as f:\n",
    "    #     f.write(f'Best parameter: {hyperparameter_combinations[np.argmax(accuracy_models)]}\\n')\n",
    "    #     f.write(f'Best accuracy: {best_accuracy}')\n",
    "\n",
    "    return word2vec_models, accuracy_models"
   ]
  },
  {
   "cell_type": "code",
   "execution_count": 14,
   "metadata": {},
   "outputs": [
    {
     "name": "stdout",
     "output_type": "stream",
     "text": [
      "Training model with parameters: (100, 5, 7, 1, 1, 0, 1, 1, 100, False, 0.1, 2, 100)\n"
     ]
    },
    {
     "name": "stdout",
     "output_type": "stream",
     "text": [
      "Accuracy: 0.2868321640582839\n",
      "Training model with parameters: (100, 5, 7, 1, 1, 0, 1, 0, 100, False, 0.1, 2, 100)\n",
      "Accuracy: 0.28737182946573125\n",
      "Training model with parameters: (100, 5, 7, 1, 1, 0, 0, 1, 100, False, 0.1, 2, 100)\n"
     ]
    }
   ],
   "source": [
    "models = grid_search('word2vecmodel_1', total_skills_jds)"
   ]
  },
  {
   "cell_type": "markdown",
   "metadata": {},
   "source": [
    "# Test model"
   ]
  },
  {
   "cell_type": "code",
   "execution_count": 6,
   "metadata": {},
   "outputs": [
    {
     "data": {
      "text/plain": [
       "[('sap', 0.686120867729187),\n",
       " ('plant construction', 0.680181622505188),\n",
       " ('genomics', 0.6622642278671265),\n",
       " ('snowflake', 0.6429843306541443),\n",
       " ('scrum', 0.6354222297668457),\n",
       " ('obstetrics', 0.6297516822814941),\n",
       " ('mathematics', 0.6162903308868408),\n",
       " ('business intelligence', 0.5987536311149597),\n",
       " ('splunk', 0.5981040596961975),\n",
       " ('olap', 0.5967950820922852)]"
      ]
     },
     "execution_count": 6,
     "metadata": {},
     "output_type": "execute_result"
    }
   ],
   "source": [
    "vector = model.wv['html']  # get numpy vector of a word\n",
    "sims = model.wv.most_similar('hive', topn=10)  # get other similar words\n",
    "sims"
   ]
  },
  {
   "cell_type": "markdown",
   "metadata": {},
   "source": [
    "# End"
   ]
  }
 ],
 "metadata": {
  "kernelspec": {
   "display_name": "Python 3",
   "language": "python",
   "name": "python3"
  },
  "language_info": {
   "codemirror_mode": {
    "name": "ipython",
    "version": 3
   },
   "file_extension": ".py",
   "mimetype": "text/x-python",
   "name": "python",
   "nbconvert_exporter": "python",
   "pygments_lexer": "ipython3",
   "version": "3.11.5"
  },
  "orig_nbformat": 4
 },
 "nbformat": 4,
 "nbformat_minor": 2
}
