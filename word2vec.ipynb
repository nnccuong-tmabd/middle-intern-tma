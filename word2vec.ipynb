{
 "cells": [
  {
   "cell_type": "code",
   "execution_count": 10,
   "metadata": {},
   "outputs": [],
   "source": [
    "from gensim.models.phrases import Phrases, Phraser\n",
    "from gensim.models import Word2Vec\n",
    "from gensim.models.callbacks import CallbackAny2Vec"
   ]
  },
  {
   "cell_type": "markdown",
   "metadata": {},
   "source": [
    "# Data"
   ]
  },
  {
   "cell_type": "code",
   "execution_count": 11,
   "metadata": {},
   "outputs": [],
   "source": [
    "import json\n",
    "import requests\n",
    "\n",
    "def load_data_skill(filename):\n",
    "\n",
    "    # resp = requests.get(filename)\n",
    "    with open(filename, 'r') as f:\n",
    "        data = json.load(f)\n",
    "\n",
    "    return list(data)\n",
    "\n",
    "# filename = 'data/train/total_skill_augmentation_jds_sorted_relevant_combine_random_and_not.json'\n",
    "filename = 'data/train/total_skill_jds_fixed_size.json'\n",
    "total_skills_jds = load_data_skill(filename)"
   ]
  },
  {
   "cell_type": "code",
   "execution_count": 9,
   "metadata": {},
   "outputs": [
    {
     "name": "stdout",
     "output_type": "stream",
     "text": [
      "Total valid skill: 66547\n"
     ]
    }
   ],
   "source": [
    "# valid data\n",
    "valid_data_path = 'https://raw.githubusercontent.com/nnccuong-tmabd/middle-intern-tma/main/data/valid/skills_valid.json'\n",
    "\n",
    "# with open(valid_data_path, 'r') as f:\n",
    "#     valid_data = json.load(f)\n",
    "\n",
    "# f.close()\n",
    "\n",
    "import requests\n",
    "\n",
    "resp = requests.get(valid_data_path)\n",
    "valid_data = json.loads(resp.text)\n",
    "valid_data\n",
    "\n",
    "# total valid skill\n",
    "total_valid_skill = 0\n",
    "for skill in valid_data.keys():\n",
    "    total_valid_skill += len(valid_data[skill])\n",
    "\n",
    "print(f'Total valid skill: {total_valid_skill}')"
   ]
  },
  {
   "cell_type": "markdown",
   "metadata": {},
   "source": [
    "# Valid Function"
   ]
  },
  {
   "cell_type": "code",
   "execution_count": 12,
   "metadata": {},
   "outputs": [],
   "source": [
    "def model_prediction(model, skills, topn=20):\n",
    "    result = {}\n",
    "    for skill in skills:\n",
    "        topn_skills = [skill[0] for skill in model.wv.most_similar(skill, topn=topn)]\n",
    "\n",
    "        result[skill] = topn_skills\n",
    "\n",
    "    return result\n",
    "\n",
    "def valid_skill(prediction, valid_data): # prediction: dict, valid_data: dict\n",
    "    count = 0\n",
    "    for skill in prediction.keys():\n",
    "        for rlv_skill in prediction[skill]:\n",
    "            if rlv_skill in valid_data[skill]:\n",
    "                count += 1\n",
    "\n",
    "    # find the number of skill in valid data\n",
    "    total_skills = len(valid_data) * 20\n",
    "\n",
    "    return count/total_skills\n"
   ]
  },
  {
   "cell_type": "markdown",
   "metadata": {},
   "source": [
    "# Model training"
   ]
  },
  {
   "cell_type": "code",
   "execution_count": 13,
   "metadata": {},
   "outputs": [
    {
     "name": "stdout",
     "output_type": "stream",
     "text": [
      "Total number of hyperparameter combinations: 12\n"
     ]
    }
   ],
   "source": [
    "import itertools\n",
    "\n",
    "# create hyperparameter for training fasttext model and use grid search to find best hyperparameter\n",
    "# Define hyperparameters\n",
    "vector_size = [100]  # Can adjust this to your desired vector size\n",
    "window_size = [5]    # Context window size\n",
    "min_count = [2]      # Minimum word frequency\n",
    "sg = [1]             # Skip-gram model (1 for skip-gram, 0 for CBOW)\n",
    "hs = [0]                # Using negative sampling (1 for HS, 0 for negative sampling)\n",
    "negative = [5, 15, 20]\n",
    "ns_exponent = [1, 0]    # The exponent used to shape the negative sampling distribution (0 for unigram, 1 for uniform)\n",
    "seed = [1, 0]\n",
    "batch_size = [100]     # Number of words for each training batch\n",
    "shrink_windows = [False] # Whether to shrink the window size as training goes on. This usually improves the accuracy of word vectors\n",
    "alpha = [0.1]           # The initial learning rate\n",
    "\n",
    "workers = [2]           # Number of worker threads to train the model\n",
    "epochs = [100]          # Number of epochs to train the model\n",
    "\n",
    "# Create combinations of hyperparameters\n",
    "hyperparameter_combinations = list(itertools.product(vector_size, window_size, min_count, sg, hs, negative, ns_exponent, seed, batch_size, shrink_windows, alpha, workers, epochs))\n",
    "\n",
    "# Print the total number of combinations\n",
    "print(f\"Total number of hyperparameter combinations: {len(hyperparameter_combinations)}\")"
   ]
  },
  {
   "cell_type": "code",
   "execution_count": 39,
   "metadata": {},
   "outputs": [],
   "source": [
    "import random\n",
    "\n",
    "def calculate_acc(model, n_iter=100):\n",
    "  #pick random 200 skills in valid data\n",
    "  accuracies = []\n",
    "  for _ in range(n_iter):\n",
    "    #pick random 200 skills in valid data\n",
    "    random_items = dict(random.sample(list(valid_data.items()), 200))\n",
    "    # valid model\n",
    "    prediction = model_prediction(model, random_items.keys())\n",
    "\n",
    "    accuracies.append(valid_skill(prediction, random_items))\n",
    "\n",
    "\n",
    "  return sum(accuracies)/n_iter"
   ]
  },
  {
   "cell_type": "code",
   "execution_count": 46,
   "metadata": {},
   "outputs": [],
   "source": [
    "# function train model fasttext\n",
    "def train_word2vec(skills_jds,\n",
    "                   vector_size=100,\n",
    "                   window_size=5,\n",
    "                   min_count=3,\n",
    "                   sg=1,\n",
    "                   hs=1,\n",
    "                   negative=0,\n",
    "                   ns_exponent=0,\n",
    "                   batch_size=100,\n",
    "                   seed=seed,\n",
    "                   shrink_windows=True,\n",
    "                   alpha=0.025,\n",
    "                   workers=2,\n",
    "                   epochs=100):\n",
    "\n",
    "    # Initialize and train the FastText model\n",
    "    model = Word2Vec(\n",
    "        vector_size=vector_size,\n",
    "        window=window_size,\n",
    "        min_count=min_count,\n",
    "        sg=sg,\n",
    "        hs=hs,\n",
    "        negative=negative,\n",
    "        alpha=alpha,\n",
    "        ns_exponent=ns_exponent,\n",
    "        seed=seed,\n",
    "        batch_words=batch_size,\n",
    "        shrink_windows=shrink_windows,\n",
    "        workers=workers,\n",
    "        epochs=2\n",
    "    )\n",
    "\n",
    "    # Build the vocabulary\n",
    "    model.build_vocab(corpus_iterable=skills_jds)\n",
    "\n",
    "    model.train(\n",
    "        corpus_iterable=skills_jds,\n",
    "        total_words = model.corpus_total_words,\n",
    "        total_examples=len(skills_jds),\n",
    "        epochs=model.epochs\n",
    "    )\n",
    "\n",
    "    pre_accuaracy = calculate_acc(model)\n",
    "    print(f'Epoch {1}/{epochs} - Accuaracy: {pre_accuaracy}')\n",
    "\n",
    "    threshold = 0.01\n",
    "    num_epochs = epochs - 1\n",
    "\n",
    "    for epoch in range(num_epochs):\n",
    "\n",
    "        model.update_weights()\n",
    "\n",
    "        model.train(\n",
    "            corpus_iterable=skills_jds,\n",
    "            total_words = model.corpus_total_words,\n",
    "            total_examples=len(skills_jds),\n",
    "            epochs=model.epochs\n",
    "        )\n",
    "\n",
    "        accuaracy = calculate_acc(model)\n",
    "\n",
    "        print(f'Epoch {epoch+2}/{epochs} - Accuaracy: {accuaracy}')\n",
    "\n",
    "        # early stopping\n",
    "        if pre_accuaracy - accuaracy > threshold:\n",
    "            break\n",
    "        else:\n",
    "            pre_accuaracy = accuaracy\n",
    "        \n",
    "    return model\n"
   ]
  },
  {
   "cell_type": "code",
   "execution_count": 47,
   "metadata": {},
   "outputs": [],
   "source": [
    "import multiprocessing\n",
    "\n",
    "# Define hyperparameters\n",
    "vector_size = 100  # Can adjust this to your desired vector size\n",
    "window_size = 5    # Context window size\n",
    "min_count = 2      # Minimum word frequency\n",
    "sg = 1             # Skip-gram model (1 for skip-gram, 0 for CBOW)\n",
    "hs = 0                # Using negative sampling (1 for HS, 0 for negative sampling)\n",
    "negative = 10\n",
    "ns_exponent = 1    # The exponent used to shape the negative sampling distribution (0 for unigram, 1 for uniform)\n",
    "batch_size = 100     # Number of words for each training batch\n",
    "shrink_windows = True # Whether to shrink the window size as training goes on. This usually improves the accuracy of word vectors\n",
    "alpha = 0.01           # The initial learning rate\n",
    "workers=2\n",
    "seed=1\n",
    "\n",
    "epochs = 100          # Number of epochs to train the model"
   ]
  },
  {
   "cell_type": "code",
   "execution_count": 48,
   "metadata": {},
   "outputs": [
    {
     "name": "stdout",
     "output_type": "stream",
     "text": [
      "Epoch 1/100 - Accuaracy: 0.0155225\n",
      "Epoch 2/100 - Accuaracy: 0.022300000000000007\n",
      "Epoch 3/100 - Accuaracy: 0.027372499999999994\n",
      "Epoch 4/100 - Accuaracy: 0.032070000000000015\n",
      "Epoch 5/100 - Accuaracy: 0.03783999999999999\n",
      "Epoch 6/100 - Accuaracy: 0.04102999999999998\n",
      "Epoch 7/100 - Accuaracy: 0.04310750000000001\n",
      "Epoch 8/100 - Accuaracy: 0.0454875\n",
      "Epoch 9/100 - Accuaracy: 0.0469325\n",
      "Epoch 10/100 - Accuaracy: 0.049022500000000004\n",
      "Epoch 11/100 - Accuaracy: 0.050517500000000014\n",
      "Epoch 12/100 - Accuaracy: 0.051282500000000016\n",
      "Epoch 13/100 - Accuaracy: 0.053152500000000005\n",
      "Epoch 14/100 - Accuaracy: 0.05402250000000002\n",
      "Epoch 15/100 - Accuaracy: 0.054714999999999986\n",
      "Epoch 16/100 - Accuaracy: 0.054812500000000035\n",
      "Epoch 17/100 - Accuaracy: 0.056792499999999996\n",
      "Epoch 18/100 - Accuaracy: 0.05764500000000003\n",
      "Epoch 19/100 - Accuaracy: 0.05889750000000005\n",
      "Epoch 20/100 - Accuaracy: 0.05950500000000001\n",
      "Epoch 21/100 - Accuaracy: 0.058862499999999984\n",
      "Epoch 22/100 - Accuaracy: 0.06116250000000001\n",
      "Epoch 23/100 - Accuaracy: 0.06115750000000002\n",
      "Epoch 24/100 - Accuaracy: 0.062065\n",
      "Epoch 25/100 - Accuaracy: 0.06321500000000001\n",
      "Epoch 26/100 - Accuaracy: 0.06436999999999998\n",
      "Epoch 27/100 - Accuaracy: 0.06488\n",
      "Epoch 28/100 - Accuaracy: 0.06532999999999999\n",
      "Epoch 29/100 - Accuaracy: 0.06532999999999997\n",
      "Epoch 30/100 - Accuaracy: 0.0659475\n",
      "Epoch 31/100 - Accuaracy: 0.06717750000000003\n",
      "Epoch 32/100 - Accuaracy: 0.06922499999999998\n",
      "Epoch 33/100 - Accuaracy: 0.06794\n",
      "Epoch 34/100 - Accuaracy: 0.06818249999999998\n",
      "Epoch 35/100 - Accuaracy: 0.06915000000000003\n",
      "Epoch 36/100 - Accuaracy: 0.06910999999999999\n",
      "Epoch 37/100 - Accuaracy: 0.070305\n",
      "Epoch 38/100 - Accuaracy: 0.071725\n",
      "Epoch 39/100 - Accuaracy: 0.0703825\n",
      "Epoch 40/100 - Accuaracy: 0.07148749999999998\n",
      "Epoch 41/100 - Accuaracy: 0.07222250000000001\n",
      "Epoch 42/100 - Accuaracy: 0.07256000000000003\n",
      "Epoch 43/100 - Accuaracy: 0.07195\n",
      "Epoch 44/100 - Accuaracy: 0.07270249999999999\n",
      "Epoch 45/100 - Accuaracy: 0.07307750000000002\n",
      "Epoch 46/100 - Accuaracy: 0.07371750000000003\n",
      "Epoch 47/100 - Accuaracy: 0.07352250000000002\n",
      "Epoch 48/100 - Accuaracy: 0.07354250000000001\n",
      "Epoch 49/100 - Accuaracy: 0.07473\n",
      "Epoch 50/100 - Accuaracy: 0.07501999999999998\n",
      "Epoch 51/100 - Accuaracy: 0.0748575\n",
      "Epoch 52/100 - Accuaracy: 0.07614500000000003\n",
      "Epoch 53/100 - Accuaracy: 0.0757525\n",
      "Epoch 54/100 - Accuaracy: 0.0769425\n",
      "Epoch 55/100 - Accuaracy: 0.0767\n",
      "Epoch 56/100 - Accuaracy: 0.0764375\n",
      "Epoch 57/100 - Accuaracy: 0.0766175\n",
      "Epoch 58/100 - Accuaracy: 0.07703499999999998\n",
      "Epoch 59/100 - Accuaracy: 0.076985\n",
      "Epoch 60/100 - Accuaracy: 0.07769999999999995\n",
      "Epoch 61/100 - Accuaracy: 0.07814499999999999\n",
      "Epoch 62/100 - Accuaracy: 0.07834499999999997\n",
      "Epoch 63/100 - Accuaracy: 0.07801\n",
      "Epoch 64/100 - Accuaracy: 0.0776425\n",
      "Epoch 65/100 - Accuaracy: 0.07754250000000001\n",
      "Epoch 66/100 - Accuaracy: 0.07758250000000004\n"
     ]
    },
    {
     "ename": "KeyboardInterrupt",
     "evalue": "",
     "output_type": "error",
     "traceback": [
      "\u001b[1;31m---------------------------------------------------------------------------\u001b[0m",
      "\u001b[1;31mKeyboardInterrupt\u001b[0m                         Traceback (most recent call last)",
      "\u001b[1;32md:\\CLOUDX\\TMA_Intern\\word2vec.ipynb Cell 12\u001b[0m line \u001b[0;36m1\n\u001b[1;32m----> <a href='vscode-notebook-cell:/d%3A/CLOUDX/TMA_Intern/word2vec.ipynb#X12sZmlsZQ%3D%3D?line=0'>1</a>\u001b[0m model \u001b[39m=\u001b[39m train_word2vec(skills_jds\u001b[39m=\u001b[39;49mtotal_skills_jds,\n\u001b[0;32m      <a href='vscode-notebook-cell:/d%3A/CLOUDX/TMA_Intern/word2vec.ipynb#X12sZmlsZQ%3D%3D?line=1'>2</a>\u001b[0m                        vector_size\u001b[39m=\u001b[39;49mvector_size,\n\u001b[0;32m      <a href='vscode-notebook-cell:/d%3A/CLOUDX/TMA_Intern/word2vec.ipynb#X12sZmlsZQ%3D%3D?line=2'>3</a>\u001b[0m                        window_size\u001b[39m=\u001b[39;49mwindow_size,\n\u001b[0;32m      <a href='vscode-notebook-cell:/d%3A/CLOUDX/TMA_Intern/word2vec.ipynb#X12sZmlsZQ%3D%3D?line=3'>4</a>\u001b[0m                        min_count\u001b[39m=\u001b[39;49mmin_count,\n\u001b[0;32m      <a href='vscode-notebook-cell:/d%3A/CLOUDX/TMA_Intern/word2vec.ipynb#X12sZmlsZQ%3D%3D?line=4'>5</a>\u001b[0m                        workers\u001b[39m=\u001b[39;49mworkers,\n\u001b[0;32m      <a href='vscode-notebook-cell:/d%3A/CLOUDX/TMA_Intern/word2vec.ipynb#X12sZmlsZQ%3D%3D?line=5'>6</a>\u001b[0m                        alpha\u001b[39m=\u001b[39;49malpha,\n\u001b[0;32m      <a href='vscode-notebook-cell:/d%3A/CLOUDX/TMA_Intern/word2vec.ipynb#X12sZmlsZQ%3D%3D?line=6'>7</a>\u001b[0m                        sg\u001b[39m=\u001b[39;49msg,\n\u001b[0;32m      <a href='vscode-notebook-cell:/d%3A/CLOUDX/TMA_Intern/word2vec.ipynb#X12sZmlsZQ%3D%3D?line=7'>8</a>\u001b[0m                        hs\u001b[39m=\u001b[39;49mhs,\n\u001b[0;32m      <a href='vscode-notebook-cell:/d%3A/CLOUDX/TMA_Intern/word2vec.ipynb#X12sZmlsZQ%3D%3D?line=8'>9</a>\u001b[0m                        negative\u001b[39m=\u001b[39;49mnegative,\n\u001b[0;32m     <a href='vscode-notebook-cell:/d%3A/CLOUDX/TMA_Intern/word2vec.ipynb#X12sZmlsZQ%3D%3D?line=9'>10</a>\u001b[0m                        ns_exponent\u001b[39m=\u001b[39;49mns_exponent,\n\u001b[0;32m     <a href='vscode-notebook-cell:/d%3A/CLOUDX/TMA_Intern/word2vec.ipynb#X12sZmlsZQ%3D%3D?line=10'>11</a>\u001b[0m                        batch_size\u001b[39m=\u001b[39;49mbatch_size,\n\u001b[0;32m     <a href='vscode-notebook-cell:/d%3A/CLOUDX/TMA_Intern/word2vec.ipynb#X12sZmlsZQ%3D%3D?line=11'>12</a>\u001b[0m                        shrink_windows\u001b[39m=\u001b[39;49mshrink_windows,\n\u001b[0;32m     <a href='vscode-notebook-cell:/d%3A/CLOUDX/TMA_Intern/word2vec.ipynb#X12sZmlsZQ%3D%3D?line=12'>13</a>\u001b[0m                        epochs\u001b[39m=\u001b[39;49mepochs)\n",
      "\u001b[1;32md:\\CLOUDX\\TMA_Intern\\word2vec.ipynb Cell 12\u001b[0m line \u001b[0;36m5\n\u001b[0;32m     <a href='vscode-notebook-cell:/d%3A/CLOUDX/TMA_Intern/word2vec.ipynb#X12sZmlsZQ%3D%3D?line=49'>50</a>\u001b[0m \u001b[39mfor\u001b[39;00m epoch \u001b[39min\u001b[39;00m \u001b[39mrange\u001b[39m(num_epochs):\n\u001b[0;32m     <a href='vscode-notebook-cell:/d%3A/CLOUDX/TMA_Intern/word2vec.ipynb#X12sZmlsZQ%3D%3D?line=51'>52</a>\u001b[0m     model\u001b[39m.\u001b[39mupdate_weights()\n\u001b[1;32m---> <a href='vscode-notebook-cell:/d%3A/CLOUDX/TMA_Intern/word2vec.ipynb#X12sZmlsZQ%3D%3D?line=53'>54</a>\u001b[0m     model\u001b[39m.\u001b[39;49mtrain(\n\u001b[0;32m     <a href='vscode-notebook-cell:/d%3A/CLOUDX/TMA_Intern/word2vec.ipynb#X12sZmlsZQ%3D%3D?line=54'>55</a>\u001b[0m         corpus_iterable\u001b[39m=\u001b[39;49mskills_jds,\n\u001b[0;32m     <a href='vscode-notebook-cell:/d%3A/CLOUDX/TMA_Intern/word2vec.ipynb#X12sZmlsZQ%3D%3D?line=55'>56</a>\u001b[0m         total_words \u001b[39m=\u001b[39;49m model\u001b[39m.\u001b[39;49mcorpus_total_words,\n\u001b[0;32m     <a href='vscode-notebook-cell:/d%3A/CLOUDX/TMA_Intern/word2vec.ipynb#X12sZmlsZQ%3D%3D?line=56'>57</a>\u001b[0m         total_examples\u001b[39m=\u001b[39;49m\u001b[39mlen\u001b[39;49m(skills_jds),\n\u001b[0;32m     <a href='vscode-notebook-cell:/d%3A/CLOUDX/TMA_Intern/word2vec.ipynb#X12sZmlsZQ%3D%3D?line=57'>58</a>\u001b[0m         epochs\u001b[39m=\u001b[39;49mmodel\u001b[39m.\u001b[39;49mepochs\n\u001b[0;32m     <a href='vscode-notebook-cell:/d%3A/CLOUDX/TMA_Intern/word2vec.ipynb#X12sZmlsZQ%3D%3D?line=58'>59</a>\u001b[0m     )\n\u001b[0;32m     <a href='vscode-notebook-cell:/d%3A/CLOUDX/TMA_Intern/word2vec.ipynb#X12sZmlsZQ%3D%3D?line=60'>61</a>\u001b[0m     accuaracy \u001b[39m=\u001b[39m calculate_acc(model)\n\u001b[0;32m     <a href='vscode-notebook-cell:/d%3A/CLOUDX/TMA_Intern/word2vec.ipynb#X12sZmlsZQ%3D%3D?line=62'>63</a>\u001b[0m     \u001b[39mprint\u001b[39m(\u001b[39mf\u001b[39m\u001b[39m'\u001b[39m\u001b[39mEpoch \u001b[39m\u001b[39m{\u001b[39;00mepoch\u001b[39m+\u001b[39m\u001b[39m2\u001b[39m\u001b[39m}\u001b[39;00m\u001b[39m/\u001b[39m\u001b[39m{\u001b[39;00mepochs\u001b[39m}\u001b[39;00m\u001b[39m - Accuaracy: \u001b[39m\u001b[39m{\u001b[39;00maccuaracy\u001b[39m}\u001b[39;00m\u001b[39m'\u001b[39m)\n",
      "File \u001b[1;32mc:\\Users\\Hii\\miniconda3\\envs\\udemy\\Lib\\site-packages\\gensim\\models\\word2vec.py:1073\u001b[0m, in \u001b[0;36mWord2Vec.train\u001b[1;34m(self, corpus_iterable, corpus_file, total_examples, total_words, epochs, start_alpha, end_alpha, word_count, queue_factor, report_delay, compute_loss, callbacks, **kwargs)\u001b[0m\n\u001b[0;32m   1070\u001b[0m     callback\u001b[39m.\u001b[39mon_epoch_begin(\u001b[39mself\u001b[39m)\n\u001b[0;32m   1072\u001b[0m \u001b[39mif\u001b[39;00m corpus_iterable \u001b[39mis\u001b[39;00m \u001b[39mnot\u001b[39;00m \u001b[39mNone\u001b[39;00m:\n\u001b[1;32m-> 1073\u001b[0m     trained_word_count_epoch, raw_word_count_epoch, job_tally_epoch \u001b[39m=\u001b[39m \u001b[39mself\u001b[39;49m\u001b[39m.\u001b[39;49m_train_epoch(\n\u001b[0;32m   1074\u001b[0m         corpus_iterable, cur_epoch\u001b[39m=\u001b[39;49mcur_epoch, total_examples\u001b[39m=\u001b[39;49mtotal_examples,\n\u001b[0;32m   1075\u001b[0m         total_words\u001b[39m=\u001b[39;49mtotal_words, queue_factor\u001b[39m=\u001b[39;49mqueue_factor, report_delay\u001b[39m=\u001b[39;49mreport_delay,\n\u001b[0;32m   1076\u001b[0m         callbacks\u001b[39m=\u001b[39;49mcallbacks, \u001b[39m*\u001b[39;49m\u001b[39m*\u001b[39;49mkwargs)\n\u001b[0;32m   1077\u001b[0m \u001b[39melse\u001b[39;00m:\n\u001b[0;32m   1078\u001b[0m     trained_word_count_epoch, raw_word_count_epoch, job_tally_epoch \u001b[39m=\u001b[39m \u001b[39mself\u001b[39m\u001b[39m.\u001b[39m_train_epoch_corpusfile(\n\u001b[0;32m   1079\u001b[0m         corpus_file, cur_epoch\u001b[39m=\u001b[39mcur_epoch, total_examples\u001b[39m=\u001b[39mtotal_examples, total_words\u001b[39m=\u001b[39mtotal_words,\n\u001b[0;32m   1080\u001b[0m         callbacks\u001b[39m=\u001b[39mcallbacks, \u001b[39m*\u001b[39m\u001b[39m*\u001b[39mkwargs)\n",
      "File \u001b[1;32mc:\\Users\\Hii\\miniconda3\\envs\\udemy\\Lib\\site-packages\\gensim\\models\\word2vec.py:1434\u001b[0m, in \u001b[0;36mWord2Vec._train_epoch\u001b[1;34m(self, data_iterable, cur_epoch, total_examples, total_words, queue_factor, report_delay, callbacks)\u001b[0m\n\u001b[0;32m   1431\u001b[0m     thread\u001b[39m.\u001b[39mdaemon \u001b[39m=\u001b[39m \u001b[39mTrue\u001b[39;00m  \u001b[39m# make interrupting the process with ctrl+c easier\u001b[39;00m\n\u001b[0;32m   1432\u001b[0m     thread\u001b[39m.\u001b[39mstart()\n\u001b[1;32m-> 1434\u001b[0m trained_word_count, raw_word_count, job_tally \u001b[39m=\u001b[39m \u001b[39mself\u001b[39;49m\u001b[39m.\u001b[39;49m_log_epoch_progress(\n\u001b[0;32m   1435\u001b[0m     progress_queue, job_queue, cur_epoch\u001b[39m=\u001b[39;49mcur_epoch, total_examples\u001b[39m=\u001b[39;49mtotal_examples,\n\u001b[0;32m   1436\u001b[0m     total_words\u001b[39m=\u001b[39;49mtotal_words, report_delay\u001b[39m=\u001b[39;49mreport_delay, is_corpus_file_mode\u001b[39m=\u001b[39;49m\u001b[39mFalse\u001b[39;49;00m,\n\u001b[0;32m   1437\u001b[0m )\n\u001b[0;32m   1439\u001b[0m \u001b[39mreturn\u001b[39;00m trained_word_count, raw_word_count, job_tally\n",
      "File \u001b[1;32mc:\\Users\\Hii\\miniconda3\\envs\\udemy\\Lib\\site-packages\\gensim\\models\\word2vec.py:1289\u001b[0m, in \u001b[0;36mWord2Vec._log_epoch_progress\u001b[1;34m(self, progress_queue, job_queue, cur_epoch, total_examples, total_words, report_delay, is_corpus_file_mode)\u001b[0m\n\u001b[0;32m   1286\u001b[0m unfinished_worker_count \u001b[39m=\u001b[39m \u001b[39mself\u001b[39m\u001b[39m.\u001b[39mworkers\n\u001b[0;32m   1288\u001b[0m \u001b[39mwhile\u001b[39;00m unfinished_worker_count \u001b[39m>\u001b[39m \u001b[39m0\u001b[39m:\n\u001b[1;32m-> 1289\u001b[0m     report \u001b[39m=\u001b[39m progress_queue\u001b[39m.\u001b[39;49mget()  \u001b[39m# blocks if workers too slow\u001b[39;00m\n\u001b[0;32m   1290\u001b[0m     \u001b[39mif\u001b[39;00m report \u001b[39mis\u001b[39;00m \u001b[39mNone\u001b[39;00m:  \u001b[39m# a thread reporting that it finished\u001b[39;00m\n\u001b[0;32m   1291\u001b[0m         unfinished_worker_count \u001b[39m-\u001b[39m\u001b[39m=\u001b[39m \u001b[39m1\u001b[39m\n",
      "File \u001b[1;32mc:\\Users\\Hii\\miniconda3\\envs\\udemy\\Lib\\queue.py:171\u001b[0m, in \u001b[0;36mQueue.get\u001b[1;34m(self, block, timeout)\u001b[0m\n\u001b[0;32m    169\u001b[0m \u001b[39melif\u001b[39;00m timeout \u001b[39mis\u001b[39;00m \u001b[39mNone\u001b[39;00m:\n\u001b[0;32m    170\u001b[0m     \u001b[39mwhile\u001b[39;00m \u001b[39mnot\u001b[39;00m \u001b[39mself\u001b[39m\u001b[39m.\u001b[39m_qsize():\n\u001b[1;32m--> 171\u001b[0m         \u001b[39mself\u001b[39;49m\u001b[39m.\u001b[39;49mnot_empty\u001b[39m.\u001b[39;49mwait()\n\u001b[0;32m    172\u001b[0m \u001b[39melif\u001b[39;00m timeout \u001b[39m<\u001b[39m \u001b[39m0\u001b[39m:\n\u001b[0;32m    173\u001b[0m     \u001b[39mraise\u001b[39;00m \u001b[39mValueError\u001b[39;00m(\u001b[39m\"\u001b[39m\u001b[39m'\u001b[39m\u001b[39mtimeout\u001b[39m\u001b[39m'\u001b[39m\u001b[39m must be a non-negative number\u001b[39m\u001b[39m\"\u001b[39m)\n",
      "File \u001b[1;32mc:\\Users\\Hii\\miniconda3\\envs\\udemy\\Lib\\threading.py:320\u001b[0m, in \u001b[0;36mCondition.wait\u001b[1;34m(self, timeout)\u001b[0m\n\u001b[0;32m    318\u001b[0m \u001b[39mtry\u001b[39;00m:    \u001b[39m# restore state no matter what (e.g., KeyboardInterrupt)\u001b[39;00m\n\u001b[0;32m    319\u001b[0m     \u001b[39mif\u001b[39;00m timeout \u001b[39mis\u001b[39;00m \u001b[39mNone\u001b[39;00m:\n\u001b[1;32m--> 320\u001b[0m         waiter\u001b[39m.\u001b[39;49macquire()\n\u001b[0;32m    321\u001b[0m         gotit \u001b[39m=\u001b[39m \u001b[39mTrue\u001b[39;00m\n\u001b[0;32m    322\u001b[0m     \u001b[39melse\u001b[39;00m:\n",
      "\u001b[1;31mKeyboardInterrupt\u001b[0m: "
     ]
    }
   ],
   "source": [
    "model = train_word2vec(skills_jds=total_skills_jds,\n",
    "                       vector_size=vector_size,\n",
    "                       window_size=window_size,\n",
    "                       min_count=min_count,\n",
    "                       workers=workers,\n",
    "                       alpha=alpha,\n",
    "                       sg=sg,\n",
    "                       hs=hs,\n",
    "                       negative=negative,\n",
    "                       ns_exponent=ns_exponent,\n",
    "                       batch_size=batch_size,\n",
    "                       shrink_windows=shrink_windows,\n",
    "                       epochs=epochs)"
   ]
  },
  {
   "cell_type": "code",
   "execution_count": null,
   "metadata": {},
   "outputs": [],
   "source": [
    "import random\n",
    "\n",
    "def calculate_acc(model, n_iter=100):\n",
    "  #pick random 200 skills in valid data\n",
    "  accuracies = []\n",
    "  for _ in range(n_iter):\n",
    "    #pick random 200 skills in valid data\n",
    "    random_items = dict(random.sample(list(valid_data.items()), 200))\n",
    "    # valid model\n",
    "    prediction = model_prediction(model, random_items.keys())\n",
    "\n",
    "    accuracies.append(valid_skill(prediction, random_items))\n",
    "\n",
    "\n",
    "  return sum(accuracies)/n_iter\n",
    "\n",
    "calculate_acc(model=model)"
   ]
  },
  {
   "cell_type": "code",
   "execution_count": 33,
   "metadata": {},
   "outputs": [
    {
     "name": "stdout",
     "output_type": "stream",
     "text": [
      "Word vectors saved to word2vecmodel/1/vectors.tsv\n",
      "Metadata saved to word2vecmodel/1/vocab.tsv\n"
     ]
    }
   ],
   "source": [
    "import os\n",
    "\n",
    "save_folder = 'word2vecmodel/2/'\n",
    "\n",
    "word_vectors = model.wv\n",
    "\n",
    "vocab = list(word_vectors.index_to_key)\n",
    "\n",
    "if not os.path.exists(save_folder):\n",
    "    os.makedirs(save_folder)\n",
    "\n",
    "tsv_file = save_folder + \"vectors.tsv\"\n",
    "\n",
    "with open(tsv_file, \"w\", encoding=\"utf-8\") as file:\n",
    "\n",
    "    # Write word vectors\n",
    "    for word in vocab:\n",
    "        vector = \"\\t\".join(str(val) for val in word_vectors[word])\n",
    "\n",
    "        file.write(f\"{vector}\\n\")\n",
    "\n",
    "print(f\"Word vectors saved to {tsv_file}\")\n",
    "\n",
    "tsv_metadata = save_folder + 'vocab.tsv'\n",
    "\n",
    "with open (tsv_metadata, \"w\", encoding='utf-8') as file:\n",
    "\n",
    "    for word in vocab:\n",
    "        file.write(f\"{word}\\n\")\n",
    "\n",
    "print(f\"Metadata saved to {tsv_metadata}\")\n",
    "\n",
    "model_name = save_folder + \"word2vec_model\"\n",
    "model.save(model_name)"
   ]
  },
  {
   "cell_type": "markdown",
   "metadata": {},
   "source": [
    "## Grid search"
   ]
  },
  {
   "cell_type": "code",
   "execution_count": 10,
   "metadata": {},
   "outputs": [],
   "source": [
    "# use smaller data\n",
    "import random\n",
    "\n",
    "n = 1000\n",
    "random_items = random.sample(total_skills_jds, n)"
   ]
  },
  {
   "cell_type": "code",
   "execution_count": 13,
   "metadata": {},
   "outputs": [],
   "source": [
    "import os\n",
    "import numpy as np\n",
    "\n",
    "def grid_search(model_path = 'word2vecmodel', total_skill_jds=total_skills_jds):\n",
    "    word2vec_models = []\n",
    "    accuracy_models = []\n",
    "    for idx, parameters in enumerate(hyperparameter_combinations):\n",
    "        print(f\"Training model with parameters: {parameters}\")\n",
    "        model = train_word2vec(total_skill_jds, parameters[0], parameters[1], parameters[2],\n",
    "                    parameters[3], parameters[4], parameters[5],\n",
    "                    parameters[6], parameters[7], parameters[8],\n",
    "                    parameters[9], parameters[10], parameters[11], parameters[12])\n",
    "        # fasttext_models.append(model)\n",
    "\n",
    "        # valid model\n",
    "        prediction = model_prediction(model, valid_data.keys())\n",
    "        word2vec_models.append(model)\n",
    "\n",
    "        accuracy = valid_skill(prediction, valid_data)\n",
    "        accuracy_models.append(accuracy)\n",
    "\n",
    "        print(f'Accuracy: {accuracy}')\n",
    "\n",
    "        # save model\n",
    "        if not os.path.exists(f'{model_path}/{idx}'):\n",
    "            os.makedirs(f'{model_path}/{idx}')\n",
    "\n",
    "        model.save(f'{model_path}/{idx}/word2vec.model')\n",
    "\n",
    "        # export model\n",
    "        vocab = model.wv.key_to_index\n",
    "\n",
    "        with open(f'{model_path}/{idx}/vocab.tsv', \"w\", encoding='utf-8') as f:\n",
    "            # f.write(\"word\\n\")\n",
    "            for word in vocab:\n",
    "                f.write(f\"{word}\\n\")\n",
    "\n",
    "        f.close()\n",
    "\n",
    "        with open(f'{model_path}/{idx}/vectors.tsv', \"w\", encoding='utf-8') as f:\n",
    "            for word in vocab:\n",
    "                vector = \"\\t\".join(str(val) for val in model.wv[word])\n",
    "\n",
    "                f.write(f\"{vector}\\n\")\n",
    "        f.close()\n",
    "\n",
    "        with open(f'{model_path}/{idx}/parameters.txt', 'w', encoding='utf-8') as f:\n",
    "            f.write(str(parameters))\n",
    "        f.close()\n",
    "\n",
    "\n",
    "    # #find best model\n",
    "    # best_model = fasttext_models[np.argmax(accuracy_models)]\n",
    "    # best_accuracy = max(accuracy_models)\n",
    "\n",
    "    # # save best model\n",
    "    # if not os.path.exists(f'{model_path}/best_model'):\n",
    "    #     os.makedirs(f'{model_path}/best_model')\n",
    "\n",
    "    # best_model.save(f'{model_path}/best_model/fasttext_model.model')\n",
    "    # # save best parameter\n",
    "    # with open(f'{model_path}/best_model/best_parameter.txt', 'w') as f:\n",
    "    #     f.write(f'Best parameter: {hyperparameter_combinations[np.argmax(accuracy_models)]}\\n')\n",
    "    #     f.write(f'Best accuracy: {best_accuracy}')\n",
    "\n",
    "    return word2vec_models, accuracy_models"
   ]
  },
  {
   "cell_type": "code",
   "execution_count": 14,
   "metadata": {},
   "outputs": [
    {
     "name": "stdout",
     "output_type": "stream",
     "text": [
      "Training model with parameters: (100, 5, 7, 1, 1, 0, 1, 1, 100, False, 0.1, 2, 100)\n"
     ]
    },
    {
     "name": "stdout",
     "output_type": "stream",
     "text": [
      "Accuracy: 0.2868321640582839\n",
      "Training model with parameters: (100, 5, 7, 1, 1, 0, 1, 0, 100, False, 0.1, 2, 100)\n",
      "Accuracy: 0.28737182946573125\n",
      "Training model with parameters: (100, 5, 7, 1, 1, 0, 0, 1, 100, False, 0.1, 2, 100)\n"
     ]
    }
   ],
   "source": [
    "models = grid_search('word2vecmodel_1', total_skills_jds)"
   ]
  },
  {
   "cell_type": "markdown",
   "metadata": {},
   "source": [
    "# Test model"
   ]
  },
  {
   "cell_type": "code",
   "execution_count": 6,
   "metadata": {},
   "outputs": [
    {
     "data": {
      "text/plain": [
       "[('sap', 0.686120867729187),\n",
       " ('plant construction', 0.680181622505188),\n",
       " ('genomics', 0.6622642278671265),\n",
       " ('snowflake', 0.6429843306541443),\n",
       " ('scrum', 0.6354222297668457),\n",
       " ('obstetrics', 0.6297516822814941),\n",
       " ('mathematics', 0.6162903308868408),\n",
       " ('business intelligence', 0.5987536311149597),\n",
       " ('splunk', 0.5981040596961975),\n",
       " ('olap', 0.5967950820922852)]"
      ]
     },
     "execution_count": 6,
     "metadata": {},
     "output_type": "execute_result"
    }
   ],
   "source": [
    "vector = model.wv['html']  # get numpy vector of a word\n",
    "sims = model.wv.most_similar('hive', topn=10)  # get other similar words\n",
    "sims"
   ]
  },
  {
   "cell_type": "markdown",
   "metadata": {},
   "source": [
    "# End"
   ]
  }
 ],
 "metadata": {
  "kernelspec": {
   "display_name": "Python 3",
   "language": "python",
   "name": "python3"
  },
  "language_info": {
   "codemirror_mode": {
    "name": "ipython",
    "version": 3
   },
   "file_extension": ".py",
   "mimetype": "text/x-python",
   "name": "python",
   "nbconvert_exporter": "python",
   "pygments_lexer": "ipython3",
   "version": "3.11.0"
  },
  "orig_nbformat": 4
 },
 "nbformat": 4,
 "nbformat_minor": 2
}
