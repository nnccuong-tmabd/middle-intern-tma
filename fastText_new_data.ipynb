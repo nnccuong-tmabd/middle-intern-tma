{
 "cells": [
  {
   "cell_type": "code",
   "execution_count": 2,
   "metadata": {},
   "outputs": [],
   "source": [
    "from gensim.models.phrases import Phrases, Phraser\n",
    "from gensim.models import FastText"
   ]
  },
  {
   "cell_type": "markdown",
   "metadata": {},
   "source": [
    "# Data"
   ]
  },
  {
   "cell_type": "code",
   "execution_count": 4,
   "metadata": {},
   "outputs": [],
   "source": [
    "import json\n",
    "\n",
    "# read file json data_skill_tensor.json\n",
    "\n",
    "with open('data//train/data_skill_tensor.json', 'r') as f:\n",
    "    data = json.load(f)\n",
    "\n",
    "f.close()\n",
    "\n",
    "data_skill = [job['skills'] for job in data]"
   ]
  },
  {
   "cell_type": "code",
   "execution_count": 5,
   "metadata": {},
   "outputs": [],
   "source": [
    "# load IT skill JDs\n",
    "def load_data_skill(filename):\n",
    "    with open(filename, 'r') as f:\n",
    "        data = json.load(f)\n",
    "\n",
    "    f.close()\n",
    "    \n",
    "    return list(data.values())\n",
    "\n",
    "skill1 = load_data_skill('data//train/IT_skill_JDs_p1.json')\n",
    "skill2 = load_data_skill('data/train/IT_skill_JDs_p1.json')"
   ]
  },
  {
   "cell_type": "code",
   "execution_count": 6,
   "metadata": {},
   "outputs": [],
   "source": [
    "def nomalize_skill(skill):\n",
    "    for i in range(len(skill)):\n",
    "        skill[i] = [item.lower() for item in skill[i]]\n",
    "    \n",
    "    return skill\n",
    "\n",
    "data_skill = nomalize_skill(data_skill)\n",
    "skill1 = nomalize_skill(skill1)\n",
    "skill2 = nomalize_skill(skill2)"
   ]
  },
  {
   "cell_type": "code",
   "execution_count": 7,
   "metadata": {},
   "outputs": [],
   "source": [
    "# concate three list\n",
    "total_skill_jbs = data_skill + skill1 + skill2"
   ]
  },
  {
   "cell_type": "markdown",
   "metadata": {},
   "source": [
    "# Valid data and Valid Function"
   ]
  },
  {
   "cell_type": "code",
   "execution_count": 9,
   "metadata": {},
   "outputs": [],
   "source": [
    "valid_data_path = 'data/valid/top_200_valid_automation.json'\n",
    "with open(valid_data_path, 'r') as f:\n",
    "    valid_data = json.load(f)\n",
    "\n",
    "f.close()"
   ]
  },
  {
   "cell_type": "code",
   "execution_count": null,
   "metadata": {},
   "outputs": [],
   "source": [
    "# valid function\n",
    "def valid_skill(prediction, valid_data): # prediction: dict, valid_data: dict\n",
    "    count = 0\n",
    "    for key in prediction.keys():\n",
    "        "
   ]
  },
  {
   "cell_type": "markdown",
   "metadata": {},
   "source": [
    "# Data Agumentation"
   ]
  },
  {
   "cell_type": "code",
   "execution_count": 7,
   "metadata": {},
   "outputs": [],
   "source": [
    "import random\n",
    "import numpy as np\n",
    "\n",
    "def shuffle_data(skills, discard=0):\n",
    "    # Make a copy of the input list to avoid modifying the original list\n",
    "    shuffled_skills = skills.copy()\n",
    "    \n",
    "    # Shuffle the copy of the list in place\n",
    "    random.shuffle(shuffled_skills)\n",
    "    \n",
    "    return shuffled_skills\n",
    "\n",
    "def cutout_data(skills, mask_size=5):\n",
    "\n",
    "    cutout_skills = skills.copy()\n",
    "    \n",
    "    mask_size = min(mask_size, len(cutout_skills))\n",
    "    \n",
    "    cutout_index = random.sample(range(len(skills)), mask_size)\n",
    "    \n",
    "    for idx in cutout_index:\n",
    "        cutout_skills[idx] = ''\n",
    "        \n",
    "\n",
    "    cutout_skills = [x for x in cutout_skills if x != '']\n",
    "    \n",
    "    return cutout_skills\n"
   ]
  },
  {
   "cell_type": "code",
   "execution_count": 8,
   "metadata": {},
   "outputs": [],
   "source": [
    "def create_new_data(total_skills, func, num_samples=2100):\n",
    "\n",
    "    if num_samples > len(total_skills):\n",
    "        num_samples = len(total_skills) \n",
    "\n",
    "    skills_augmentation_collection = []\n",
    "    # pick random sample in skills jbs\n",
    "    random_indexs = random.sample(range(len(total_skills)), num_samples)\n",
    "    for index in random_indexs:\n",
    "        mask_size = 0\n",
    "        if func.__name__ == 'cutout_data':\n",
    "            mask_size = random.randint(0, int(len(total_skills[index])/2))\n",
    "\n",
    "        skills_augmentation_collection.append(func(total_skills[index], mask_size))\n",
    "\n",
    "    return skills_augmentation_collection"
   ]
  },
  {
   "cell_type": "code",
   "execution_count": 9,
   "metadata": {},
   "outputs": [],
   "source": [
    "skill1_augmentation = create_new_data(skill1, cutout_data) + create_new_data(skill1, shuffle_data)\n",
    "skill2_augmentation = create_new_data(skill2, cutout_data) + create_new_data(skill2, shuffle_data)"
   ]
  },
  {
   "cell_type": "code",
   "execution_count": 10,
   "metadata": {},
   "outputs": [],
   "source": [
    "total_skill_jbs += skill1_augmentation + skill2_augmentation"
   ]
  },
  {
   "cell_type": "code",
   "execution_count": 11,
   "metadata": {},
   "outputs": [],
   "source": [
    "total_augmentation = create_new_data(total_skill_jbs, cutout_data, len(total_skill_jbs)) + create_new_data(total_skill_jbs, shuffle_data, len(total_skill_jbs))\n",
    "total_skill_jbs += total_augmentation"
   ]
  },
  {
   "cell_type": "code",
   "execution_count": 13,
   "metadata": {},
   "outputs": [
    {
     "name": "stdout",
     "output_type": "stream",
     "text": [
      "Saved JSON data to fastText_newdata/jbs_skill_augmentations.json\n"
     ]
    }
   ],
   "source": [
    "import json\n",
    "\n",
    "# Specify the file path where you want to save the JSON data\n",
    "file_path = 'fastText_newdata/jbs_skill_augmentations.json'\n",
    "\n",
    "# Open the file for writing and save the data as JSON\n",
    "with open(file_path, 'w') as json_file:\n",
    "    json.dump(total_skill_jbs, json_file, indent=4)\n",
    "\n",
    "print(f'Saved JSON data to {file_path}')\n"
   ]
  },
  {
   "cell_type": "markdown",
   "metadata": {},
   "source": [
    "# Model training"
   ]
  },
  {
   "cell_type": "code",
   "execution_count": 14,
   "metadata": {},
   "outputs": [],
   "source": [
    "# Define hyperparameters\n",
    "vector_size = 100  # Can adjust this to your desired vector size\n",
    "window_size = 5    # Context window size\n",
    "min_count = 3      # Minimum word frequency\n",
    "sg = 1             # Skip-gram model (1 for skip-gram, 0 for CBOW)\n",
    "hs = 0\n",
    "ns_exponent = 0.75\n",
    "# sorted_vocab = 1\n",
    "batch_words = 100\n",
    "min_n = 2\n",
    "max_n = 5\n",
    "bucket = 2000000\n",
    "shrink_windows = True\n",
    "alpha = 0.1\n",
    "\n",
    "workers = 2\n",
    "epochs = 100 # increase epoch doesn't change"
   ]
  },
  {
   "cell_type": "code",
   "execution_count": 15,
   "metadata": {},
   "outputs": [
    {
     "data": {
      "text/plain": [
       "(17575459, 28609900)"
      ]
     },
     "execution_count": 15,
     "metadata": {},
     "output_type": "execute_result"
    }
   ],
   "source": [
    "# Initialize and train the FastText model\n",
    "model = FastText(\n",
    "    vector_size=vector_size,\n",
    "    window=window_size,\n",
    "    min_count=min_count,\n",
    "    sg=sg,\n",
    "    hs=hs,\n",
    "    alpha=alpha,\n",
    "    ns_exponent=ns_exponent,\n",
    "    batch_words=batch_words,\n",
    "    min_n=min_n,\n",
    "    max_n=max_n,\n",
    "    bucket=bucket,\n",
    "    workers=workers,\n",
    "    epochs=epochs\n",
    ")\n",
    "\n",
    "model.build_vocab(corpus_iterable=data_skill)\n",
    "\n",
    "model.train(\n",
    "    corpus_iterable=data_skill,\n",
    "    total_words = model.corpus_total_words,\n",
    "    total_examples=len(data_skill),\n",
    "    epochs=model.epochs,\n",
    "    \n",
    ")\n"
   ]
  },
  {
   "cell_type": "markdown",
   "metadata": {},
   "source": [
    "# Test model"
   ]
  },
  {
   "cell_type": "code",
   "execution_count": 6,
   "metadata": {},
   "outputs": [
    {
     "data": {
      "text/plain": [
       "[('sap', 0.686120867729187),\n",
       " ('plant construction', 0.680181622505188),\n",
       " ('genomics', 0.6622642278671265),\n",
       " ('snowflake', 0.6429843306541443),\n",
       " ('scrum', 0.6354222297668457),\n",
       " ('obstetrics', 0.6297516822814941),\n",
       " ('mathematics', 0.6162903308868408),\n",
       " ('business intelligence', 0.5987536311149597),\n",
       " ('splunk', 0.5981040596961975),\n",
       " ('olap', 0.5967950820922852)]"
      ]
     },
     "execution_count": 6,
     "metadata": {},
     "output_type": "execute_result"
    }
   ],
   "source": [
    "vector = model.wv['html']  # get numpy vector of a word\n",
    "sims = model.wv.most_similar('hive', topn=10)  # get other similar words\n",
    "sims"
   ]
  },
  {
   "cell_type": "markdown",
   "metadata": {},
   "source": [
    "# Save model"
   ]
  },
  {
   "cell_type": "code",
   "execution_count": 16,
   "metadata": {},
   "outputs": [],
   "source": [
    "save_folder = 'fastText_newdata/1/'"
   ]
  },
  {
   "cell_type": "code",
   "execution_count": 17,
   "metadata": {},
   "outputs": [
    {
     "name": "stdout",
     "output_type": "stream",
     "text": [
      "Word vectors saved to fastText_newdata/1/word_vectors_fasttext.tsv\n",
      "Metadata saved to fastText_newdata/1/metadata_fasttext.tsv\n"
     ]
    }
   ],
   "source": [
    "word_vectors = model.wv\n",
    "\n",
    "vocab = list(word_vectors.index_to_key)\n",
    "\n",
    "# Specify the TSV file name\n",
    "tsv_file = save_folder + \"word_vectors_fasttext.tsv\"\n",
    "\n",
    "# Open the TSV file in write mode\n",
    "with open(tsv_file, \"w\", encoding=\"utf-8\") as file:\n",
    "    # file.write(\"word\\t\" + \"\\t\".join([str(i) for i in range(model.vector_size)]) + \"\\n\")\n",
    "\n",
    "    # Write word vectors\n",
    "    for word in vocab:\n",
    "        vector = \"\\t\".join(str(val) for val in word_vectors[word])\n",
    "        # file.write(f\"{word}\\t{vector}\\n\")\n",
    "        file.write(f\"{vector}\\n\")\n",
    "\n",
    "print(f\"Word vectors saved to {tsv_file}\")\n",
    "\n",
    "tsv_metadata = save_folder + 'metadata_fasttext.tsv'\n",
    "\n",
    "with open (tsv_metadata, \"w\", encoding='utf-8') as file:\n",
    "\n",
    "    file.write(\"word\")\n",
    "\n",
    "    for word in vocab:\n",
    "        file.write(f\"{word}\\n\")\n",
    "\n",
    "print(f\"Metadata saved to {tsv_metadata}\")"
   ]
  },
  {
   "cell_type": "code",
   "execution_count": 18,
   "metadata": {},
   "outputs": [],
   "source": [
    "model_name = save_folder + \"fasttext_model\"\n",
    "model.save(model_name)"
   ]
  },
  {
   "cell_type": "markdown",
   "metadata": {},
   "source": [
    "# End"
   ]
  }
 ],
 "metadata": {
  "kernelspec": {
   "display_name": "Python 3",
   "language": "python",
   "name": "python3"
  },
  "language_info": {
   "codemirror_mode": {
    "name": "ipython",
    "version": 3
   },
   "file_extension": ".py",
   "mimetype": "text/x-python",
   "name": "python",
   "nbconvert_exporter": "python",
   "pygments_lexer": "ipython3",
   "version": "3.11.0"
  },
  "orig_nbformat": 4
 },
 "nbformat": 4,
 "nbformat_minor": 2
}
