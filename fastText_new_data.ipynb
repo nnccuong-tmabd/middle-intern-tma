{
 "cells": [
  {
   "cell_type": "code",
   "execution_count": 1,
   "metadata": {},
   "outputs": [],
   "source": [
    "from gensim.models.phrases import Phrases, Phraser\n",
    "from gensim.models import FastText"
   ]
  },
  {
   "cell_type": "markdown",
   "metadata": {},
   "source": [
    "# Data"
   ]
  },
  {
   "cell_type": "code",
   "execution_count": 20,
   "metadata": {},
   "outputs": [],
   "source": [
    "import json\n",
    "\n",
    "# read file json data_skill_tensor.json\n",
    "\n",
    "with open('data//train/data_skill_tensor.json', 'r') as f:\n",
    "    data = json.load(f)\n",
    "\n",
    "f.close()\n",
    "\n",
    "data_skill = [job['skills'] for job in data]"
   ]
  },
  {
   "cell_type": "code",
   "execution_count": 21,
   "metadata": {},
   "outputs": [],
   "source": [
    "# load IT skill JDs\n",
    "def load_data_skill(filename):\n",
    "    with open(filename, 'r') as f:\n",
    "        data = json.load(f)\n",
    "\n",
    "    f.close()\n",
    "    \n",
    "    return list(data.values())\n",
    "\n",
    "skill1 = load_data_skill('data//train/IT_skill_JDs_p1.json')\n",
    "skill2 = load_data_skill('data/train/IT_skill_JDs_p1.json')"
   ]
  },
  {
   "cell_type": "code",
   "execution_count": 22,
   "metadata": {},
   "outputs": [],
   "source": [
    "def nomalize_skill(skill):\n",
    "    for i in range(len(skill)):\n",
    "        skill[i] = [item.lower() for item in skill[i]]\n",
    "    \n",
    "    return skill\n",
    "\n",
    "data_skill = nomalize_skill(data_skill)\n",
    "skill1 = nomalize_skill(skill1)\n",
    "skill2 = nomalize_skill(skill2)"
   ]
  },
  {
   "cell_type": "code",
   "execution_count": 23,
   "metadata": {},
   "outputs": [],
   "source": [
    "# concate three list\n",
    "total_skill_jbs = data_skill + skill1 + skill2"
   ]
  },
  {
   "cell_type": "markdown",
   "metadata": {},
   "source": [
    "# Data Agumentation"
   ]
  },
  {
   "cell_type": "code",
   "execution_count": 24,
   "metadata": {},
   "outputs": [],
   "source": [
    "import random\n",
    "import numpy as np\n",
    "\n",
    "def shuffle_data(skills, discard=0):\n",
    "    # Make a copy of the input list to avoid modifying the original list\n",
    "    shuffled_skills = skills.copy()\n",
    "    \n",
    "    # Shuffle the copy of the list in place\n",
    "    random.shuffle(shuffled_skills)\n",
    "    \n",
    "    return shuffled_skills\n",
    "\n",
    "def cutout_data(skills, mask_size=5):\n",
    "\n",
    "    cutout_skills = skills.copy()\n",
    "    \n",
    "    mask_size = min(mask_size, len(cutout_skills))\n",
    "    \n",
    "    cutout_index = random.sample(range(len(skills)), mask_size)\n",
    "    \n",
    "    for idx in cutout_index:\n",
    "        cutout_skills[idx] = ''\n",
    "        \n",
    "\n",
    "    cutout_skills = [x for x in cutout_skills if x != '']\n",
    "    \n",
    "    return cutout_skills\n"
   ]
  },
  {
   "cell_type": "code",
   "execution_count": 25,
   "metadata": {},
   "outputs": [],
   "source": [
    "def create_new_data(total_skills, func, num_samples=2100):\n",
    "\n",
    "    if num_samples > len(total_skills):\n",
    "        num_samples = len(total_skills) \n",
    "\n",
    "    skills_augmentation_collection = []\n",
    "    # pick random sample in skills jbs\n",
    "    random_indexs = random.sample(range(len(total_skills)), num_samples)\n",
    "    for index in random_indexs:\n",
    "        mask_size = 0\n",
    "        if func.__name__ == 'cutout_data':\n",
    "            mask_size = random.randint(0, int(len(total_skills[index])/2))\n",
    "\n",
    "        skills_augmentation_collection.append(func(total_skills[index], mask_size))\n",
    "\n",
    "    return skills_augmentation_collection"
   ]
  },
  {
   "cell_type": "code",
   "execution_count": 26,
   "metadata": {},
   "outputs": [],
   "source": [
    "skill1_augmentation = create_new_data(skill1, cutout_data) + create_new_data(skill1, shuffle_data)\n",
    "skill2_augmentation = create_new_data(skill2, cutout_data) + create_new_data(skill2, shuffle_data)\n",
    "total_skill_jbs += skill1_augmentation + skill2_augmentation\n",
    "\n",
    "total_augmentation = create_new_data(total_skill_jbs, cutout_data, len(total_skill_jbs)) + create_new_data(total_skill_jbs, shuffle_data, len(total_skill_jbs))\n",
    "total_skill_jbs += total_augmentation"
   ]
  },
  {
   "cell_type": "code",
   "execution_count": 8,
   "metadata": {},
   "outputs": [],
   "source": [
    "# skill1_augmentation = create_new_data(skill1, shuffle_data)\n",
    "# skill2_augmentation = create_new_data(skill2, shuffle_data)\n",
    "# total_skill_jbs += skill1_augmentation + skill2_augmentation\n",
    "\n",
    "# total_augmentation = create_new_data(total_skill_jbs, shuffle_data, len(total_skill_jbs))\n",
    "# total_skill_jbs += total_augmentation"
   ]
  },
  {
   "cell_type": "code",
   "execution_count": 27,
   "metadata": {},
   "outputs": [
    {
     "name": "stdout",
     "output_type": "stream",
     "text": [
      "Saved JSON data to data/jbs_skill_augmentations.json\n"
     ]
    }
   ],
   "source": [
    "# Specify the file path where you want to save the JSON data\n",
    "file_path = 'data/jbs_skill_augmentations.json'\n",
    "\n",
    "# Open the file for writing and save the data as JSON\n",
    "with open(file_path, 'w') as json_file:\n",
    "    json.dump(total_skill_jbs, json_file, indent=4)\n",
    "\n",
    "print(f'Saved JSON data to {file_path}')\n"
   ]
  },
  {
   "cell_type": "markdown",
   "metadata": {},
   "source": [
    "# Valid Function"
   ]
  },
  {
   "cell_type": "code",
   "execution_count": 28,
   "metadata": {},
   "outputs": [],
   "source": [
    "def model_prediction(model, skills, topn=5):\n",
    "    result = {}\n",
    "    for skill in skills:\n",
    "        topn_skills = [skill[0] for skill in model.wv.most_similar(skill, topn=topn)]\n",
    "\n",
    "        result[skill] = topn_skills\n",
    "\n",
    "    return result\n",
    "\n",
    "def valid_skill(prediction, valid_data): # prediction: dict, valid_data: dict\n",
    "    count = 0\n",
    "    for skill in prediction.keys():\n",
    "        for rlv_skill in prediction[skill]:\n",
    "            if rlv_skill in valid_data[skill]:\n",
    "                count += 1\n",
    "    \n",
    "    # find the number of skill in valid data\n",
    "    total_skills = len(valid_data) * 5\n",
    "    \n",
    "    return count/total_skills\n"
   ]
  },
  {
   "cell_type": "markdown",
   "metadata": {},
   "source": [
    "# Model training"
   ]
  },
  {
   "cell_type": "code",
   "execution_count": 14,
   "metadata": {},
   "outputs": [
    {
     "name": "stdout",
     "output_type": "stream",
     "text": [
      "Total number of hyperparameter combinations: 27648\n"
     ]
    }
   ],
   "source": [
    "import itertools\n",
    "\n",
    "# create hyperparameter for training fasttext model and use grid search to find best hyperparameter\n",
    "# Define hyperparameters\n",
    "vector_size = [100, 200, 300]  # Can adjust this to your desired vector size\n",
    "window_size = [5, 10, 15]    # Context window size\n",
    "min_count = [3, 5, 7]      # Minimum word frequency\n",
    "sg = [1, 0]             # Skip-gram model (1 for skip-gram, 0 for CBOW)\n",
    "hs = [0, 1]                # Using negative sampling (1 for HS, 0 for negative sampling)\n",
    "ns_exponent = [0, 1]    # The exponent used to shape the negative sampling distribution (0 for unigram, 1 for uniform)\n",
    "batch_words = [100]     # Number of words for each training batch\n",
    "min_n = [2, 3]             # Minimum character n-gram length\n",
    "max_n = [5, 6]             # Maximum character n-gram length\n",
    "bucket = [2000000, 3000000]      # Character n-grams are hashed into a fixed number of buckets, in order to limit the memory usage of the model. This option specifies the number of buckets used by the model\n",
    "shrink_windows = [True, False] # Whether to shrink the window size as training goes on. This usually improves the accuracy of word vectors\n",
    "alpha = [0.1, 0.2]           # The initial learning rate\n",
    "\n",
    "workers = [2]           # Number of worker threads to train the model\n",
    "epochs = [600]          # Number of epochs to train the model\n",
    "\n",
    "# Create combinations of hyperparameters\n",
    "hyperparameter_combinations = list(itertools.product(vector_size, window_size, min_count, sg, hs, ns_exponent, batch_words, min_n, max_n, bucket, shrink_windows, alpha, workers, epochs))\n",
    "\n",
    "# Print the total number of combinations\n",
    "print(f\"Total number of hyperparameter combinations: {len(hyperparameter_combinations)}\")"
   ]
  },
  {
   "cell_type": "code",
   "execution_count": 29,
   "metadata": {},
   "outputs": [],
   "source": [
    "# function train model fasttext\n",
    "def train_fasttext(skills_jbs,\n",
    "                   vector_size=100,\n",
    "                   window_size=5,\n",
    "                   min_count=3,\n",
    "                   sg=1,\n",
    "                   hs=0,\n",
    "                   ns_exponent=0.75,\n",
    "                   batch_words=100,\n",
    "                   min_n=3,\n",
    "                   max_n=6,\n",
    "                   bucket=2000000, \n",
    "                   shrink_windows=True,\n",
    "                   alpha=0.025,\n",
    "                   workers=2,\n",
    "                   epochs=100):\n",
    "\n",
    "    # Initialize and train the FastText model\n",
    "    model = FastText(\n",
    "        vector_size=vector_size,\n",
    "        window=window_size,\n",
    "        min_count=min_count,\n",
    "        sg=sg,\n",
    "        hs=hs,\n",
    "        alpha=alpha,\n",
    "        ns_exponent=ns_exponent,\n",
    "        batch_words=batch_words,\n",
    "        min_n=min_n,\n",
    "        max_n=max_n,\n",
    "        bucket=bucket,\n",
    "        shrink_windows=shrink_windows,\n",
    "        workers=workers,\n",
    "        epochs=epochs\n",
    "    )\n",
    "\n",
    "    model.build_vocab(corpus_iterable=skills_jbs)\n",
    "\n",
    "    model.train(\n",
    "        corpus_iterable=skills_jbs,\n",
    "        total_words = model.corpus_total_words,\n",
    "        total_examples=len(skills_jbs),\n",
    "        epochs=model.epochs,\n",
    "        \n",
    "    )\n",
    "\n",
    "    return model\n"
   ]
  },
  {
   "cell_type": "code",
   "execution_count": 30,
   "metadata": {},
   "outputs": [],
   "source": [
    "# Define hyperparameters\n",
    "vector_size = 300  # Can adjust this to your desired vector size\n",
    "window_size = 10    # Context window size\n",
    "min_count = 3      # Minimum word frequency\n",
    "sg = 1             # Skip-gram model (1 for skip-gram, 0 for CBOW)\n",
    "hs = 1                # Using negative sampling (1 for HS, 0 for negative sampling)\n",
    "ns_exponent = 1    # The exponent used to shape the negative sampling distribution (0 for unigram, 1 for uniform)\n",
    "batch_words = 100     # Number of words for each training batch\n",
    "min_n = 3             # Minimum character n-gram length\n",
    "max_n = 6             # Maximum character n-gram length\n",
    "bucket = 2000000      # Character n-grams are hashed into a fixed number of buckets, in order to limit the memory usage of the model. This option specifies the number of buckets used by the model\n",
    "shrink_windows = True # Whether to shrink the window size as training goes on. This usually improves the accuracy of word vectors\n",
    "alpha = 0.1           # The initial learning rate\n",
    "\n",
    "epochs = 1000          # Number of epochs to train the model"
   ]
  },
  {
   "cell_type": "code",
   "execution_count": 31,
   "metadata": {},
   "outputs": [],
   "source": [
    "import multiprocessing\n",
    "\n",
    "model = train_fasttext(skills_jbs=total_skill_jbs, vector_size=vector_size,\n",
    "                       window_size=window_size,\n",
    "                       workers=multiprocessing.cpu_count(),\n",
    "                       min_count=1,\n",
    "                       min_n=min_n,\n",
    "                       max_n=max_n,\n",
    "                       sg=1)"
   ]
  },
  {
   "cell_type": "code",
   "execution_count": null,
   "metadata": {},
   "outputs": [
    {
     "name": "stdout",
     "output_type": "stream",
     "text": [
      "Total valid skill: 1007\n"
     ]
    }
   ],
   "source": [
    "# valid data\n",
    "valid_data_path = 'data/valid/top_200_valid_automation.json'\n",
    "with open(valid_data_path, 'r') as f:\n",
    "    valid_data = json.load(f)\n",
    "\n",
    "f.close()\n",
    "\n",
    "# total valid skill\n",
    "total_valid_skill = 0\n",
    "for skill in valid_data.keys():\n",
    "    total_valid_skill += len(valid_data[skill])\n",
    "\n",
    "print(f'Total valid skill: {total_valid_skill}')"
   ]
  },
  {
   "cell_type": "code",
   "execution_count": 15,
   "metadata": {},
   "outputs": [
    {
     "name": "stdout",
     "output_type": "stream",
     "text": [
      "Accuracy: 0.13902681231380337\n"
     ]
    }
   ],
   "source": [
    "# valid model\n",
    "prediction = model_prediction(model, valid_data.keys())\n",
    "        \n",
    "accuracy = valid_skill(prediction, valid_data, total_valid_skill)\n",
    "\n",
    "print(f'Accuracy: {accuracy}')"
   ]
  },
  {
   "cell_type": "code",
   "execution_count": 19,
   "metadata": {},
   "outputs": [
    {
     "ename": "NameError",
     "evalue": "name 'parameters' is not defined",
     "output_type": "error",
     "traceback": [
      "\u001b[1;31m---------------------------------------------------------------------------\u001b[0m",
      "\u001b[1;31mNameError\u001b[0m                                 Traceback (most recent call last)",
      "\u001b[1;32md:\\middle-intern-tma\\fastText_new_data.ipynb Cell 23\u001b[0m line \u001b[0;36m2\n\u001b[0;32m     <a href='vscode-notebook-cell:/d%3A/middle-intern-tma/fastText_new_data.ipynb#X44sZmlsZQ%3D%3D?line=25'>26</a>\u001b[0m f\u001b[39m.\u001b[39mclose()\n\u001b[0;32m     <a href='vscode-notebook-cell:/d%3A/middle-intern-tma/fastText_new_data.ipynb#X44sZmlsZQ%3D%3D?line=27'>28</a>\u001b[0m \u001b[39mwith\u001b[39;00m \u001b[39mopen\u001b[39m(\u001b[39mf\u001b[39m\u001b[39m'\u001b[39m\u001b[39m{\u001b[39;00mmodel_path\u001b[39m}\u001b[39;00m\u001b[39m/\u001b[39m\u001b[39m{\u001b[39;00midx\u001b[39m}\u001b[39;00m\u001b[39m/parameters.txt\u001b[39m\u001b[39m'\u001b[39m, \u001b[39m'\u001b[39m\u001b[39mw\u001b[39m\u001b[39m'\u001b[39m, encoding\u001b[39m=\u001b[39m\u001b[39m'\u001b[39m\u001b[39mutf-8\u001b[39m\u001b[39m'\u001b[39m) \u001b[39mas\u001b[39;00m f:\n\u001b[1;32m---> <a href='vscode-notebook-cell:/d%3A/middle-intern-tma/fastText_new_data.ipynb#X44sZmlsZQ%3D%3D?line=28'>29</a>\u001b[0m     f\u001b[39m.\u001b[39mwrite(\u001b[39mstr\u001b[39m(parameters))\n\u001b[0;32m     <a href='vscode-notebook-cell:/d%3A/middle-intern-tma/fastText_new_data.ipynb#X44sZmlsZQ%3D%3D?line=29'>30</a>\u001b[0m f\u001b[39m.\u001b[39mclose()\n",
      "\u001b[1;31mNameError\u001b[0m: name 'parameters' is not defined"
     ]
    }
   ],
   "source": [
    "model_path = 'fastText_model_augmentation'\n",
    "idx = 2\n",
    "\n",
    "import os\n",
    "# save model\n",
    "if not os.path.exists(f'{model_path}/{idx}'):\n",
    "    os.makedirs(f'{model_path}/{idx}')\n",
    "\n",
    "model.save(f'{model_path}/{idx}/fasttext_model.model')\n",
    "\n",
    "# export model\n",
    "vocab = model.wv.key_to_index\n",
    "        \n",
    "with open(f'{model_path}/{idx}/vocab.tsv', \"w\", encoding='utf-8') as f:\n",
    "    # f.write(\"word\\n\")\n",
    "    for word in vocab:\n",
    "        f.write(f\"{word}\\n\")\n",
    "\n",
    "f.close()\n",
    "\n",
    "with open(f'{model_path}/{idx}/vectors.tsv', \"w\", encoding='utf-8') as f:\n",
    "    for word in vocab:\n",
    "        vector = \"\\t\".join(str(val) for val in model.wv[word])\n",
    "\n",
    "        f.write(f\"{vector}\\n\")\n",
    "f.close()\n",
    "\n",
    "with open(f'{model_path}/{idx}/parameters.txt', 'w', encoding='utf-8') as f:\n",
    "    f.write(str(parameters))\n",
    "f.close()"
   ]
  },
  {
   "cell_type": "markdown",
   "metadata": {},
   "source": [
    "## Grid search"
   ]
  },
  {
   "cell_type": "code",
   "execution_count": null,
   "metadata": {},
   "outputs": [],
   "source": [
    "import os\n",
    "\n",
    "def grid_search(model_path = 'fastText_model_augmentation'):\n",
    "    fasttext_models = []\n",
    "    accuracy_models = []\n",
    "    for idx, parameters in enumerate(hyperparameter_combinations):\n",
    "        print(f\"Training model with parameters: {parameters}\")\n",
    "        model = train_fasttext(total_skill_jbs, parameters[0], parameters[1], parameters[2],\n",
    "                    parameters[3], parameters[4], parameters[5],\n",
    "                    parameters[6], parameters[7], parameters[8],\n",
    "                    parameters[9], parameters[10], parameters[11],\n",
    "                    parameters[12], parameters[13])\n",
    "        fasttext_models.append(model)\n",
    "\n",
    "        # valid model\n",
    "        prediction = model_prediction(model, valid_data.keys())\n",
    "        \n",
    "        accuracy = valid_skill(prediction, valid_data, total_valid_skill)\n",
    "        accuracy_models.append(accuracy)\n",
    "\n",
    "        print(f'Accuracy: {accuracy}')\n",
    "\n",
    "        # save model\n",
    "        if not os.path.exists(f'{model_path}/{idx}'):\n",
    "            os.makedirs(f'{model_path}/{idx}')\n",
    "\n",
    "        model.save(f'{model_path}/{idx}/fasttext_model.model')\n",
    "\n",
    "        # export model\n",
    "        vocab = model.wv.key_to_index\n",
    "        \n",
    "        with open(f'{model_path}/{idx}/vocab.tsv', \"w\", encoding='utf-8') as f:\n",
    "            # f.write(\"word\\n\")\n",
    "            for word in vocab:\n",
    "                f.write(f\"{word}\\n\")\n",
    "\n",
    "        f.close()\n",
    "\n",
    "        with open(f'{model_path}/{idx}/vectors.tsv', \"w\", encoding='utf-8') as f:\n",
    "            for word in vocab:\n",
    "                vector = \"\\t\".join(str(val) for val in model.wv[word])\n",
    "\n",
    "                f.write(f\"{vector}\\n\")\n",
    "        f.close()\n",
    "\n",
    "        with open(f'{model_path}/{idx}/parameters.txt', 'w', encoding='utf-8') as f:\n",
    "            f.write(str(parameters))\n",
    "        f.close()\n",
    "        \n",
    "\n",
    "    # find best model\n",
    "    best_model = fasttext_models[np.argmax(accuracy_models)]\n",
    "    best_accuracy = max(accuracy_models)\n",
    "\n",
    "    # save best model\n",
    "    if not os.path.exists(f'{model_path}/best_model'):\n",
    "        os.makedirs(f'{model_path}/best_model')\n",
    "\n",
    "    best_model.save(f'{model_path}/best_model/fasttext_model.model')\n",
    "    # save best parameter\n",
    "    with open(f'{model_path}/best_model/best_parameter.txt', 'w') as f:\n",
    "        f.write(f'Best parameter: {hyperparameter_combinations[np.argmax(accuracy_models)]}\\n')\n",
    "        f.write(f'Best accuracy: {best_accuracy}')\n",
    "\n",
    "    return fasttext_models, accuracy_models"
   ]
  },
  {
   "cell_type": "code",
   "execution_count": 34,
   "metadata": {},
   "outputs": [
    {
     "name": "stdout",
     "output_type": "stream",
     "text": [
      "Accuracy: 0.20854021847070506\n"
     ]
    }
   ],
   "source": [
    "# model = fasttext_models[0]\n",
    "\n",
    "# prediction = model_prediction(model, valid_data.keys())\n",
    "    \n",
    "# accuracy = valid_skill(prediction, valid_data, total_valid_skill)\n",
    "# accuracy_models.append(accuracy)\n",
    "\n",
    "# print(f'Accuracy: {accuracy}')\n",
    "\n",
    "# # save model\n",
    "# if not os.path.exists(f'{model_path}/{idx}'):\n",
    "#     os.makedirs(f'{model_path}/{idx}')\n",
    "\n",
    "# model.save(f'{model_path}/{idx}/fasttext_model.model')\n",
    "\n",
    "# # export model\n",
    "# vocab = model.wv.key_to_index\n",
    "    \n",
    "# with open(f'{model_path}/{idx}/vocab.txt', \"w\", encoding='utf-8') as f:\n",
    "#     f.write(\"word\")\n",
    "#     for word in vocab:\n",
    "#         f.write(f\"{word}\\n\")\n",
    "\n",
    "# f.close()\n",
    "\n",
    "# with open(f'{model_path}/{idx}/vectors.txt', \"w\", encoding='utf-8') as f:\n",
    "#     for word in vocab:\n",
    "#         vector = \"\\t\".join(str(val) for val in model.wv[word])\n",
    "\n",
    "#         f.write(f\"{vector}\\n\")\n",
    "# f.close()\n",
    "\n",
    "# with open(f'{model_path}/{idx}/parameters.txt', 'w', encoding='utf-8') as f:\n",
    "#     f.write(str(parameters))\n",
    "# f.close()\n",
    "    "
   ]
  },
  {
   "cell_type": "markdown",
   "metadata": {},
   "source": [
    "# Test model"
   ]
  },
  {
   "cell_type": "code",
   "execution_count": 6,
   "metadata": {},
   "outputs": [
    {
     "data": {
      "text/plain": [
       "[('sap', 0.686120867729187),\n",
       " ('plant construction', 0.680181622505188),\n",
       " ('genomics', 0.6622642278671265),\n",
       " ('snowflake', 0.6429843306541443),\n",
       " ('scrum', 0.6354222297668457),\n",
       " ('obstetrics', 0.6297516822814941),\n",
       " ('mathematics', 0.6162903308868408),\n",
       " ('business intelligence', 0.5987536311149597),\n",
       " ('splunk', 0.5981040596961975),\n",
       " ('olap', 0.5967950820922852)]"
      ]
     },
     "execution_count": 6,
     "metadata": {},
     "output_type": "execute_result"
    }
   ],
   "source": [
    "vector = model.wv['html']  # get numpy vector of a word\n",
    "sims = model.wv.most_similar('hive', topn=10)  # get other similar words\n",
    "sims"
   ]
  },
  {
   "cell_type": "markdown",
   "metadata": {},
   "source": [
    "# Save model"
   ]
  },
  {
   "cell_type": "code",
   "execution_count": 16,
   "metadata": {},
   "outputs": [],
   "source": [
    "save_folder = 'fastText_newdata/1/'"
   ]
  },
  {
   "cell_type": "code",
   "execution_count": 17,
   "metadata": {},
   "outputs": [
    {
     "name": "stdout",
     "output_type": "stream",
     "text": [
      "Word vectors saved to fastText_newdata/1/word_vectors_fasttext.tsv\n",
      "Metadata saved to fastText_newdata/1/metadata_fasttext.tsv\n"
     ]
    }
   ],
   "source": [
    "word_vectors = model.wv\n",
    "\n",
    "vocab = list(word_vectors.index_to_key)\n",
    "\n",
    "tsv_file = save_folder + \"word_vectors_fasttext.tsv\"\n",
    "\n",
    "with open(tsv_file, \"w\", encoding=\"utf-8\") as file:\n",
    "\n",
    "    # Write word vectors\n",
    "    for word in vocab:\n",
    "        vector = \"\\t\".join(str(val) for val in word_vectors[word])\n",
    "\n",
    "        file.write(f\"{vector}\\n\")\n",
    "\n",
    "print(f\"Word vectors saved to {tsv_file}\")\n",
    "\n",
    "tsv_metadata = save_folder + 'metadata_fasttext.tsv'\n",
    "\n",
    "with open (tsv_metadata, \"w\", encoding='utf-8') as file:\n",
    "\n",
    "    file.write(\"word\")\n",
    "\n",
    "    for word in vocab:\n",
    "        file.write(f\"{word}\\n\")\n",
    "\n",
    "print(f\"Metadata saved to {tsv_metadata}\")"
   ]
  },
  {
   "cell_type": "code",
   "execution_count": 18,
   "metadata": {},
   "outputs": [],
   "source": [
    "model_name = save_folder + \"fasttext_model\"\n",
    "model.save(model_name)"
   ]
  },
  {
   "cell_type": "markdown",
   "metadata": {},
   "source": [
    "# End"
   ]
  }
 ],
 "metadata": {
  "kernelspec": {
   "display_name": "Python 3",
   "language": "python",
   "name": "python3"
  },
  "language_info": {
   "codemirror_mode": {
    "name": "ipython",
    "version": 3
   },
   "file_extension": ".py",
   "mimetype": "text/x-python",
   "name": "python",
   "nbconvert_exporter": "python",
   "pygments_lexer": "ipython3",
   "version": "3.11.5"
  },
  "orig_nbformat": 4
 },
 "nbformat": 4,
 "nbformat_minor": 2
}
