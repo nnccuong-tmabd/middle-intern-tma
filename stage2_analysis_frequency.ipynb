{
 "cells": [
  {
   "cell_type": "code",
   "execution_count": 19,
   "metadata": {},
   "outputs": [],
   "source": [
    "import json\n",
    "\n",
    "# load IT skill JDs\n",
    "def load_data_skill(filename):\n",
    "    with open(filename, 'r') as f:\n",
    "        data = json.load(f)\n",
    "\n",
    "    f.close()\n",
    "    \n",
    "    return list(data)\n",
    "\n",
    "total_skill_jds = load_data_skill('data/train/total_skill_jds.json')"
   ]
  },
  {
   "cell_type": "code",
   "execution_count": 20,
   "metadata": {},
   "outputs": [],
   "source": [
    "def nomalize_skill(skill):\n",
    "    for i in range(len(skill)):\n",
    "        skill[i] = [item.lower() for item in skill[i]]\n",
    "    \n",
    "    return skill\n",
    "\n",
    "total_skill_jds = nomalize_skill(total_skill_jds)"
   ]
  },
  {
   "cell_type": "markdown",
   "metadata": {},
   "source": [
    "# Find Frequency of each skill"
   ]
  },
  {
   "cell_type": "code",
   "execution_count": 22,
   "metadata": {},
   "outputs": [],
   "source": [
    "def get_frequency_skill(skills_jds):\n",
    "\n",
    "    frequency_skills = {}\n",
    "    for skills in skills_jds:\n",
    "        for skill in skills:\n",
    "            if skill not in list(frequency_skills.keys()):\n",
    "                frequency_skills[skill] = 1\n",
    "            else:\n",
    "                frequency_skills[skill] += 1\n",
    "\n",
    "     # Sort the dictionary by frequency in descending order\n",
    "    sorted_frequency_skills = dict(sorted(frequency_skills.items(), key=lambda item: item[1], reverse=True))\n",
    "    \n",
    "    return sorted_frequency_skills"
   ]
  },
  {
   "cell_type": "code",
   "execution_count": 23,
   "metadata": {},
   "outputs": [],
   "source": [
    "frequency_skills = get_frequency_skill(total_skill_jds)"
   ]
  },
  {
   "cell_type": "code",
   "execution_count": 24,
   "metadata": {},
   "outputs": [],
   "source": [
    "def get_frequency_skill(skills_jds):\n",
    "\n",
    "    frequency_skills = {}\n",
    "    for skills in skills_jds:\n",
    "        for skill in skills:\n",
    "            if skill not in list(frequency_skills.keys()):\n",
    "                frequency_skills[skill] = 1\n",
    "            else:\n",
    "                frequency_skills[skill] += 1\n",
    "\n",
    "     # Sort the dictionary by frequency in descending order\n",
    "    sorted_frequency_skills = dict(sorted(frequency_skills.items(), key=lambda item: item[1], reverse=True))\n",
    "    \n",
    "    return sorted_frequency_skills"
   ]
  },
  {
   "cell_type": "code",
   "execution_count": 33,
   "metadata": {},
   "outputs": [],
   "source": [
    "min_count = 2\n",
    "def filter_vocab_min_count(frequency_skills, min_count=min_count):\n",
    "    result = {}\n",
    "    for skills in frequency_skills.keys():\n",
    "\n",
    "        if frequency_skills[skills] >= min_count:\n",
    "            result[skills] = frequency_skills[skills]\n",
    "\n",
    "    return result\n",
    "\n",
    "filter_skills = filter_vocab_min_count(frequency_skills)"
   ]
  },
  {
   "cell_type": "code",
   "execution_count": 34,
   "metadata": {},
   "outputs": [
    {
     "data": {
      "text/plain": [
       "7994"
      ]
     },
     "execution_count": 34,
     "metadata": {},
     "output_type": "execute_result"
    }
   ],
   "source": [
    "len(frequency_skills)"
   ]
  },
  {
   "cell_type": "code",
   "execution_count": 35,
   "metadata": {},
   "outputs": [
    {
     "data": {
      "text/plain": [
       "7821"
      ]
     },
     "execution_count": 35,
     "metadata": {},
     "output_type": "execute_result"
    }
   ],
   "source": [
    "len(filter_skills)"
   ]
  },
  {
   "cell_type": "code",
   "execution_count": 36,
   "metadata": {},
   "outputs": [],
   "source": [
    "# find frequency of all skill when skill a is present\n",
    "def find_frequency_skill(skill, k=-1, total_skill_jds=total_skill_jds):\n",
    "    frequency = {}\n",
    "    for i in range(len(total_skill_jds)):\n",
    "        if skill in total_skill_jds[i]:\n",
    "            for s in total_skill_jds[i]:\n",
    "                if s in frequency:\n",
    "                    frequency[s] += 1\n",
    "                else:\n",
    "                    frequency[s] = 1\n",
    "\n",
    "    # sort frequency\n",
    "    frequency = {k: v for k, v in sorted(frequency.items(), key=lambda item: item[1], reverse=True)}\n",
    "\n",
    "    if k == -1:\n",
    "        return frequency\n",
    "    else:\n",
    "        # return top k skill and remove top 1 (skill a)\n",
    "        return {i: frequency[i] for i in list(frequency)[1:k+1]}"
   ]
  },
  {
   "cell_type": "code",
   "execution_count": 37,
   "metadata": {},
   "outputs": [],
   "source": [
    "def find_frequency_skill_around(skill, k=-1, size=3, total_skill_jds=total_skill_jds):\n",
    "    frequency = {}\n",
    "    for skills in total_skill_jds:\n",
    "        \n",
    "        if skill in skills:\n",
    "            # get sublist with size is from center to horizon\n",
    "            index = skills.index(skill)\n",
    "            sublist = list()\n",
    "            start=int\n",
    "            end=int\n",
    "            if len(skills) <= size * 2 + 1:\n",
    "                sublist = skills.copy()\n",
    "            else:\n",
    "                start = index - size\n",
    "                end = index + size\n",
    "                if start < 0:\n",
    "                    start = 0\n",
    "                if end > len(skills):\n",
    "                    end=len(skills)\n",
    "\n",
    "                sublist = skills[start:end].copy()\n",
    "\n",
    "            for s in sublist:\n",
    "                if s in frequency:\n",
    "                    frequency[s] += 1\n",
    "                else:\n",
    "                    frequency[s] = 1\n",
    "            \n",
    "        else:\n",
    "            continue\n",
    "\n",
    "    # sort frequency\n",
    "    frequency = {k: v for k, v in sorted(frequency.items(), key=lambda item: item[1], reverse=True)}\n",
    "\n",
    "    if k == -1:\n",
    "        return frequency\n",
    "    else:\n",
    "        # return top k skill and remove top 1 (skill a)\n",
    "        return {i: frequency[i] for i in list(frequency)[1:k+1]}"
   ]
  },
  {
   "cell_type": "code",
   "execution_count": 45,
   "metadata": {},
   "outputs": [],
   "source": [
    "valid_skills = {}\n",
    "\n",
    "for skill in frequency_skills.keys():\n",
    "\n",
    "    valid_skills[skill] = list(find_frequency_skill(skill, 20).keys())\n",
    "    #valid_skills[skill] = empty_skill\n",
    "\n",
    "import json\n",
    "\n",
    "json_path = 'data/valid/skills_valid.json'\n",
    "with open(json_path, 'w') as f:\n",
    "    json.dump(valid_skills, f, indent=4)"
   ]
  },
  {
   "cell_type": "code",
   "execution_count": 12,
   "metadata": {},
   "outputs": [
    {
     "data": {
      "text/plain": [
       "{'machine learning': 2990,\n",
       " 'sql': 2545,\n",
       " 'aws': 2482,\n",
       " 'data science': 2007,\n",
       " 'javascript': 2006,\n",
       " 'ai': 1988,\n",
       " 'business intelligence': 1971,\n",
       " 'java': 1684,\n",
       " 'docker': 1577,\n",
       " 'c++': 1518,\n",
       " 'devops': 1505,\n",
       " 'data analysis': 1504,\n",
       " 'algorithms': 1499,\n",
       " 'tableau': 1497,\n",
       " 'tensorflow': 1492,\n",
       " 'data warehouse': 1491,\n",
       " 'microsoft office': 1485,\n",
       " 'hadoop': 1483,\n",
       " 'agile': 1191,\n",
       " 'linux': 1138}"
      ]
     },
     "execution_count": 12,
     "metadata": {},
     "output_type": "execute_result"
    }
   ],
   "source": [
    "frequency = find_frequency_skill_around('python', 20, 5)\n",
    "frequency"
   ]
  },
  {
   "cell_type": "code",
   "execution_count": 39,
   "metadata": {},
   "outputs": [],
   "source": [
    "# get removed skill\n",
    "removed_skill = []\n",
    "for skill in frequency_skills.keys():\n",
    "    if frequency_skills[skill] < min_count:\n",
    "        removed_skill.append(skill)\n",
    "\n",
    "# save removed_skill\n",
    "\n",
    "json_path = 'data/removed_skill.json'\n",
    "with open(json_path, 'w') as f:\n",
    "    json.dump(removed_skill, f, indent=4)"
   ]
  },
  {
   "cell_type": "code",
   "execution_count": 40,
   "metadata": {},
   "outputs": [],
   "source": [
    "# save vocab\n",
    "import json\n",
    "\n",
    "json_path = 'data/vocab_no_filter_min_count.json'\n",
    "with open(json_path, 'w') as f:\n",
    "    json.dump(frequency_skills, f, indent=4)"
   ]
  },
  {
   "cell_type": "code",
   "execution_count": 41,
   "metadata": {},
   "outputs": [],
   "source": [
    "# save vocab\n",
    "import json\n",
    "\n",
    "json_path = 'data/vocab_filter_min_count.json'\n",
    "with open(json_path, 'w') as f:\n",
    "    json.dump(filter_skills, f, indent=4)"
   ]
  },
  {
   "cell_type": "markdown",
   "metadata": {},
   "source": [
    "# End"
   ]
  }
 ],
 "metadata": {
  "kernelspec": {
   "display_name": "Python 3",
   "language": "python",
   "name": "python3"
  },
  "language_info": {
   "codemirror_mode": {
    "name": "ipython",
    "version": 3
   },
   "file_extension": ".py",
   "mimetype": "text/x-python",
   "name": "python",
   "nbconvert_exporter": "python",
   "pygments_lexer": "ipython3",
   "version": "3.11.5"
  },
  "orig_nbformat": 4
 },
 "nbformat": 4,
 "nbformat_minor": 2
}
